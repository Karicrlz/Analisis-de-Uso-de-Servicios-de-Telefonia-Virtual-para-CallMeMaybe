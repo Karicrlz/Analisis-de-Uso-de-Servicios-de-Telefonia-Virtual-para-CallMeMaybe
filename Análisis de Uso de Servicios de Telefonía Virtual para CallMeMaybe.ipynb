{
 "cells": [
  {
   "cell_type": "markdown",
   "metadata": {},
   "source": [
    "# Análisis de Uso de Servicios de Telefonía Virtual para CallMeMaybe\n",
    "# Telecomunicaciones\n",
    "\n",
    "Presentación: https://docs.google.com/presentation/d/1Z-0Fh8oqQsWDSBRtsLVymQsG8m-YCE9a_bm-aoRGjNY/edit?usp=sharing"
   ]
  },
  {
   "cell_type": "markdown",
   "metadata": {},
   "source": [
    "## Introducción \n",
    "\n",
    "Con el fin de mejorar la eficiencia operativa y ofrecer un mejor servicio a sus clientes, CallMeMaybe ha comenzado a implementar una serie de herramientas y funcionalidades avanzadas. La compañía se dedica a proporcionar servicios de telefonía virtual a organizaciones que requieren una gestión eficaz de llamadas, ya sean entrantes o salientes. Además, la red de CallMeMaybe permite que los operadores se comuniquen entre sí mediante llamadas internas. En este contexto, se están utilizando datasets detallados para analizar el uso del servicio, lo que facilita la identificación de patrones y permite mejorar el monitoreo del desempeño de los operadores, contribuyendo a una mayor optimización del servicio.\n",
    "\n",
    "\n",
    "\n",
    "\n",
    "\n"
   ]
  },
  {
   "cell_type": "markdown",
   "metadata": {},
   "source": [
    "## Objetivo\n",
    "\n",
    "**Identificar operadores ineficaces** \n",
    "\n",
    "**Los opersdores del call center estan haciendo bien su trabajo**"
   ]
  },
  {
   "cell_type": "markdown",
   "metadata": {},
   "source": [
    "## Exploración de datos "
   ]
  },
  {
   "cell_type": "code",
   "execution_count": 1,
   "metadata": {},
   "outputs": [],
   "source": [
    "import pandas as pd \n",
    "from matplotlib import pyplot as plt\n",
    "from plotly import graph_objects as go\n",
    "import seaborn as sns \n",
    "from statsmodels.stats.proportion import proportions_ztest\n",
    "from scipy.stats import ttest_ind\n",
    "from scipy import stats as st\n",
    "import pandas as pd\n",
    "import numpy as np"
   ]
  },
  {
   "cell_type": "code",
   "execution_count": 2,
   "metadata": {},
   "outputs": [],
   "source": [
    "telecom_df = pd.read_csv('/datasets/telecom_dataset_us.csv')"
   ]
  },
  {
   "cell_type": "code",
   "execution_count": 3,
   "metadata": {},
   "outputs": [
    {
     "data": {
      "text/html": [
       "<div>\n",
       "<style scoped>\n",
       "    .dataframe tbody tr th:only-of-type {\n",
       "        vertical-align: middle;\n",
       "    }\n",
       "\n",
       "    .dataframe tbody tr th {\n",
       "        vertical-align: top;\n",
       "    }\n",
       "\n",
       "    .dataframe thead th {\n",
       "        text-align: right;\n",
       "    }\n",
       "</style>\n",
       "<table border=\"1\" class=\"dataframe\">\n",
       "  <thead>\n",
       "    <tr style=\"text-align: right;\">\n",
       "      <th></th>\n",
       "      <th>user_id</th>\n",
       "      <th>date</th>\n",
       "      <th>direction</th>\n",
       "      <th>internal</th>\n",
       "      <th>operator_id</th>\n",
       "      <th>is_missed_call</th>\n",
       "      <th>calls_count</th>\n",
       "      <th>call_duration</th>\n",
       "      <th>total_call_duration</th>\n",
       "    </tr>\n",
       "  </thead>\n",
       "  <tbody>\n",
       "    <tr>\n",
       "      <th>0</th>\n",
       "      <td>166377</td>\n",
       "      <td>2019-08-04 00:00:00+03:00</td>\n",
       "      <td>in</td>\n",
       "      <td>False</td>\n",
       "      <td>NaN</td>\n",
       "      <td>True</td>\n",
       "      <td>2</td>\n",
       "      <td>0</td>\n",
       "      <td>4</td>\n",
       "    </tr>\n",
       "    <tr>\n",
       "      <th>1</th>\n",
       "      <td>166377</td>\n",
       "      <td>2019-08-05 00:00:00+03:00</td>\n",
       "      <td>out</td>\n",
       "      <td>True</td>\n",
       "      <td>880022.0</td>\n",
       "      <td>True</td>\n",
       "      <td>3</td>\n",
       "      <td>0</td>\n",
       "      <td>5</td>\n",
       "    </tr>\n",
       "    <tr>\n",
       "      <th>2</th>\n",
       "      <td>166377</td>\n",
       "      <td>2019-08-05 00:00:00+03:00</td>\n",
       "      <td>out</td>\n",
       "      <td>True</td>\n",
       "      <td>880020.0</td>\n",
       "      <td>True</td>\n",
       "      <td>1</td>\n",
       "      <td>0</td>\n",
       "      <td>1</td>\n",
       "    </tr>\n",
       "    <tr>\n",
       "      <th>3</th>\n",
       "      <td>166377</td>\n",
       "      <td>2019-08-05 00:00:00+03:00</td>\n",
       "      <td>out</td>\n",
       "      <td>True</td>\n",
       "      <td>880020.0</td>\n",
       "      <td>False</td>\n",
       "      <td>1</td>\n",
       "      <td>10</td>\n",
       "      <td>18</td>\n",
       "    </tr>\n",
       "    <tr>\n",
       "      <th>4</th>\n",
       "      <td>166377</td>\n",
       "      <td>2019-08-05 00:00:00+03:00</td>\n",
       "      <td>out</td>\n",
       "      <td>False</td>\n",
       "      <td>880022.0</td>\n",
       "      <td>True</td>\n",
       "      <td>3</td>\n",
       "      <td>0</td>\n",
       "      <td>25</td>\n",
       "    </tr>\n",
       "    <tr>\n",
       "      <th>...</th>\n",
       "      <td>...</td>\n",
       "      <td>...</td>\n",
       "      <td>...</td>\n",
       "      <td>...</td>\n",
       "      <td>...</td>\n",
       "      <td>...</td>\n",
       "      <td>...</td>\n",
       "      <td>...</td>\n",
       "      <td>...</td>\n",
       "    </tr>\n",
       "    <tr>\n",
       "      <th>53897</th>\n",
       "      <td>168606</td>\n",
       "      <td>2019-11-10 00:00:00+03:00</td>\n",
       "      <td>out</td>\n",
       "      <td>True</td>\n",
       "      <td>957922.0</td>\n",
       "      <td>True</td>\n",
       "      <td>1</td>\n",
       "      <td>0</td>\n",
       "      <td>38</td>\n",
       "    </tr>\n",
       "    <tr>\n",
       "      <th>53898</th>\n",
       "      <td>168606</td>\n",
       "      <td>2019-11-11 00:00:00+03:00</td>\n",
       "      <td>out</td>\n",
       "      <td>True</td>\n",
       "      <td>957922.0</td>\n",
       "      <td>False</td>\n",
       "      <td>2</td>\n",
       "      <td>479</td>\n",
       "      <td>501</td>\n",
       "    </tr>\n",
       "    <tr>\n",
       "      <th>53899</th>\n",
       "      <td>168606</td>\n",
       "      <td>2019-11-15 00:00:00+03:00</td>\n",
       "      <td>out</td>\n",
       "      <td>True</td>\n",
       "      <td>957922.0</td>\n",
       "      <td>False</td>\n",
       "      <td>4</td>\n",
       "      <td>3130</td>\n",
       "      <td>3190</td>\n",
       "    </tr>\n",
       "    <tr>\n",
       "      <th>53900</th>\n",
       "      <td>168606</td>\n",
       "      <td>2019-11-15 00:00:00+03:00</td>\n",
       "      <td>out</td>\n",
       "      <td>True</td>\n",
       "      <td>957922.0</td>\n",
       "      <td>False</td>\n",
       "      <td>4</td>\n",
       "      <td>3130</td>\n",
       "      <td>3190</td>\n",
       "    </tr>\n",
       "    <tr>\n",
       "      <th>53901</th>\n",
       "      <td>168606</td>\n",
       "      <td>2019-11-19 00:00:00+03:00</td>\n",
       "      <td>in</td>\n",
       "      <td>False</td>\n",
       "      <td>NaN</td>\n",
       "      <td>True</td>\n",
       "      <td>2</td>\n",
       "      <td>0</td>\n",
       "      <td>64</td>\n",
       "    </tr>\n",
       "  </tbody>\n",
       "</table>\n",
       "<p>53902 rows × 9 columns</p>\n",
       "</div>"
      ],
      "text/plain": [
       "       user_id                       date direction internal  operator_id  \\\n",
       "0       166377  2019-08-04 00:00:00+03:00        in    False          NaN   \n",
       "1       166377  2019-08-05 00:00:00+03:00       out     True     880022.0   \n",
       "2       166377  2019-08-05 00:00:00+03:00       out     True     880020.0   \n",
       "3       166377  2019-08-05 00:00:00+03:00       out     True     880020.0   \n",
       "4       166377  2019-08-05 00:00:00+03:00       out    False     880022.0   \n",
       "...        ...                        ...       ...      ...          ...   \n",
       "53897   168606  2019-11-10 00:00:00+03:00       out     True     957922.0   \n",
       "53898   168606  2019-11-11 00:00:00+03:00       out     True     957922.0   \n",
       "53899   168606  2019-11-15 00:00:00+03:00       out     True     957922.0   \n",
       "53900   168606  2019-11-15 00:00:00+03:00       out     True     957922.0   \n",
       "53901   168606  2019-11-19 00:00:00+03:00        in    False          NaN   \n",
       "\n",
       "       is_missed_call  calls_count  call_duration  total_call_duration  \n",
       "0                True            2              0                    4  \n",
       "1                True            3              0                    5  \n",
       "2                True            1              0                    1  \n",
       "3               False            1             10                   18  \n",
       "4                True            3              0                   25  \n",
       "...               ...          ...            ...                  ...  \n",
       "53897            True            1              0                   38  \n",
       "53898           False            2            479                  501  \n",
       "53899           False            4           3130                 3190  \n",
       "53900           False            4           3130                 3190  \n",
       "53901            True            2              0                   64  \n",
       "\n",
       "[53902 rows x 9 columns]"
      ]
     },
     "execution_count": 3,
     "metadata": {},
     "output_type": "execute_result"
    }
   ],
   "source": [
    "telecom_df"
   ]
  },
  {
   "cell_type": "code",
   "execution_count": 4,
   "metadata": {},
   "outputs": [
    {
     "name": "stdout",
     "output_type": "stream",
     "text": [
      "<class 'pandas.core.frame.DataFrame'>\n",
      "RangeIndex: 53902 entries, 0 to 53901\n",
      "Data columns (total 9 columns):\n",
      " #   Column               Non-Null Count  Dtype  \n",
      "---  ------               --------------  -----  \n",
      " 0   user_id              53902 non-null  int64  \n",
      " 1   date                 53902 non-null  object \n",
      " 2   direction            53902 non-null  object \n",
      " 3   internal             53785 non-null  object \n",
      " 4   operator_id          45730 non-null  float64\n",
      " 5   is_missed_call       53902 non-null  bool   \n",
      " 6   calls_count          53902 non-null  int64  \n",
      " 7   call_duration        53902 non-null  int64  \n",
      " 8   total_call_duration  53902 non-null  int64  \n",
      "dtypes: bool(1), float64(1), int64(4), object(3)\n",
      "memory usage: 3.3+ MB\n"
     ]
    }
   ],
   "source": [
    "telecom_df.info() "
   ]
  },
  {
   "cell_type": "markdown",
   "metadata": {},
   "source": [
    "Es necesario cambiar el formato de las columnas, como en el caso de fecha. "
   ]
  },
  {
   "cell_type": "code",
   "execution_count": 5,
   "metadata": {},
   "outputs": [],
   "source": [
    "telecom_df['date'] = pd.to_datetime(telecom_df['date'])"
   ]
  },
  {
   "cell_type": "markdown",
   "metadata": {},
   "source": [
    "Tenemos un formato de datetime64[ns, pytz.FixedOffset(180)] lo que significa un desplazamiento de +3 horas con respecto al Tiempo Universal Coordinado (UTC), o UTC+3.\n",
    "\n",
    "especificare el formato que necesito con la función .dt.strftime('%Y-%m-%d') y posteriormente volvere a usar la función to_datetime para transformar el formato ."
   ]
  },
  {
   "cell_type": "code",
   "execution_count": 6,
   "metadata": {},
   "outputs": [],
   "source": [
    "telecom_df['date'] =  telecom_df['date'].dt.strftime('%Y-%m-%d')"
   ]
  },
  {
   "cell_type": "code",
   "execution_count": 7,
   "metadata": {},
   "outputs": [],
   "source": [
    "telecom_df['user_id'] = telecom_df['user_id'].astype(str)"
   ]
  },
  {
   "cell_type": "code",
   "execution_count": 8,
   "metadata": {},
   "outputs": [
    {
     "data": {
      "text/html": [
       "<div>\n",
       "<style scoped>\n",
       "    .dataframe tbody tr th:only-of-type {\n",
       "        vertical-align: middle;\n",
       "    }\n",
       "\n",
       "    .dataframe tbody tr th {\n",
       "        vertical-align: top;\n",
       "    }\n",
       "\n",
       "    .dataframe thead th {\n",
       "        text-align: right;\n",
       "    }\n",
       "</style>\n",
       "<table border=\"1\" class=\"dataframe\">\n",
       "  <thead>\n",
       "    <tr style=\"text-align: right;\">\n",
       "      <th></th>\n",
       "      <th>user_id</th>\n",
       "      <th>date</th>\n",
       "      <th>direction</th>\n",
       "      <th>internal</th>\n",
       "      <th>operator_id</th>\n",
       "      <th>is_missed_call</th>\n",
       "      <th>calls_count</th>\n",
       "      <th>call_duration</th>\n",
       "      <th>total_call_duration</th>\n",
       "    </tr>\n",
       "  </thead>\n",
       "  <tbody>\n",
       "    <tr>\n",
       "      <th>0</th>\n",
       "      <td>166377</td>\n",
       "      <td>2019-08-04</td>\n",
       "      <td>in</td>\n",
       "      <td>False</td>\n",
       "      <td>NaN</td>\n",
       "      <td>True</td>\n",
       "      <td>2</td>\n",
       "      <td>0</td>\n",
       "      <td>4</td>\n",
       "    </tr>\n",
       "    <tr>\n",
       "      <th>1</th>\n",
       "      <td>166377</td>\n",
       "      <td>2019-08-05</td>\n",
       "      <td>out</td>\n",
       "      <td>True</td>\n",
       "      <td>880022.0</td>\n",
       "      <td>True</td>\n",
       "      <td>3</td>\n",
       "      <td>0</td>\n",
       "      <td>5</td>\n",
       "    </tr>\n",
       "    <tr>\n",
       "      <th>2</th>\n",
       "      <td>166377</td>\n",
       "      <td>2019-08-05</td>\n",
       "      <td>out</td>\n",
       "      <td>True</td>\n",
       "      <td>880020.0</td>\n",
       "      <td>True</td>\n",
       "      <td>1</td>\n",
       "      <td>0</td>\n",
       "      <td>1</td>\n",
       "    </tr>\n",
       "    <tr>\n",
       "      <th>3</th>\n",
       "      <td>166377</td>\n",
       "      <td>2019-08-05</td>\n",
       "      <td>out</td>\n",
       "      <td>True</td>\n",
       "      <td>880020.0</td>\n",
       "      <td>False</td>\n",
       "      <td>1</td>\n",
       "      <td>10</td>\n",
       "      <td>18</td>\n",
       "    </tr>\n",
       "    <tr>\n",
       "      <th>4</th>\n",
       "      <td>166377</td>\n",
       "      <td>2019-08-05</td>\n",
       "      <td>out</td>\n",
       "      <td>False</td>\n",
       "      <td>880022.0</td>\n",
       "      <td>True</td>\n",
       "      <td>3</td>\n",
       "      <td>0</td>\n",
       "      <td>25</td>\n",
       "    </tr>\n",
       "  </tbody>\n",
       "</table>\n",
       "</div>"
      ],
      "text/plain": [
       "  user_id        date direction internal  operator_id  is_missed_call  \\\n",
       "0  166377  2019-08-04        in    False          NaN            True   \n",
       "1  166377  2019-08-05       out     True     880022.0            True   \n",
       "2  166377  2019-08-05       out     True     880020.0            True   \n",
       "3  166377  2019-08-05       out     True     880020.0           False   \n",
       "4  166377  2019-08-05       out    False     880022.0            True   \n",
       "\n",
       "   calls_count  call_duration  total_call_duration  \n",
       "0            2              0                    4  \n",
       "1            3              0                    5  \n",
       "2            1              0                    1  \n",
       "3            1             10                   18  \n",
       "4            3              0                   25  "
      ]
     },
     "execution_count": 8,
     "metadata": {},
     "output_type": "execute_result"
    }
   ],
   "source": [
    "telecom_df.head() "
   ]
  },
  {
   "cell_type": "code",
   "execution_count": 9,
   "metadata": {},
   "outputs": [],
   "source": [
    "telecom_df['date'] = pd.to_datetime(telecom_df['date'])"
   ]
  },
  {
   "cell_type": "code",
   "execution_count": 10,
   "metadata": {},
   "outputs": [
    {
     "name": "stdout",
     "output_type": "stream",
     "text": [
      "<class 'pandas.core.frame.DataFrame'>\n",
      "RangeIndex: 53902 entries, 0 to 53901\n",
      "Data columns (total 9 columns):\n",
      " #   Column               Non-Null Count  Dtype         \n",
      "---  ------               --------------  -----         \n",
      " 0   user_id              53902 non-null  object        \n",
      " 1   date                 53902 non-null  datetime64[ns]\n",
      " 2   direction            53902 non-null  object        \n",
      " 3   internal             53785 non-null  object        \n",
      " 4   operator_id          45730 non-null  float64       \n",
      " 5   is_missed_call       53902 non-null  bool          \n",
      " 6   calls_count          53902 non-null  int64         \n",
      " 7   call_duration        53902 non-null  int64         \n",
      " 8   total_call_duration  53902 non-null  int64         \n",
      "dtypes: bool(1), datetime64[ns](1), float64(1), int64(3), object(3)\n",
      "memory usage: 3.3+ MB\n"
     ]
    }
   ],
   "source": [
    "telecom_df.info() "
   ]
  },
  {
   "cell_type": "markdown",
   "metadata": {},
   "source": [
    "Parece que tenemos dos columnas que les falta información ... veamos que pasa "
   ]
  },
  {
   "cell_type": "code",
   "execution_count": 11,
   "metadata": {},
   "outputs": [
    {
     "data": {
      "text/plain": [
       "8172"
      ]
     },
     "execution_count": 11,
     "metadata": {},
     "output_type": "execute_result"
    }
   ],
   "source": [
    "telecom_df['operator_id'].isna().sum() "
   ]
  },
  {
   "cell_type": "code",
   "execution_count": 12,
   "metadata": {},
   "outputs": [
    {
     "data": {
      "text/html": [
       "<div>\n",
       "<style scoped>\n",
       "    .dataframe tbody tr th:only-of-type {\n",
       "        vertical-align: middle;\n",
       "    }\n",
       "\n",
       "    .dataframe tbody tr th {\n",
       "        vertical-align: top;\n",
       "    }\n",
       "\n",
       "    .dataframe thead th {\n",
       "        text-align: right;\n",
       "    }\n",
       "</style>\n",
       "<table border=\"1\" class=\"dataframe\">\n",
       "  <thead>\n",
       "    <tr style=\"text-align: right;\">\n",
       "      <th></th>\n",
       "      <th>user_id</th>\n",
       "      <th>date</th>\n",
       "      <th>direction</th>\n",
       "      <th>internal</th>\n",
       "      <th>operator_id</th>\n",
       "      <th>is_missed_call</th>\n",
       "      <th>calls_count</th>\n",
       "      <th>call_duration</th>\n",
       "      <th>total_call_duration</th>\n",
       "    </tr>\n",
       "  </thead>\n",
       "  <tbody>\n",
       "    <tr>\n",
       "      <th>0</th>\n",
       "      <td>166377</td>\n",
       "      <td>2019-08-04</td>\n",
       "      <td>in</td>\n",
       "      <td>False</td>\n",
       "      <td>NaN</td>\n",
       "      <td>True</td>\n",
       "      <td>2</td>\n",
       "      <td>0</td>\n",
       "      <td>4</td>\n",
       "    </tr>\n",
       "    <tr>\n",
       "      <th>7</th>\n",
       "      <td>166377</td>\n",
       "      <td>2019-08-05</td>\n",
       "      <td>in</td>\n",
       "      <td>False</td>\n",
       "      <td>NaN</td>\n",
       "      <td>True</td>\n",
       "      <td>6</td>\n",
       "      <td>0</td>\n",
       "      <td>35</td>\n",
       "    </tr>\n",
       "    <tr>\n",
       "      <th>9</th>\n",
       "      <td>166377</td>\n",
       "      <td>2019-08-06</td>\n",
       "      <td>in</td>\n",
       "      <td>False</td>\n",
       "      <td>NaN</td>\n",
       "      <td>True</td>\n",
       "      <td>4</td>\n",
       "      <td>0</td>\n",
       "      <td>62</td>\n",
       "    </tr>\n",
       "    <tr>\n",
       "      <th>17</th>\n",
       "      <td>166377</td>\n",
       "      <td>2019-08-07</td>\n",
       "      <td>in</td>\n",
       "      <td>False</td>\n",
       "      <td>NaN</td>\n",
       "      <td>True</td>\n",
       "      <td>2</td>\n",
       "      <td>0</td>\n",
       "      <td>24</td>\n",
       "    </tr>\n",
       "    <tr>\n",
       "      <th>27</th>\n",
       "      <td>166377</td>\n",
       "      <td>2019-08-12</td>\n",
       "      <td>in</td>\n",
       "      <td>False</td>\n",
       "      <td>NaN</td>\n",
       "      <td>True</td>\n",
       "      <td>2</td>\n",
       "      <td>0</td>\n",
       "      <td>34</td>\n",
       "    </tr>\n",
       "    <tr>\n",
       "      <th>...</th>\n",
       "      <td>...</td>\n",
       "      <td>...</td>\n",
       "      <td>...</td>\n",
       "      <td>...</td>\n",
       "      <td>...</td>\n",
       "      <td>...</td>\n",
       "      <td>...</td>\n",
       "      <td>...</td>\n",
       "      <td>...</td>\n",
       "    </tr>\n",
       "    <tr>\n",
       "      <th>53876</th>\n",
       "      <td>168601</td>\n",
       "      <td>2019-11-27</td>\n",
       "      <td>in</td>\n",
       "      <td>False</td>\n",
       "      <td>NaN</td>\n",
       "      <td>True</td>\n",
       "      <td>2</td>\n",
       "      <td>0</td>\n",
       "      <td>39</td>\n",
       "    </tr>\n",
       "    <tr>\n",
       "      <th>53880</th>\n",
       "      <td>168601</td>\n",
       "      <td>2019-11-28</td>\n",
       "      <td>in</td>\n",
       "      <td>False</td>\n",
       "      <td>NaN</td>\n",
       "      <td>True</td>\n",
       "      <td>1</td>\n",
       "      <td>0</td>\n",
       "      <td>19</td>\n",
       "    </tr>\n",
       "    <tr>\n",
       "      <th>53889</th>\n",
       "      <td>168603</td>\n",
       "      <td>2019-11-28</td>\n",
       "      <td>in</td>\n",
       "      <td>False</td>\n",
       "      <td>NaN</td>\n",
       "      <td>True</td>\n",
       "      <td>1</td>\n",
       "      <td>0</td>\n",
       "      <td>30</td>\n",
       "    </tr>\n",
       "    <tr>\n",
       "      <th>53893</th>\n",
       "      <td>168606</td>\n",
       "      <td>2019-11-08</td>\n",
       "      <td>in</td>\n",
       "      <td>False</td>\n",
       "      <td>NaN</td>\n",
       "      <td>True</td>\n",
       "      <td>6</td>\n",
       "      <td>0</td>\n",
       "      <td>121</td>\n",
       "    </tr>\n",
       "    <tr>\n",
       "      <th>53901</th>\n",
       "      <td>168606</td>\n",
       "      <td>2019-11-19</td>\n",
       "      <td>in</td>\n",
       "      <td>False</td>\n",
       "      <td>NaN</td>\n",
       "      <td>True</td>\n",
       "      <td>2</td>\n",
       "      <td>0</td>\n",
       "      <td>64</td>\n",
       "    </tr>\n",
       "  </tbody>\n",
       "</table>\n",
       "<p>8172 rows × 9 columns</p>\n",
       "</div>"
      ],
      "text/plain": [
       "      user_id       date direction internal  operator_id  is_missed_call  \\\n",
       "0      166377 2019-08-04        in    False          NaN            True   \n",
       "7      166377 2019-08-05        in    False          NaN            True   \n",
       "9      166377 2019-08-06        in    False          NaN            True   \n",
       "17     166377 2019-08-07        in    False          NaN            True   \n",
       "27     166377 2019-08-12        in    False          NaN            True   \n",
       "...       ...        ...       ...      ...          ...             ...   \n",
       "53876  168601 2019-11-27        in    False          NaN            True   \n",
       "53880  168601 2019-11-28        in    False          NaN            True   \n",
       "53889  168603 2019-11-28        in    False          NaN            True   \n",
       "53893  168606 2019-11-08        in    False          NaN            True   \n",
       "53901  168606 2019-11-19        in    False          NaN            True   \n",
       "\n",
       "       calls_count  call_duration  total_call_duration  \n",
       "0                2              0                    4  \n",
       "7                6              0                   35  \n",
       "9                4              0                   62  \n",
       "17               2              0                   24  \n",
       "27               2              0                   34  \n",
       "...            ...            ...                  ...  \n",
       "53876            2              0                   39  \n",
       "53880            1              0                   19  \n",
       "53889            1              0                   30  \n",
       "53893            6              0                  121  \n",
       "53901            2              0                   64  \n",
       "\n",
       "[8172 rows x 9 columns]"
      ]
     },
     "execution_count": 12,
     "metadata": {},
     "output_type": "execute_result"
    }
   ],
   "source": [
    "telecom_df[telecom_df['operator_id'].isna()]"
   ]
  },
  {
   "cell_type": "markdown",
   "metadata": {},
   "source": [
    "Son demasiados operadores que no estan... \n",
    "Como no sabemos de quienes son y son nuestros objetivos a eveluar se decidio eliminar esto datos para evitar que falle nuestro analisis "
   ]
  },
  {
   "cell_type": "code",
   "execution_count": 13,
   "metadata": {},
   "outputs": [
    {
     "data": {
      "text/plain": [
       "117"
      ]
     },
     "execution_count": 13,
     "metadata": {},
     "output_type": "execute_result"
    }
   ],
   "source": [
    "telecom_df['internal'].isna().sum()"
   ]
  },
  {
   "cell_type": "markdown",
   "metadata": {},
   "source": [
    "Nuevamente otra columna al que le faltan datos ... aunque puede que esto no afecte a todo nuestro análisis. \n",
    "Aunque no se borre remplazaremos los datos."
   ]
  },
  {
   "cell_type": "code",
   "execution_count": 14,
   "metadata": {},
   "outputs": [],
   "source": [
    "telecom_df['internal'].fillna('Otro', inplace=True)\n",
    "telecom_df['operator_id'].fillna('-', inplace=True)"
   ]
  },
  {
   "cell_type": "code",
   "execution_count": 15,
   "metadata": {},
   "outputs": [
    {
     "data": {
      "text/plain": [
       "4900"
      ]
     },
     "execution_count": 15,
     "metadata": {},
     "output_type": "execute_result"
    }
   ],
   "source": [
    "telecom_df.duplicated().sum()"
   ]
  },
  {
   "cell_type": "markdown",
   "metadata": {},
   "source": [
    "Hay 4900 duplicados, los borraremos para evitar algun sesgo en los resultados"
   ]
  },
  {
   "cell_type": "code",
   "execution_count": 16,
   "metadata": {},
   "outputs": [
    {
     "data": {
      "text/plain": [
       "0"
      ]
     },
     "execution_count": 16,
     "metadata": {},
     "output_type": "execute_result"
    }
   ],
   "source": [
    "telecom_df.drop_duplicates(inplace = True)\n",
    "\n",
    "\n",
    "(telecom_df.duplicated().sum())"
   ]
  },
  {
   "cell_type": "code",
   "execution_count": 17,
   "metadata": {},
   "outputs": [],
   "source": [
    "clients_df =pd.read_csv('/datasets/telecom_clients_us.csv')"
   ]
  },
  {
   "cell_type": "code",
   "execution_count": 18,
   "metadata": {},
   "outputs": [
    {
     "data": {
      "text/html": [
       "<div>\n",
       "<style scoped>\n",
       "    .dataframe tbody tr th:only-of-type {\n",
       "        vertical-align: middle;\n",
       "    }\n",
       "\n",
       "    .dataframe tbody tr th {\n",
       "        vertical-align: top;\n",
       "    }\n",
       "\n",
       "    .dataframe thead th {\n",
       "        text-align: right;\n",
       "    }\n",
       "</style>\n",
       "<table border=\"1\" class=\"dataframe\">\n",
       "  <thead>\n",
       "    <tr style=\"text-align: right;\">\n",
       "      <th></th>\n",
       "      <th>user_id</th>\n",
       "      <th>tariff_plan</th>\n",
       "      <th>date_start</th>\n",
       "    </tr>\n",
       "  </thead>\n",
       "  <tbody>\n",
       "    <tr>\n",
       "      <th>0</th>\n",
       "      <td>166713</td>\n",
       "      <td>A</td>\n",
       "      <td>2019-08-15</td>\n",
       "    </tr>\n",
       "    <tr>\n",
       "      <th>1</th>\n",
       "      <td>166901</td>\n",
       "      <td>A</td>\n",
       "      <td>2019-08-23</td>\n",
       "    </tr>\n",
       "    <tr>\n",
       "      <th>2</th>\n",
       "      <td>168527</td>\n",
       "      <td>A</td>\n",
       "      <td>2019-10-29</td>\n",
       "    </tr>\n",
       "    <tr>\n",
       "      <th>3</th>\n",
       "      <td>167097</td>\n",
       "      <td>A</td>\n",
       "      <td>2019-09-01</td>\n",
       "    </tr>\n",
       "    <tr>\n",
       "      <th>4</th>\n",
       "      <td>168193</td>\n",
       "      <td>A</td>\n",
       "      <td>2019-10-16</td>\n",
       "    </tr>\n",
       "    <tr>\n",
       "      <th>...</th>\n",
       "      <td>...</td>\n",
       "      <td>...</td>\n",
       "      <td>...</td>\n",
       "    </tr>\n",
       "    <tr>\n",
       "      <th>727</th>\n",
       "      <td>166554</td>\n",
       "      <td>B</td>\n",
       "      <td>2019-08-08</td>\n",
       "    </tr>\n",
       "    <tr>\n",
       "      <th>728</th>\n",
       "      <td>166911</td>\n",
       "      <td>B</td>\n",
       "      <td>2019-08-23</td>\n",
       "    </tr>\n",
       "    <tr>\n",
       "      <th>729</th>\n",
       "      <td>167012</td>\n",
       "      <td>B</td>\n",
       "      <td>2019-08-28</td>\n",
       "    </tr>\n",
       "    <tr>\n",
       "      <th>730</th>\n",
       "      <td>166867</td>\n",
       "      <td>B</td>\n",
       "      <td>2019-08-22</td>\n",
       "    </tr>\n",
       "    <tr>\n",
       "      <th>731</th>\n",
       "      <td>166565</td>\n",
       "      <td>B</td>\n",
       "      <td>2019-08-08</td>\n",
       "    </tr>\n",
       "  </tbody>\n",
       "</table>\n",
       "<p>732 rows × 3 columns</p>\n",
       "</div>"
      ],
      "text/plain": [
       "     user_id tariff_plan  date_start\n",
       "0     166713           A  2019-08-15\n",
       "1     166901           A  2019-08-23\n",
       "2     168527           A  2019-10-29\n",
       "3     167097           A  2019-09-01\n",
       "4     168193           A  2019-10-16\n",
       "..       ...         ...         ...\n",
       "727   166554           B  2019-08-08\n",
       "728   166911           B  2019-08-23\n",
       "729   167012           B  2019-08-28\n",
       "730   166867           B  2019-08-22\n",
       "731   166565           B  2019-08-08\n",
       "\n",
       "[732 rows x 3 columns]"
      ]
     },
     "execution_count": 18,
     "metadata": {},
     "output_type": "execute_result"
    }
   ],
   "source": [
    "clients_df"
   ]
  },
  {
   "cell_type": "code",
   "execution_count": 19,
   "metadata": {},
   "outputs": [
    {
     "name": "stdout",
     "output_type": "stream",
     "text": [
      "<class 'pandas.core.frame.DataFrame'>\n",
      "RangeIndex: 732 entries, 0 to 731\n",
      "Data columns (total 3 columns):\n",
      " #   Column       Non-Null Count  Dtype \n",
      "---  ------       --------------  ----- \n",
      " 0   user_id      732 non-null    int64 \n",
      " 1   tariff_plan  732 non-null    object\n",
      " 2   date_start   732 non-null    object\n",
      "dtypes: int64(1), object(2)\n",
      "memory usage: 17.3+ KB\n"
     ]
    }
   ],
   "source": [
    "clients_df.info() "
   ]
  },
  {
   "cell_type": "code",
   "execution_count": 20,
   "metadata": {},
   "outputs": [],
   "source": [
    "clients_df['date_start'] = pd.to_datetime(clients_df['date_start'])"
   ]
  },
  {
   "cell_type": "markdown",
   "metadata": {},
   "source": [
    "## Identificar operadores ineficaces\n",
    "\n",
    "Para identificar a los operadores menos eficaces, según los criterios dados se tomaran en cuenta los siguientes puntos: \n",
    "\n",
    "Un gran número de llamadas perdidas (tanto internas como externas).\n",
    "\n",
    "Un tiempo de espera largo (lo cual se refleja en la diferencia entre total_call_duration y call_duration).\n",
    "\n",
    "Un bajo número de llamadas salientes (solo si se espera que realice llamadas salientes).\n",
    "\n",
    "Una comparación entre los operadores más eficaces y los menos eficientes \n",
    "\n",
    "\n"
   ]
  },
  {
   "cell_type": "markdown",
   "metadata": {},
   "source": [
    "Podemos identificar a los operadores ineficaces usando un umbral que represente un \"alto\" número de llamadas perdidas, un \"alto\" tiempo de espera, y un \"bajo\" número de llamadas salientes."
   ]
  },
  {
   "cell_type": "markdown",
   "metadata": {},
   "source": [
    "### Número de llamadas perdidas "
   ]
  },
  {
   "cell_type": "code",
   "execution_count": 21,
   "metadata": {},
   "outputs": [
    {
     "name": "stdout",
     "output_type": "stream",
     "text": [
      "     operator_id  False  True  Total\n",
      "0       879896.0     70    47    117\n",
      "1       879898.0    138    89    227\n",
      "2       880020.0     14     6     20\n",
      "3       880022.0     41    29     70\n",
      "4       880026.0     95    87    182\n",
      "...          ...    ...   ...    ...\n",
      "1088    972412.0      3     2      5\n",
      "1089    972460.0      4     3      7\n",
      "1090    973120.0      1     1      2\n",
      "1091    973286.0      1     0      1\n",
      "1092           -    113  7343   7456\n",
      "\n",
      "[1093 rows x 4 columns]\n"
     ]
    }
   ],
   "source": [
    "missed_calls = telecom_df.groupby(\n",
    "    ['operator_id', 'is_missed_call']).agg(calls_count=('calls_count', 'count')).unstack(fill_value=0)\n",
    "\n",
    "\n",
    "missed_calls.columns = ['False', 'True']\n",
    "\n",
    "\n",
    "missed_calls['Total'] = missed_calls['False'] + missed_calls['True']\n",
    "\n",
    "\n",
    "missed_calls = missed_calls.reset_index()\n",
    "\n",
    "\n",
    "print(missed_calls)"
   ]
  },
  {
   "cell_type": "code",
   "execution_count": 22,
   "metadata": {},
   "outputs": [],
   "source": [
    "missed_calls.columns = ['operator_id','answer', 'missed', 'total']"
   ]
  },
  {
   "cell_type": "code",
   "execution_count": 23,
   "metadata": {},
   "outputs": [
    {
     "data": {
      "text/html": [
       "<div>\n",
       "<style scoped>\n",
       "    .dataframe tbody tr th:only-of-type {\n",
       "        vertical-align: middle;\n",
       "    }\n",
       "\n",
       "    .dataframe tbody tr th {\n",
       "        vertical-align: top;\n",
       "    }\n",
       "\n",
       "    .dataframe thead th {\n",
       "        text-align: right;\n",
       "    }\n",
       "</style>\n",
       "<table border=\"1\" class=\"dataframe\">\n",
       "  <thead>\n",
       "    <tr style=\"text-align: right;\">\n",
       "      <th></th>\n",
       "      <th>operator_id</th>\n",
       "      <th>answer</th>\n",
       "      <th>missed</th>\n",
       "      <th>total</th>\n",
       "    </tr>\n",
       "  </thead>\n",
       "  <tbody>\n",
       "    <tr>\n",
       "      <th>0</th>\n",
       "      <td>879896.0</td>\n",
       "      <td>70</td>\n",
       "      <td>47</td>\n",
       "      <td>117</td>\n",
       "    </tr>\n",
       "    <tr>\n",
       "      <th>1</th>\n",
       "      <td>879898.0</td>\n",
       "      <td>138</td>\n",
       "      <td>89</td>\n",
       "      <td>227</td>\n",
       "    </tr>\n",
       "    <tr>\n",
       "      <th>2</th>\n",
       "      <td>880020.0</td>\n",
       "      <td>14</td>\n",
       "      <td>6</td>\n",
       "      <td>20</td>\n",
       "    </tr>\n",
       "    <tr>\n",
       "      <th>3</th>\n",
       "      <td>880022.0</td>\n",
       "      <td>41</td>\n",
       "      <td>29</td>\n",
       "      <td>70</td>\n",
       "    </tr>\n",
       "    <tr>\n",
       "      <th>4</th>\n",
       "      <td>880026.0</td>\n",
       "      <td>95</td>\n",
       "      <td>87</td>\n",
       "      <td>182</td>\n",
       "    </tr>\n",
       "    <tr>\n",
       "      <th>...</th>\n",
       "      <td>...</td>\n",
       "      <td>...</td>\n",
       "      <td>...</td>\n",
       "      <td>...</td>\n",
       "    </tr>\n",
       "    <tr>\n",
       "      <th>1088</th>\n",
       "      <td>972412.0</td>\n",
       "      <td>3</td>\n",
       "      <td>2</td>\n",
       "      <td>5</td>\n",
       "    </tr>\n",
       "    <tr>\n",
       "      <th>1089</th>\n",
       "      <td>972460.0</td>\n",
       "      <td>4</td>\n",
       "      <td>3</td>\n",
       "      <td>7</td>\n",
       "    </tr>\n",
       "    <tr>\n",
       "      <th>1090</th>\n",
       "      <td>973120.0</td>\n",
       "      <td>1</td>\n",
       "      <td>1</td>\n",
       "      <td>2</td>\n",
       "    </tr>\n",
       "    <tr>\n",
       "      <th>1091</th>\n",
       "      <td>973286.0</td>\n",
       "      <td>1</td>\n",
       "      <td>0</td>\n",
       "      <td>1</td>\n",
       "    </tr>\n",
       "    <tr>\n",
       "      <th>1092</th>\n",
       "      <td>-</td>\n",
       "      <td>113</td>\n",
       "      <td>7343</td>\n",
       "      <td>7456</td>\n",
       "    </tr>\n",
       "  </tbody>\n",
       "</table>\n",
       "<p>1093 rows × 4 columns</p>\n",
       "</div>"
      ],
      "text/plain": [
       "     operator_id  answer  missed  total\n",
       "0       879896.0      70      47    117\n",
       "1       879898.0     138      89    227\n",
       "2       880020.0      14       6     20\n",
       "3       880022.0      41      29     70\n",
       "4       880026.0      95      87    182\n",
       "...          ...     ...     ...    ...\n",
       "1088    972412.0       3       2      5\n",
       "1089    972460.0       4       3      7\n",
       "1090    973120.0       1       1      2\n",
       "1091    973286.0       1       0      1\n",
       "1092           -     113    7343   7456\n",
       "\n",
       "[1093 rows x 4 columns]"
      ]
     },
     "execution_count": 23,
     "metadata": {},
     "output_type": "execute_result"
    }
   ],
   "source": [
    "missed_calls"
   ]
  },
  {
   "cell_type": "markdown",
   "metadata": {},
   "source": [
    "Vamos a representaar mejor esta tabla...y también modificaremos sus nombres"
   ]
  },
  {
   "cell_type": "code",
   "execution_count": 24,
   "metadata": {},
   "outputs": [
    {
     "data": {
      "image/png": "[encoded data removed]",
      "text/plain": [
       "<Figure size 640x480 with 1 Axes>"
      ]
     },
     "metadata": {},
     "output_type": "display_data"
    }
   ],
   "source": [
    "pie_df = telecom_df.groupby('is_missed_call')['calls_count'].count().reset_index()\n",
    "\n",
    "plt.pie(pie_df['calls_count'], labels=pie_df['is_missed_call'],autopct='%.0f%%')\n",
    "plt.show()"
   ]
  },
  {
   "cell_type": "markdown",
   "metadata": {},
   "source": [
    "Parece que el 44% de las llamadas son perdidas..."
   ]
  },
  {
   "cell_type": "code",
   "execution_count": 25,
   "metadata": {},
   "outputs": [],
   "source": [
    "missed_calls['missed%'] = missed_calls['missed']/missed_calls['total']*100 "
   ]
  },
  {
   "cell_type": "code",
   "execution_count": 26,
   "metadata": {},
   "outputs": [
    {
     "name": "stdout",
     "output_type": "stream",
     "text": [
      "<class 'pandas.core.frame.DataFrame'>\n",
      "RangeIndex: 1093 entries, 0 to 1092\n",
      "Data columns (total 5 columns):\n",
      " #   Column       Non-Null Count  Dtype  \n",
      "---  ------       --------------  -----  \n",
      " 0   operator_id  1093 non-null   object \n",
      " 1   answer       1093 non-null   int64  \n",
      " 2   missed       1093 non-null   int64  \n",
      " 3   total        1093 non-null   int64  \n",
      " 4   missed%      1093 non-null   float64\n",
      "dtypes: float64(1), int64(3), object(1)\n",
      "memory usage: 42.8+ KB\n"
     ]
    }
   ],
   "source": [
    "missed_calls.info() "
   ]
  },
  {
   "cell_type": "code",
   "execution_count": 27,
   "metadata": {},
   "outputs": [
    {
     "data": {
      "text/html": [
       "<div>\n",
       "<style scoped>\n",
       "    .dataframe tbody tr th:only-of-type {\n",
       "        vertical-align: middle;\n",
       "    }\n",
       "\n",
       "    .dataframe tbody tr th {\n",
       "        vertical-align: top;\n",
       "    }\n",
       "\n",
       "    .dataframe thead th {\n",
       "        text-align: right;\n",
       "    }\n",
       "</style>\n",
       "<table border=\"1\" class=\"dataframe\">\n",
       "  <thead>\n",
       "    <tr style=\"text-align: right;\">\n",
       "      <th></th>\n",
       "      <th>index</th>\n",
       "      <th>operator_id</th>\n",
       "      <th>answer</th>\n",
       "      <th>missed</th>\n",
       "      <th>total</th>\n",
       "      <th>missed%</th>\n",
       "    </tr>\n",
       "  </thead>\n",
       "  <tbody>\n",
       "    <tr>\n",
       "      <th>0</th>\n",
       "      <td>7</td>\n",
       "      <td>881278.0</td>\n",
       "      <td>1</td>\n",
       "      <td>7</td>\n",
       "      <td>8</td>\n",
       "      <td>87.500000</td>\n",
       "    </tr>\n",
       "    <tr>\n",
       "      <th>1</th>\n",
       "      <td>15</td>\n",
       "      <td>883018.0</td>\n",
       "      <td>0</td>\n",
       "      <td>1</td>\n",
       "      <td>1</td>\n",
       "      <td>100.000000</td>\n",
       "    </tr>\n",
       "    <tr>\n",
       "      <th>2</th>\n",
       "      <td>27</td>\n",
       "      <td>885682.0</td>\n",
       "      <td>0</td>\n",
       "      <td>3</td>\n",
       "      <td>3</td>\n",
       "      <td>100.000000</td>\n",
       "    </tr>\n",
       "    <tr>\n",
       "      <th>3</th>\n",
       "      <td>92</td>\n",
       "      <td>891976.0</td>\n",
       "      <td>0</td>\n",
       "      <td>1</td>\n",
       "      <td>1</td>\n",
       "      <td>100.000000</td>\n",
       "    </tr>\n",
       "    <tr>\n",
       "      <th>4</th>\n",
       "      <td>152</td>\n",
       "      <td>898434.0</td>\n",
       "      <td>1</td>\n",
       "      <td>5</td>\n",
       "      <td>6</td>\n",
       "      <td>83.333333</td>\n",
       "    </tr>\n",
       "    <tr>\n",
       "      <th>5</th>\n",
       "      <td>160</td>\n",
       "      <td>899076.0</td>\n",
       "      <td>0</td>\n",
       "      <td>2</td>\n",
       "      <td>2</td>\n",
       "      <td>100.000000</td>\n",
       "    </tr>\n",
       "    <tr>\n",
       "      <th>6</th>\n",
       "      <td>247</td>\n",
       "      <td>905308.0</td>\n",
       "      <td>0</td>\n",
       "      <td>1</td>\n",
       "      <td>1</td>\n",
       "      <td>100.000000</td>\n",
       "    </tr>\n",
       "    <tr>\n",
       "      <th>7</th>\n",
       "      <td>253</td>\n",
       "      <td>905480.0</td>\n",
       "      <td>0</td>\n",
       "      <td>1</td>\n",
       "      <td>1</td>\n",
       "      <td>100.000000</td>\n",
       "    </tr>\n",
       "    <tr>\n",
       "      <th>8</th>\n",
       "      <td>324</td>\n",
       "      <td>909308.0</td>\n",
       "      <td>0</td>\n",
       "      <td>3</td>\n",
       "      <td>3</td>\n",
       "      <td>100.000000</td>\n",
       "    </tr>\n",
       "    <tr>\n",
       "      <th>9</th>\n",
       "      <td>381</td>\n",
       "      <td>914272.0</td>\n",
       "      <td>0</td>\n",
       "      <td>1</td>\n",
       "      <td>1</td>\n",
       "      <td>100.000000</td>\n",
       "    </tr>\n",
       "    <tr>\n",
       "      <th>10</th>\n",
       "      <td>386</td>\n",
       "      <td>914626.0</td>\n",
       "      <td>0</td>\n",
       "      <td>1</td>\n",
       "      <td>1</td>\n",
       "      <td>100.000000</td>\n",
       "    </tr>\n",
       "    <tr>\n",
       "      <th>11</th>\n",
       "      <td>456</td>\n",
       "      <td>919418.0</td>\n",
       "      <td>0</td>\n",
       "      <td>1</td>\n",
       "      <td>1</td>\n",
       "      <td>100.000000</td>\n",
       "    </tr>\n",
       "    <tr>\n",
       "      <th>12</th>\n",
       "      <td>528</td>\n",
       "      <td>924572.0</td>\n",
       "      <td>0</td>\n",
       "      <td>1</td>\n",
       "      <td>1</td>\n",
       "      <td>100.000000</td>\n",
       "    </tr>\n",
       "    <tr>\n",
       "      <th>13</th>\n",
       "      <td>569</td>\n",
       "      <td>928282.0</td>\n",
       "      <td>0</td>\n",
       "      <td>2</td>\n",
       "      <td>2</td>\n",
       "      <td>100.000000</td>\n",
       "    </tr>\n",
       "    <tr>\n",
       "      <th>14</th>\n",
       "      <td>570</td>\n",
       "      <td>928284.0</td>\n",
       "      <td>0</td>\n",
       "      <td>1</td>\n",
       "      <td>1</td>\n",
       "      <td>100.000000</td>\n",
       "    </tr>\n",
       "    <tr>\n",
       "      <th>15</th>\n",
       "      <td>617</td>\n",
       "      <td>932246.0</td>\n",
       "      <td>0</td>\n",
       "      <td>1</td>\n",
       "      <td>1</td>\n",
       "      <td>100.000000</td>\n",
       "    </tr>\n",
       "    <tr>\n",
       "      <th>16</th>\n",
       "      <td>666</td>\n",
       "      <td>936296.0</td>\n",
       "      <td>0</td>\n",
       "      <td>3</td>\n",
       "      <td>3</td>\n",
       "      <td>100.000000</td>\n",
       "    </tr>\n",
       "    <tr>\n",
       "      <th>17</th>\n",
       "      <td>684</td>\n",
       "      <td>937650.0</td>\n",
       "      <td>1</td>\n",
       "      <td>5</td>\n",
       "      <td>6</td>\n",
       "      <td>83.333333</td>\n",
       "    </tr>\n",
       "    <tr>\n",
       "      <th>18</th>\n",
       "      <td>687</td>\n",
       "      <td>937710.0</td>\n",
       "      <td>0</td>\n",
       "      <td>1</td>\n",
       "      <td>1</td>\n",
       "      <td>100.000000</td>\n",
       "    </tr>\n",
       "    <tr>\n",
       "      <th>19</th>\n",
       "      <td>688</td>\n",
       "      <td>937716.0</td>\n",
       "      <td>0</td>\n",
       "      <td>1</td>\n",
       "      <td>1</td>\n",
       "      <td>100.000000</td>\n",
       "    </tr>\n",
       "    <tr>\n",
       "      <th>20</th>\n",
       "      <td>697</td>\n",
       "      <td>937770.0</td>\n",
       "      <td>0</td>\n",
       "      <td>1</td>\n",
       "      <td>1</td>\n",
       "      <td>100.000000</td>\n",
       "    </tr>\n",
       "    <tr>\n",
       "      <th>21</th>\n",
       "      <td>698</td>\n",
       "      <td>937772.0</td>\n",
       "      <td>0</td>\n",
       "      <td>1</td>\n",
       "      <td>1</td>\n",
       "      <td>100.000000</td>\n",
       "    </tr>\n",
       "    <tr>\n",
       "      <th>22</th>\n",
       "      <td>700</td>\n",
       "      <td>937778.0</td>\n",
       "      <td>0</td>\n",
       "      <td>1</td>\n",
       "      <td>1</td>\n",
       "      <td>100.000000</td>\n",
       "    </tr>\n",
       "    <tr>\n",
       "      <th>23</th>\n",
       "      <td>715</td>\n",
       "      <td>937872.0</td>\n",
       "      <td>0</td>\n",
       "      <td>1</td>\n",
       "      <td>1</td>\n",
       "      <td>100.000000</td>\n",
       "    </tr>\n",
       "    <tr>\n",
       "      <th>24</th>\n",
       "      <td>809</td>\n",
       "      <td>941826.0</td>\n",
       "      <td>0</td>\n",
       "      <td>1</td>\n",
       "      <td>1</td>\n",
       "      <td>100.000000</td>\n",
       "    </tr>\n",
       "    <tr>\n",
       "      <th>25</th>\n",
       "      <td>841</td>\n",
       "      <td>945074.0</td>\n",
       "      <td>0</td>\n",
       "      <td>1</td>\n",
       "      <td>1</td>\n",
       "      <td>100.000000</td>\n",
       "    </tr>\n",
       "    <tr>\n",
       "      <th>26</th>\n",
       "      <td>867</td>\n",
       "      <td>945898.0</td>\n",
       "      <td>0</td>\n",
       "      <td>1</td>\n",
       "      <td>1</td>\n",
       "      <td>100.000000</td>\n",
       "    </tr>\n",
       "    <tr>\n",
       "      <th>27</th>\n",
       "      <td>874</td>\n",
       "      <td>946454.0</td>\n",
       "      <td>0</td>\n",
       "      <td>2</td>\n",
       "      <td>2</td>\n",
       "      <td>100.000000</td>\n",
       "    </tr>\n",
       "    <tr>\n",
       "      <th>28</th>\n",
       "      <td>964</td>\n",
       "      <td>953460.0</td>\n",
       "      <td>1</td>\n",
       "      <td>5</td>\n",
       "      <td>6</td>\n",
       "      <td>83.333333</td>\n",
       "    </tr>\n",
       "    <tr>\n",
       "      <th>29</th>\n",
       "      <td>970</td>\n",
       "      <td>954284.0</td>\n",
       "      <td>0</td>\n",
       "      <td>1</td>\n",
       "      <td>1</td>\n",
       "      <td>100.000000</td>\n",
       "    </tr>\n",
       "    <tr>\n",
       "      <th>30</th>\n",
       "      <td>982</td>\n",
       "      <td>955068.0</td>\n",
       "      <td>0</td>\n",
       "      <td>1</td>\n",
       "      <td>1</td>\n",
       "      <td>100.000000</td>\n",
       "    </tr>\n",
       "    <tr>\n",
       "      <th>31</th>\n",
       "      <td>1011</td>\n",
       "      <td>958458.0</td>\n",
       "      <td>0</td>\n",
       "      <td>1</td>\n",
       "      <td>1</td>\n",
       "      <td>100.000000</td>\n",
       "    </tr>\n",
       "    <tr>\n",
       "      <th>32</th>\n",
       "      <td>1030</td>\n",
       "      <td>960674.0</td>\n",
       "      <td>0</td>\n",
       "      <td>1</td>\n",
       "      <td>1</td>\n",
       "      <td>100.000000</td>\n",
       "    </tr>\n",
       "    <tr>\n",
       "      <th>33</th>\n",
       "      <td>1041</td>\n",
       "      <td>962904.0</td>\n",
       "      <td>0</td>\n",
       "      <td>1</td>\n",
       "      <td>1</td>\n",
       "      <td>100.000000</td>\n",
       "    </tr>\n",
       "    <tr>\n",
       "      <th>34</th>\n",
       "      <td>1064</td>\n",
       "      <td>969262.0</td>\n",
       "      <td>0</td>\n",
       "      <td>1</td>\n",
       "      <td>1</td>\n",
       "      <td>100.000000</td>\n",
       "    </tr>\n",
       "    <tr>\n",
       "      <th>35</th>\n",
       "      <td>1067</td>\n",
       "      <td>969284.0</td>\n",
       "      <td>0</td>\n",
       "      <td>1</td>\n",
       "      <td>1</td>\n",
       "      <td>100.000000</td>\n",
       "    </tr>\n",
       "    <tr>\n",
       "      <th>36</th>\n",
       "      <td>1077</td>\n",
       "      <td>970250.0</td>\n",
       "      <td>0</td>\n",
       "      <td>1</td>\n",
       "      <td>1</td>\n",
       "      <td>100.000000</td>\n",
       "    </tr>\n",
       "    <tr>\n",
       "      <th>37</th>\n",
       "      <td>1080</td>\n",
       "      <td>970258.0</td>\n",
       "      <td>0</td>\n",
       "      <td>1</td>\n",
       "      <td>1</td>\n",
       "      <td>100.000000</td>\n",
       "    </tr>\n",
       "    <tr>\n",
       "      <th>38</th>\n",
       "      <td>1092</td>\n",
       "      <td>-</td>\n",
       "      <td>113</td>\n",
       "      <td>7343</td>\n",
       "      <td>7456</td>\n",
       "      <td>98.484442</td>\n",
       "    </tr>\n",
       "  </tbody>\n",
       "</table>\n",
       "</div>"
      ],
      "text/plain": [
       "    index operator_id  answer  missed  total     missed%\n",
       "0       7    881278.0       1       7      8   87.500000\n",
       "1      15    883018.0       0       1      1  100.000000\n",
       "2      27    885682.0       0       3      3  100.000000\n",
       "3      92    891976.0       0       1      1  100.000000\n",
       "4     152    898434.0       1       5      6   83.333333\n",
       "5     160    899076.0       0       2      2  100.000000\n",
       "6     247    905308.0       0       1      1  100.000000\n",
       "7     253    905480.0       0       1      1  100.000000\n",
       "8     324    909308.0       0       3      3  100.000000\n",
       "9     381    914272.0       0       1      1  100.000000\n",
       "10    386    914626.0       0       1      1  100.000000\n",
       "11    456    919418.0       0       1      1  100.000000\n",
       "12    528    924572.0       0       1      1  100.000000\n",
       "13    569    928282.0       0       2      2  100.000000\n",
       "14    570    928284.0       0       1      1  100.000000\n",
       "15    617    932246.0       0       1      1  100.000000\n",
       "16    666    936296.0       0       3      3  100.000000\n",
       "17    684    937650.0       1       5      6   83.333333\n",
       "18    687    937710.0       0       1      1  100.000000\n",
       "19    688    937716.0       0       1      1  100.000000\n",
       "20    697    937770.0       0       1      1  100.000000\n",
       "21    698    937772.0       0       1      1  100.000000\n",
       "22    700    937778.0       0       1      1  100.000000\n",
       "23    715    937872.0       0       1      1  100.000000\n",
       "24    809    941826.0       0       1      1  100.000000\n",
       "25    841    945074.0       0       1      1  100.000000\n",
       "26    867    945898.0       0       1      1  100.000000\n",
       "27    874    946454.0       0       2      2  100.000000\n",
       "28    964    953460.0       1       5      6   83.333333\n",
       "29    970    954284.0       0       1      1  100.000000\n",
       "30    982    955068.0       0       1      1  100.000000\n",
       "31   1011    958458.0       0       1      1  100.000000\n",
       "32   1030    960674.0       0       1      1  100.000000\n",
       "33   1041    962904.0       0       1      1  100.000000\n",
       "34   1064    969262.0       0       1      1  100.000000\n",
       "35   1067    969284.0       0       1      1  100.000000\n",
       "36   1077    970250.0       0       1      1  100.000000\n",
       "37   1080    970258.0       0       1      1  100.000000\n",
       "38   1092           -     113    7343   7456   98.484442"
      ]
     },
     "execution_count": 27,
     "metadata": {},
     "output_type": "execute_result"
    }
   ],
   "source": [
    "porcent_missed = missed_calls[missed_calls['missed%']>=80]\n",
    "porcent_missed.reset_index()"
   ]
  },
  {
   "cell_type": "code",
   "execution_count": 28,
   "metadata": {},
   "outputs": [
    {
     "name": "stdout",
     "output_type": "stream",
     "text": [
      "<class 'pandas.core.frame.DataFrame'>\n",
      "Int64Index: 39 entries, 7 to 1092\n",
      "Data columns (total 5 columns):\n",
      " #   Column       Non-Null Count  Dtype  \n",
      "---  ------       --------------  -----  \n",
      " 0   operator_id  39 non-null     object \n",
      " 1   answer       39 non-null     int64  \n",
      " 2   missed       39 non-null     int64  \n",
      " 3   total        39 non-null     int64  \n",
      " 4   missed%      39 non-null     float64\n",
      "dtypes: float64(1), int64(3), object(1)\n",
      "memory usage: 1.8+ KB\n"
     ]
    }
   ],
   "source": [
    "porcent_missed.info()"
   ]
  },
  {
   "cell_type": "markdown",
   "metadata": {},
   "source": [
    "Son 38 operadores con más del 80% de las llamadas perdidas ... aunque la mayoria no se saben cuantas llamadas contestadas tienen "
   ]
  },
  {
   "cell_type": "markdown",
   "metadata": {},
   "source": [
    "### tiempo de espera"
   ]
  },
  {
   "cell_type": "code",
   "execution_count": 29,
   "metadata": {},
   "outputs": [],
   "source": [
    "telecom_df['wait_time'] = telecom_df['total_call_duration'] - telecom_df['call_duration']\n",
    "\n",
    "# Agrupar por operador y calcular el tiempo de espera promedio\n",
    "wait_time_per_operator = telecom_df.groupby('operator_id').agg(\n",
    "    avg_wait_time=('wait_time', 'mean')\n",
    ").reset_index()"
   ]
  },
  {
   "cell_type": "code",
   "execution_count": 30,
   "metadata": {},
   "outputs": [
    {
     "data": {
      "text/html": [
       "<div>\n",
       "<style scoped>\n",
       "    .dataframe tbody tr th:only-of-type {\n",
       "        vertical-align: middle;\n",
       "    }\n",
       "\n",
       "    .dataframe tbody tr th {\n",
       "        vertical-align: top;\n",
       "    }\n",
       "\n",
       "    .dataframe thead th {\n",
       "        text-align: right;\n",
       "    }\n",
       "</style>\n",
       "<table border=\"1\" class=\"dataframe\">\n",
       "  <thead>\n",
       "    <tr style=\"text-align: right;\">\n",
       "      <th></th>\n",
       "      <th>operator_id</th>\n",
       "      <th>avg_wait_time</th>\n",
       "    </tr>\n",
       "  </thead>\n",
       "  <tbody>\n",
       "    <tr>\n",
       "      <th>0</th>\n",
       "      <td>879896.0</td>\n",
       "      <td>104.914530</td>\n",
       "    </tr>\n",
       "    <tr>\n",
       "      <th>1</th>\n",
       "      <td>879898.0</td>\n",
       "      <td>457.696035</td>\n",
       "    </tr>\n",
       "    <tr>\n",
       "      <th>2</th>\n",
       "      <td>880020.0</td>\n",
       "      <td>14.000000</td>\n",
       "    </tr>\n",
       "    <tr>\n",
       "      <th>3</th>\n",
       "      <td>880022.0</td>\n",
       "      <td>53.971429</td>\n",
       "    </tr>\n",
       "    <tr>\n",
       "      <th>4</th>\n",
       "      <td>880026.0</td>\n",
       "      <td>121.978022</td>\n",
       "    </tr>\n",
       "    <tr>\n",
       "      <th>...</th>\n",
       "      <td>...</td>\n",
       "      <td>...</td>\n",
       "    </tr>\n",
       "    <tr>\n",
       "      <th>1088</th>\n",
       "      <td>972412.0</td>\n",
       "      <td>210.000000</td>\n",
       "    </tr>\n",
       "    <tr>\n",
       "      <th>1089</th>\n",
       "      <td>972460.0</td>\n",
       "      <td>88.571429</td>\n",
       "    </tr>\n",
       "    <tr>\n",
       "      <th>1090</th>\n",
       "      <td>973120.0</td>\n",
       "      <td>10.000000</td>\n",
       "    </tr>\n",
       "    <tr>\n",
       "      <th>1091</th>\n",
       "      <td>973286.0</td>\n",
       "      <td>88.000000</td>\n",
       "    </tr>\n",
       "    <tr>\n",
       "      <th>1092</th>\n",
       "      <td>-</td>\n",
       "      <td>170.209898</td>\n",
       "    </tr>\n",
       "  </tbody>\n",
       "</table>\n",
       "<p>1093 rows × 2 columns</p>\n",
       "</div>"
      ],
      "text/plain": [
       "     operator_id  avg_wait_time\n",
       "0       879896.0     104.914530\n",
       "1       879898.0     457.696035\n",
       "2       880020.0      14.000000\n",
       "3       880022.0      53.971429\n",
       "4       880026.0     121.978022\n",
       "...          ...            ...\n",
       "1088    972412.0     210.000000\n",
       "1089    972460.0      88.571429\n",
       "1090    973120.0      10.000000\n",
       "1091    973286.0      88.000000\n",
       "1092           -     170.209898\n",
       "\n",
       "[1093 rows x 2 columns]"
      ]
     },
     "execution_count": 30,
     "metadata": {},
     "output_type": "execute_result"
    }
   ],
   "source": [
    "wait_time_per_operator"
   ]
  },
  {
   "cell_type": "code",
   "execution_count": 31,
   "metadata": {},
   "outputs": [
    {
     "data": {
      "image/png": "[encoded data removed]",
      "text/plain": [
       "<Figure size 640x480 with 1 Axes>"
      ]
     },
     "metadata": {},
     "output_type": "display_data"
    }
   ],
   "source": [
    "sns.histplot(telecom_df['wait_time'], bins= 20)\n",
    "plt.title('Tiempos de Espera')\n",
    "plt.xlabel('Tiempo de Espera promedio')\n",
    "plt.ylabel('Frecuencia')\n",
    "plt.show()"
   ]
  },
  {
   "cell_type": "code",
   "execution_count": 32,
   "metadata": {},
   "outputs": [
    {
     "data": {
      "text/plain": [
       "55.0"
      ]
     },
     "execution_count": 32,
     "metadata": {},
     "output_type": "execute_result"
    }
   ],
   "source": [
    "telecom_df['wait_time'].median() "
   ]
  },
  {
   "cell_type": "markdown",
   "metadata": {},
   "source": [
    "Usamos la media de los datos para conocer el valor representativo, siendo 55 segundos...\n",
    "El promedio de estos valores es de : "
   ]
  },
  {
   "cell_type": "code",
   "execution_count": 33,
   "metadata": {},
   "outputs": [
    {
     "data": {
      "text/plain": [
       "290.27611117913557"
      ]
     },
     "execution_count": 33,
     "metadata": {},
     "output_type": "execute_result"
    }
   ],
   "source": [
    "telecom_df['wait_time'].mean() "
   ]
  },
  {
   "cell_type": "markdown",
   "metadata": {},
   "source": [
    "utilizaremos este número para identificar a los operadores que tengan un alto tiempo de espera"
   ]
  },
  {
   "cell_type": "code",
   "execution_count": 34,
   "metadata": {},
   "outputs": [],
   "source": [
    "waiting_time_df = telecom_df.groupby('operator_id')['wait_time'].median().sort_values( ascending = False).reset_index()"
   ]
  },
  {
   "cell_type": "code",
   "execution_count": 35,
   "metadata": {},
   "outputs": [
    {
     "data": {
      "text/html": [
       "<div>\n",
       "<style scoped>\n",
       "    .dataframe tbody tr th:only-of-type {\n",
       "        vertical-align: middle;\n",
       "    }\n",
       "\n",
       "    .dataframe tbody tr th {\n",
       "        vertical-align: top;\n",
       "    }\n",
       "\n",
       "    .dataframe thead th {\n",
       "        text-align: right;\n",
       "    }\n",
       "</style>\n",
       "<table border=\"1\" class=\"dataframe\">\n",
       "  <thead>\n",
       "    <tr style=\"text-align: right;\">\n",
       "      <th></th>\n",
       "      <th>operator_id</th>\n",
       "      <th>wait_time</th>\n",
       "    </tr>\n",
       "  </thead>\n",
       "  <tbody>\n",
       "    <tr>\n",
       "      <th>0</th>\n",
       "      <td>885890.0</td>\n",
       "      <td>4525.0</td>\n",
       "    </tr>\n",
       "    <tr>\n",
       "      <th>1</th>\n",
       "      <td>929428.0</td>\n",
       "      <td>3030.0</td>\n",
       "    </tr>\n",
       "    <tr>\n",
       "      <th>2</th>\n",
       "      <td>925922.0</td>\n",
       "      <td>3007.0</td>\n",
       "    </tr>\n",
       "    <tr>\n",
       "      <th>3</th>\n",
       "      <td>908640.0</td>\n",
       "      <td>2885.0</td>\n",
       "    </tr>\n",
       "    <tr>\n",
       "      <th>4</th>\n",
       "      <td>919364.0</td>\n",
       "      <td>2784.0</td>\n",
       "    </tr>\n",
       "    <tr>\n",
       "      <th>...</th>\n",
       "      <td>...</td>\n",
       "      <td>...</td>\n",
       "    </tr>\n",
       "    <tr>\n",
       "      <th>1088</th>\n",
       "      <td>955068.0</td>\n",
       "      <td>0.0</td>\n",
       "    </tr>\n",
       "    <tr>\n",
       "      <th>1089</th>\n",
       "      <td>958458.0</td>\n",
       "      <td>0.0</td>\n",
       "    </tr>\n",
       "    <tr>\n",
       "      <th>1090</th>\n",
       "      <td>922486.0</td>\n",
       "      <td>0.0</td>\n",
       "    </tr>\n",
       "    <tr>\n",
       "      <th>1091</th>\n",
       "      <td>953460.0</td>\n",
       "      <td>0.0</td>\n",
       "    </tr>\n",
       "    <tr>\n",
       "      <th>1092</th>\n",
       "      <td>960674.0</td>\n",
       "      <td>0.0</td>\n",
       "    </tr>\n",
       "  </tbody>\n",
       "</table>\n",
       "<p>1093 rows × 2 columns</p>\n",
       "</div>"
      ],
      "text/plain": [
       "     operator_id  wait_time\n",
       "0       885890.0     4525.0\n",
       "1       929428.0     3030.0\n",
       "2       925922.0     3007.0\n",
       "3       908640.0     2885.0\n",
       "4       919364.0     2784.0\n",
       "...          ...        ...\n",
       "1088    955068.0        0.0\n",
       "1089    958458.0        0.0\n",
       "1090    922486.0        0.0\n",
       "1091    953460.0        0.0\n",
       "1092    960674.0        0.0\n",
       "\n",
       "[1093 rows x 2 columns]"
      ]
     },
     "execution_count": 35,
     "metadata": {},
     "output_type": "execute_result"
    }
   ],
   "source": [
    "waiting_time_df"
   ]
  },
  {
   "cell_type": "code",
   "execution_count": 36,
   "metadata": {},
   "outputs": [
    {
     "data": {
      "text/html": [
       "<div>\n",
       "<style scoped>\n",
       "    .dataframe tbody tr th:only-of-type {\n",
       "        vertical-align: middle;\n",
       "    }\n",
       "\n",
       "    .dataframe tbody tr th {\n",
       "        vertical-align: top;\n",
       "    }\n",
       "\n",
       "    .dataframe thead th {\n",
       "        text-align: right;\n",
       "    }\n",
       "</style>\n",
       "<table border=\"1\" class=\"dataframe\">\n",
       "  <thead>\n",
       "    <tr style=\"text-align: right;\">\n",
       "      <th></th>\n",
       "      <th>index</th>\n",
       "      <th>operator_id</th>\n",
       "      <th>wait_time</th>\n",
       "    </tr>\n",
       "  </thead>\n",
       "  <tbody>\n",
       "    <tr>\n",
       "      <th>0</th>\n",
       "      <td>0</td>\n",
       "      <td>885890.0</td>\n",
       "      <td>4525.0</td>\n",
       "    </tr>\n",
       "    <tr>\n",
       "      <th>1</th>\n",
       "      <td>1</td>\n",
       "      <td>929428.0</td>\n",
       "      <td>3030.0</td>\n",
       "    </tr>\n",
       "    <tr>\n",
       "      <th>2</th>\n",
       "      <td>2</td>\n",
       "      <td>925922.0</td>\n",
       "      <td>3007.0</td>\n",
       "    </tr>\n",
       "    <tr>\n",
       "      <th>3</th>\n",
       "      <td>3</td>\n",
       "      <td>908640.0</td>\n",
       "      <td>2885.0</td>\n",
       "    </tr>\n",
       "    <tr>\n",
       "      <th>4</th>\n",
       "      <td>4</td>\n",
       "      <td>919364.0</td>\n",
       "      <td>2784.0</td>\n",
       "    </tr>\n",
       "    <tr>\n",
       "      <th>...</th>\n",
       "      <td>...</td>\n",
       "      <td>...</td>\n",
       "      <td>...</td>\n",
       "    </tr>\n",
       "    <tr>\n",
       "      <th>145</th>\n",
       "      <td>145</td>\n",
       "      <td>883940.0</td>\n",
       "      <td>309.0</td>\n",
       "    </tr>\n",
       "    <tr>\n",
       "      <th>146</th>\n",
       "      <td>146</td>\n",
       "      <td>939762.0</td>\n",
       "      <td>305.0</td>\n",
       "    </tr>\n",
       "    <tr>\n",
       "      <th>147</th>\n",
       "      <td>147</td>\n",
       "      <td>947652.0</td>\n",
       "      <td>304.5</td>\n",
       "    </tr>\n",
       "    <tr>\n",
       "      <th>148</th>\n",
       "      <td>148</td>\n",
       "      <td>947604.0</td>\n",
       "      <td>303.0</td>\n",
       "    </tr>\n",
       "    <tr>\n",
       "      <th>149</th>\n",
       "      <td>149</td>\n",
       "      <td>943050.0</td>\n",
       "      <td>295.0</td>\n",
       "    </tr>\n",
       "  </tbody>\n",
       "</table>\n",
       "<p>150 rows × 3 columns</p>\n",
       "</div>"
      ],
      "text/plain": [
       "     index operator_id  wait_time\n",
       "0        0    885890.0     4525.0\n",
       "1        1    929428.0     3030.0\n",
       "2        2    925922.0     3007.0\n",
       "3        3    908640.0     2885.0\n",
       "4        4    919364.0     2784.0\n",
       "..     ...         ...        ...\n",
       "145    145    883940.0      309.0\n",
       "146    146    939762.0      305.0\n",
       "147    147    947652.0      304.5\n",
       "148    148    947604.0      303.0\n",
       "149    149    943050.0      295.0\n",
       "\n",
       "[150 rows x 3 columns]"
      ]
     },
     "execution_count": 36,
     "metadata": {},
     "output_type": "execute_result"
    }
   ],
   "source": [
    "waiting_time_operator = waiting_time_df[waiting_time_df['wait_time']> 290].sort_values(by = 'wait_time', ascending = False).reset_index()\n",
    "\n",
    "waiting_time_operator\n"
   ]
  },
  {
   "cell_type": "markdown",
   "metadata": {},
   "source": [
    "### Número de llamadas salientes"
   ]
  },
  {
   "cell_type": "code",
   "execution_count": 37,
   "metadata": {},
   "outputs": [],
   "source": [
    "\n",
    "outgoing_calls = telecom_df[telecom_df['direction'] == 'out']\n",
    "\n",
    "incoming_calls = telecom_df[telecom_df['direction'] == 'in']\n",
    "\n",
    "\n",
    "outgoing_calls_count = outgoing_calls.groupby('operator_id')['calls_count'].sum().reset_index()\n",
    "outgoing_calls_count = outgoing_calls_count.rename(columns={'calls_count': 'outgoing_calls'})\n",
    "\n",
    "\n",
    "incoming_calls_count = incoming_calls.groupby('operator_id')['calls_count'].sum().reset_index()\n",
    "incoming_calls_count = incoming_calls_count.rename(columns={'calls_count': 'incoming_calls'})\n",
    "\n",
    "\n",
    "total_calls_count = telecom_df.groupby('operator_id')['calls_count'].sum().reset_index()\n",
    "total_calls_count = total_calls_count.rename(columns={'calls_count': 'total_calls'})\n",
    "\n",
    "\n",
    "number_calls = pd.merge(outgoing_calls_count, incoming_calls_count, on='operator_id', how='outer')\n",
    "number_calls = pd.merge(number_calls, total_calls_count, on='operator_id', how='outer')\n",
    "\n",
    "\n"
   ]
  },
  {
   "cell_type": "code",
   "execution_count": 38,
   "metadata": {},
   "outputs": [],
   "source": [
    "number_calls.dropna(inplace=True)"
   ]
  },
  {
   "cell_type": "code",
   "execution_count": 39,
   "metadata": {},
   "outputs": [],
   "source": [
    "number_calls['out_calls%'] = number_calls['outgoing_calls'] / number_calls['total_calls']*100"
   ]
  },
  {
   "cell_type": "code",
   "execution_count": 40,
   "metadata": {},
   "outputs": [
    {
     "data": {
      "text/html": [
       "<div>\n",
       "<style scoped>\n",
       "    .dataframe tbody tr th:only-of-type {\n",
       "        vertical-align: middle;\n",
       "    }\n",
       "\n",
       "    .dataframe tbody tr th {\n",
       "        vertical-align: top;\n",
       "    }\n",
       "\n",
       "    .dataframe thead th {\n",
       "        text-align: right;\n",
       "    }\n",
       "</style>\n",
       "<table border=\"1\" class=\"dataframe\">\n",
       "  <thead>\n",
       "    <tr style=\"text-align: right;\">\n",
       "      <th></th>\n",
       "      <th>operator_id</th>\n",
       "      <th>outgoing_calls</th>\n",
       "      <th>incoming_calls</th>\n",
       "      <th>total_calls</th>\n",
       "      <th>out_calls%</th>\n",
       "    </tr>\n",
       "  </thead>\n",
       "  <tbody>\n",
       "    <tr>\n",
       "      <th>0</th>\n",
       "      <td>879896.0</td>\n",
       "      <td>872.0</td>\n",
       "      <td>58.0</td>\n",
       "      <td>930</td>\n",
       "      <td>93.763441</td>\n",
       "    </tr>\n",
       "    <tr>\n",
       "      <th>1</th>\n",
       "      <td>879898.0</td>\n",
       "      <td>7209.0</td>\n",
       "      <td>104.0</td>\n",
       "      <td>7313</td>\n",
       "      <td>98.577875</td>\n",
       "    </tr>\n",
       "    <tr>\n",
       "      <th>2</th>\n",
       "      <td>880020.0</td>\n",
       "      <td>38.0</td>\n",
       "      <td>7.0</td>\n",
       "      <td>45</td>\n",
       "      <td>84.444444</td>\n",
       "    </tr>\n",
       "    <tr>\n",
       "      <th>3</th>\n",
       "      <td>880022.0</td>\n",
       "      <td>189.0</td>\n",
       "      <td>8.0</td>\n",
       "      <td>197</td>\n",
       "      <td>95.939086</td>\n",
       "    </tr>\n",
       "    <tr>\n",
       "      <th>4</th>\n",
       "      <td>880026.0</td>\n",
       "      <td>2208.0</td>\n",
       "      <td>24.0</td>\n",
       "      <td>2232</td>\n",
       "      <td>98.924731</td>\n",
       "    </tr>\n",
       "    <tr>\n",
       "      <th>...</th>\n",
       "      <td>...</td>\n",
       "      <td>...</td>\n",
       "      <td>...</td>\n",
       "      <td>...</td>\n",
       "      <td>...</td>\n",
       "    </tr>\n",
       "    <tr>\n",
       "      <th>872</th>\n",
       "      <td>970252.0</td>\n",
       "      <td>5.0</td>\n",
       "      <td>1.0</td>\n",
       "      <td>6</td>\n",
       "      <td>83.333333</td>\n",
       "    </tr>\n",
       "    <tr>\n",
       "      <th>873</th>\n",
       "      <td>970254.0</td>\n",
       "      <td>9.0</td>\n",
       "      <td>3.0</td>\n",
       "      <td>12</td>\n",
       "      <td>75.000000</td>\n",
       "    </tr>\n",
       "    <tr>\n",
       "      <th>879</th>\n",
       "      <td>972412.0</td>\n",
       "      <td>60.0</td>\n",
       "      <td>1.0</td>\n",
       "      <td>61</td>\n",
       "      <td>98.360656</td>\n",
       "    </tr>\n",
       "    <tr>\n",
       "      <th>880</th>\n",
       "      <td>972460.0</td>\n",
       "      <td>50.0</td>\n",
       "      <td>1.0</td>\n",
       "      <td>51</td>\n",
       "      <td>98.039216</td>\n",
       "    </tr>\n",
       "    <tr>\n",
       "      <th>882</th>\n",
       "      <td>-</td>\n",
       "      <td>521.0</td>\n",
       "      <td>104043.0</td>\n",
       "      <td>104564</td>\n",
       "      <td>0.498259</td>\n",
       "    </tr>\n",
       "  </tbody>\n",
       "</table>\n",
       "<p>545 rows × 5 columns</p>\n",
       "</div>"
      ],
      "text/plain": [
       "    operator_id  outgoing_calls  incoming_calls  total_calls  out_calls%\n",
       "0      879896.0           872.0            58.0          930   93.763441\n",
       "1      879898.0          7209.0           104.0         7313   98.577875\n",
       "2      880020.0            38.0             7.0           45   84.444444\n",
       "3      880022.0           189.0             8.0          197   95.939086\n",
       "4      880026.0          2208.0            24.0         2232   98.924731\n",
       "..          ...             ...             ...          ...         ...\n",
       "872    970252.0             5.0             1.0            6   83.333333\n",
       "873    970254.0             9.0             3.0           12   75.000000\n",
       "879    972412.0            60.0             1.0           61   98.360656\n",
       "880    972460.0            50.0             1.0           51   98.039216\n",
       "882           -           521.0        104043.0       104564    0.498259\n",
       "\n",
       "[545 rows x 5 columns]"
      ]
     },
     "execution_count": 40,
     "metadata": {},
     "output_type": "execute_result"
    }
   ],
   "source": [
    "number_calls"
   ]
  },
  {
   "cell_type": "code",
   "execution_count": 41,
   "metadata": {},
   "outputs": [
    {
     "data": {
      "text/html": [
       "<div>\n",
       "<style scoped>\n",
       "    .dataframe tbody tr th:only-of-type {\n",
       "        vertical-align: middle;\n",
       "    }\n",
       "\n",
       "    .dataframe tbody tr th {\n",
       "        vertical-align: top;\n",
       "    }\n",
       "\n",
       "    .dataframe thead th {\n",
       "        text-align: right;\n",
       "    }\n",
       "</style>\n",
       "<table border=\"1\" class=\"dataframe\">\n",
       "  <thead>\n",
       "    <tr style=\"text-align: right;\">\n",
       "      <th></th>\n",
       "      <th>index</th>\n",
       "      <th>operator_id</th>\n",
       "      <th>outgoing_calls</th>\n",
       "      <th>incoming_calls</th>\n",
       "      <th>total_calls</th>\n",
       "      <th>out_calls%</th>\n",
       "    </tr>\n",
       "  </thead>\n",
       "  <tbody>\n",
       "    <tr>\n",
       "      <th>0</th>\n",
       "      <td>486</td>\n",
       "      <td>930816.0</td>\n",
       "      <td>1.0</td>\n",
       "      <td>4.0</td>\n",
       "      <td>5</td>\n",
       "      <td>20.000000</td>\n",
       "    </tr>\n",
       "    <tr>\n",
       "      <th>1</th>\n",
       "      <td>514</td>\n",
       "      <td>934000.0</td>\n",
       "      <td>2.0</td>\n",
       "      <td>8.0</td>\n",
       "      <td>10</td>\n",
       "      <td>20.000000</td>\n",
       "    </tr>\n",
       "    <tr>\n",
       "      <th>2</th>\n",
       "      <td>325</td>\n",
       "      <td>917876.0</td>\n",
       "      <td>2.0</td>\n",
       "      <td>8.0</td>\n",
       "      <td>10</td>\n",
       "      <td>20.000000</td>\n",
       "    </tr>\n",
       "    <tr>\n",
       "      <th>3</th>\n",
       "      <td>680</td>\n",
       "      <td>945058.0</td>\n",
       "      <td>1.0</td>\n",
       "      <td>4.0</td>\n",
       "      <td>5</td>\n",
       "      <td>20.000000</td>\n",
       "    </tr>\n",
       "    <tr>\n",
       "      <th>4</th>\n",
       "      <td>274</td>\n",
       "      <td>911310.0</td>\n",
       "      <td>95.0</td>\n",
       "      <td>401.0</td>\n",
       "      <td>496</td>\n",
       "      <td>19.153226</td>\n",
       "    </tr>\n",
       "    <tr>\n",
       "      <th>5</th>\n",
       "      <td>73</td>\n",
       "      <td>891908.0</td>\n",
       "      <td>9.0</td>\n",
       "      <td>39.0</td>\n",
       "      <td>48</td>\n",
       "      <td>18.750000</td>\n",
       "    </tr>\n",
       "    <tr>\n",
       "      <th>6</th>\n",
       "      <td>215</td>\n",
       "      <td>906070.0</td>\n",
       "      <td>71.0</td>\n",
       "      <td>324.0</td>\n",
       "      <td>395</td>\n",
       "      <td>17.974684</td>\n",
       "    </tr>\n",
       "    <tr>\n",
       "      <th>7</th>\n",
       "      <td>189</td>\n",
       "      <td>904044.0</td>\n",
       "      <td>23.0</td>\n",
       "      <td>108.0</td>\n",
       "      <td>131</td>\n",
       "      <td>17.557252</td>\n",
       "    </tr>\n",
       "    <tr>\n",
       "      <th>8</th>\n",
       "      <td>672</td>\n",
       "      <td>944560.0</td>\n",
       "      <td>1.0</td>\n",
       "      <td>5.0</td>\n",
       "      <td>6</td>\n",
       "      <td>16.666667</td>\n",
       "    </tr>\n",
       "    <tr>\n",
       "      <th>9</th>\n",
       "      <td>747</td>\n",
       "      <td>949420.0</td>\n",
       "      <td>1.0</td>\n",
       "      <td>5.0</td>\n",
       "      <td>6</td>\n",
       "      <td>16.666667</td>\n",
       "    </tr>\n",
       "    <tr>\n",
       "      <th>10</th>\n",
       "      <td>487</td>\n",
       "      <td>930820.0</td>\n",
       "      <td>1.0</td>\n",
       "      <td>5.0</td>\n",
       "      <td>6</td>\n",
       "      <td>16.666667</td>\n",
       "    </tr>\n",
       "    <tr>\n",
       "      <th>11</th>\n",
       "      <td>74</td>\n",
       "      <td>891918.0</td>\n",
       "      <td>1.0</td>\n",
       "      <td>5.0</td>\n",
       "      <td>6</td>\n",
       "      <td>16.666667</td>\n",
       "    </tr>\n",
       "    <tr>\n",
       "      <th>12</th>\n",
       "      <td>617</td>\n",
       "      <td>940436.0</td>\n",
       "      <td>6.0</td>\n",
       "      <td>30.0</td>\n",
       "      <td>36</td>\n",
       "      <td>16.666667</td>\n",
       "    </tr>\n",
       "    <tr>\n",
       "      <th>13</th>\n",
       "      <td>253</td>\n",
       "      <td>908080.0</td>\n",
       "      <td>1.0</td>\n",
       "      <td>5.0</td>\n",
       "      <td>6</td>\n",
       "      <td>16.666667</td>\n",
       "    </tr>\n",
       "    <tr>\n",
       "      <th>14</th>\n",
       "      <td>548</td>\n",
       "      <td>937742.0</td>\n",
       "      <td>3.0</td>\n",
       "      <td>16.0</td>\n",
       "      <td>19</td>\n",
       "      <td>15.789474</td>\n",
       "    </tr>\n",
       "    <tr>\n",
       "      <th>15</th>\n",
       "      <td>282</td>\n",
       "      <td>913942.0</td>\n",
       "      <td>440.0</td>\n",
       "      <td>2467.0</td>\n",
       "      <td>2907</td>\n",
       "      <td>15.135879</td>\n",
       "    </tr>\n",
       "    <tr>\n",
       "      <th>16</th>\n",
       "      <td>668</td>\n",
       "      <td>944228.0</td>\n",
       "      <td>5.0</td>\n",
       "      <td>29.0</td>\n",
       "      <td>34</td>\n",
       "      <td>14.705882</td>\n",
       "    </tr>\n",
       "    <tr>\n",
       "      <th>17</th>\n",
       "      <td>259</td>\n",
       "      <td>908960.0</td>\n",
       "      <td>113.0</td>\n",
       "      <td>695.0</td>\n",
       "      <td>808</td>\n",
       "      <td>13.985149</td>\n",
       "    </tr>\n",
       "    <tr>\n",
       "      <th>18</th>\n",
       "      <td>523</td>\n",
       "      <td>935548.0</td>\n",
       "      <td>3.0</td>\n",
       "      <td>19.0</td>\n",
       "      <td>22</td>\n",
       "      <td>13.636364</td>\n",
       "    </tr>\n",
       "    <tr>\n",
       "      <th>19</th>\n",
       "      <td>89</td>\n",
       "      <td>893402.0</td>\n",
       "      <td>51.0</td>\n",
       "      <td>338.0</td>\n",
       "      <td>389</td>\n",
       "      <td>13.110540</td>\n",
       "    </tr>\n",
       "    <tr>\n",
       "      <th>20</th>\n",
       "      <td>864</td>\n",
       "      <td>969294.0</td>\n",
       "      <td>12.0</td>\n",
       "      <td>84.0</td>\n",
       "      <td>96</td>\n",
       "      <td>12.500000</td>\n",
       "    </tr>\n",
       "    <tr>\n",
       "      <th>21</th>\n",
       "      <td>90</td>\n",
       "      <td>893420.0</td>\n",
       "      <td>29.0</td>\n",
       "      <td>206.0</td>\n",
       "      <td>235</td>\n",
       "      <td>12.340426</td>\n",
       "    </tr>\n",
       "    <tr>\n",
       "      <th>22</th>\n",
       "      <td>425</td>\n",
       "      <td>924544.0</td>\n",
       "      <td>13.0</td>\n",
       "      <td>104.0</td>\n",
       "      <td>117</td>\n",
       "      <td>11.111111</td>\n",
       "    </tr>\n",
       "    <tr>\n",
       "      <th>23</th>\n",
       "      <td>768</td>\n",
       "      <td>952462.0</td>\n",
       "      <td>1.0</td>\n",
       "      <td>8.0</td>\n",
       "      <td>9</td>\n",
       "      <td>11.111111</td>\n",
       "    </tr>\n",
       "    <tr>\n",
       "      <th>24</th>\n",
       "      <td>258</td>\n",
       "      <td>908958.0</td>\n",
       "      <td>107.0</td>\n",
       "      <td>952.0</td>\n",
       "      <td>1059</td>\n",
       "      <td>10.103872</td>\n",
       "    </tr>\n",
       "    <tr>\n",
       "      <th>25</th>\n",
       "      <td>669</td>\n",
       "      <td>944246.0</td>\n",
       "      <td>1.0</td>\n",
       "      <td>9.0</td>\n",
       "      <td>10</td>\n",
       "      <td>10.000000</td>\n",
       "    </tr>\n",
       "    <tr>\n",
       "      <th>26</th>\n",
       "      <td>504</td>\n",
       "      <td>932798.0</td>\n",
       "      <td>10.0</td>\n",
       "      <td>98.0</td>\n",
       "      <td>108</td>\n",
       "      <td>9.259259</td>\n",
       "    </tr>\n",
       "    <tr>\n",
       "      <th>27</th>\n",
       "      <td>475</td>\n",
       "      <td>930326.0</td>\n",
       "      <td>1.0</td>\n",
       "      <td>10.0</td>\n",
       "      <td>11</td>\n",
       "      <td>9.090909</td>\n",
       "    </tr>\n",
       "    <tr>\n",
       "      <th>28</th>\n",
       "      <td>159</td>\n",
       "      <td>901492.0</td>\n",
       "      <td>3.0</td>\n",
       "      <td>30.0</td>\n",
       "      <td>33</td>\n",
       "      <td>9.090909</td>\n",
       "    </tr>\n",
       "    <tr>\n",
       "      <th>29</th>\n",
       "      <td>378</td>\n",
       "      <td>919792.0</td>\n",
       "      <td>68.0</td>\n",
       "      <td>750.0</td>\n",
       "      <td>818</td>\n",
       "      <td>8.312958</td>\n",
       "    </tr>\n",
       "    <tr>\n",
       "      <th>30</th>\n",
       "      <td>753</td>\n",
       "      <td>951186.0</td>\n",
       "      <td>8.0</td>\n",
       "      <td>92.0</td>\n",
       "      <td>100</td>\n",
       "      <td>8.000000</td>\n",
       "    </tr>\n",
       "    <tr>\n",
       "      <th>31</th>\n",
       "      <td>158</td>\n",
       "      <td>901178.0</td>\n",
       "      <td>25.0</td>\n",
       "      <td>288.0</td>\n",
       "      <td>313</td>\n",
       "      <td>7.987220</td>\n",
       "    </tr>\n",
       "    <tr>\n",
       "      <th>32</th>\n",
       "      <td>281</td>\n",
       "      <td>913938.0</td>\n",
       "      <td>408.0</td>\n",
       "      <td>4766.0</td>\n",
       "      <td>5174</td>\n",
       "      <td>7.885582</td>\n",
       "    </tr>\n",
       "    <tr>\n",
       "      <th>33</th>\n",
       "      <td>671</td>\n",
       "      <td>944476.0</td>\n",
       "      <td>16.0</td>\n",
       "      <td>189.0</td>\n",
       "      <td>205</td>\n",
       "      <td>7.804878</td>\n",
       "    </tr>\n",
       "    <tr>\n",
       "      <th>34</th>\n",
       "      <td>228</td>\n",
       "      <td>906410.0</td>\n",
       "      <td>19.0</td>\n",
       "      <td>232.0</td>\n",
       "      <td>251</td>\n",
       "      <td>7.569721</td>\n",
       "    </tr>\n",
       "    <tr>\n",
       "      <th>35</th>\n",
       "      <td>87</td>\n",
       "      <td>893172.0</td>\n",
       "      <td>3.0</td>\n",
       "      <td>38.0</td>\n",
       "      <td>41</td>\n",
       "      <td>7.317073</td>\n",
       "    </tr>\n",
       "    <tr>\n",
       "      <th>36</th>\n",
       "      <td>634</td>\n",
       "      <td>940630.0</td>\n",
       "      <td>127.0</td>\n",
       "      <td>1985.0</td>\n",
       "      <td>2112</td>\n",
       "      <td>6.013258</td>\n",
       "    </tr>\n",
       "    <tr>\n",
       "      <th>37</th>\n",
       "      <td>375</td>\n",
       "      <td>919552.0</td>\n",
       "      <td>63.0</td>\n",
       "      <td>1089.0</td>\n",
       "      <td>1152</td>\n",
       "      <td>5.468750</td>\n",
       "    </tr>\n",
       "    <tr>\n",
       "      <th>38</th>\n",
       "      <td>351</td>\n",
       "      <td>919214.0</td>\n",
       "      <td>1.0</td>\n",
       "      <td>18.0</td>\n",
       "      <td>19</td>\n",
       "      <td>5.263158</td>\n",
       "    </tr>\n",
       "    <tr>\n",
       "      <th>39</th>\n",
       "      <td>395</td>\n",
       "      <td>921062.0</td>\n",
       "      <td>6.0</td>\n",
       "      <td>113.0</td>\n",
       "      <td>119</td>\n",
       "      <td>5.042017</td>\n",
       "    </tr>\n",
       "    <tr>\n",
       "      <th>40</th>\n",
       "      <td>257</td>\n",
       "      <td>908834.0</td>\n",
       "      <td>1.0</td>\n",
       "      <td>23.0</td>\n",
       "      <td>24</td>\n",
       "      <td>4.166667</td>\n",
       "    </tr>\n",
       "    <tr>\n",
       "      <th>41</th>\n",
       "      <td>216</td>\n",
       "      <td>906076.0</td>\n",
       "      <td>1.0</td>\n",
       "      <td>24.0</td>\n",
       "      <td>25</td>\n",
       "      <td>4.000000</td>\n",
       "    </tr>\n",
       "    <tr>\n",
       "      <th>42</th>\n",
       "      <td>291</td>\n",
       "      <td>914256.0</td>\n",
       "      <td>1.0</td>\n",
       "      <td>24.0</td>\n",
       "      <td>25</td>\n",
       "      <td>4.000000</td>\n",
       "    </tr>\n",
       "    <tr>\n",
       "      <th>43</th>\n",
       "      <td>297</td>\n",
       "      <td>914440.0</td>\n",
       "      <td>1.0</td>\n",
       "      <td>30.0</td>\n",
       "      <td>31</td>\n",
       "      <td>3.225806</td>\n",
       "    </tr>\n",
       "    <tr>\n",
       "      <th>44</th>\n",
       "      <td>781</td>\n",
       "      <td>954086.0</td>\n",
       "      <td>1.0</td>\n",
       "      <td>31.0</td>\n",
       "      <td>32</td>\n",
       "      <td>3.125000</td>\n",
       "    </tr>\n",
       "    <tr>\n",
       "      <th>45</th>\n",
       "      <td>627</td>\n",
       "      <td>940588.0</td>\n",
       "      <td>67.0</td>\n",
       "      <td>2127.0</td>\n",
       "      <td>2194</td>\n",
       "      <td>3.053783</td>\n",
       "    </tr>\n",
       "    <tr>\n",
       "      <th>46</th>\n",
       "      <td>261</td>\n",
       "      <td>909134.0</td>\n",
       "      <td>5.0</td>\n",
       "      <td>197.0</td>\n",
       "      <td>202</td>\n",
       "      <td>2.475248</td>\n",
       "    </tr>\n",
       "    <tr>\n",
       "      <th>47</th>\n",
       "      <td>340</td>\n",
       "      <td>919166.0</td>\n",
       "      <td>20.0</td>\n",
       "      <td>993.0</td>\n",
       "      <td>1013</td>\n",
       "      <td>1.974334</td>\n",
       "    </tr>\n",
       "    <tr>\n",
       "      <th>48</th>\n",
       "      <td>379</td>\n",
       "      <td>919794.0</td>\n",
       "      <td>21.0</td>\n",
       "      <td>1136.0</td>\n",
       "      <td>1157</td>\n",
       "      <td>1.815039</td>\n",
       "    </tr>\n",
       "    <tr>\n",
       "      <th>49</th>\n",
       "      <td>339</td>\n",
       "      <td>919164.0</td>\n",
       "      <td>10.0</td>\n",
       "      <td>648.0</td>\n",
       "      <td>658</td>\n",
       "      <td>1.519757</td>\n",
       "    </tr>\n",
       "    <tr>\n",
       "      <th>50</th>\n",
       "      <td>377</td>\n",
       "      <td>919790.0</td>\n",
       "      <td>23.0</td>\n",
       "      <td>1578.0</td>\n",
       "      <td>1601</td>\n",
       "      <td>1.436602</td>\n",
       "    </tr>\n",
       "    <tr>\n",
       "      <th>51</th>\n",
       "      <td>210</td>\n",
       "      <td>905862.0</td>\n",
       "      <td>1.0</td>\n",
       "      <td>102.0</td>\n",
       "      <td>103</td>\n",
       "      <td>0.970874</td>\n",
       "    </tr>\n",
       "    <tr>\n",
       "      <th>52</th>\n",
       "      <td>376</td>\n",
       "      <td>919554.0</td>\n",
       "      <td>11.0</td>\n",
       "      <td>1182.0</td>\n",
       "      <td>1193</td>\n",
       "      <td>0.922045</td>\n",
       "    </tr>\n",
       "    <tr>\n",
       "      <th>53</th>\n",
       "      <td>349</td>\n",
       "      <td>919204.0</td>\n",
       "      <td>9.0</td>\n",
       "      <td>1167.0</td>\n",
       "      <td>1176</td>\n",
       "      <td>0.765306</td>\n",
       "    </tr>\n",
       "    <tr>\n",
       "      <th>54</th>\n",
       "      <td>882</td>\n",
       "      <td>-</td>\n",
       "      <td>521.0</td>\n",
       "      <td>104043.0</td>\n",
       "      <td>104564</td>\n",
       "      <td>0.498259</td>\n",
       "    </tr>\n",
       "    <tr>\n",
       "      <th>55</th>\n",
       "      <td>577</td>\n",
       "      <td>937956.0</td>\n",
       "      <td>1.0</td>\n",
       "      <td>773.0</td>\n",
       "      <td>774</td>\n",
       "      <td>0.129199</td>\n",
       "    </tr>\n",
       "    <tr>\n",
       "      <th>56</th>\n",
       "      <td>350</td>\n",
       "      <td>919206.0</td>\n",
       "      <td>1.0</td>\n",
       "      <td>926.0</td>\n",
       "      <td>927</td>\n",
       "      <td>0.107875</td>\n",
       "    </tr>\n",
       "  </tbody>\n",
       "</table>\n",
       "</div>"
      ],
      "text/plain": [
       "    index operator_id  outgoing_calls  incoming_calls  total_calls  out_calls%\n",
       "0     486    930816.0             1.0             4.0            5   20.000000\n",
       "1     514    934000.0             2.0             8.0           10   20.000000\n",
       "2     325    917876.0             2.0             8.0           10   20.000000\n",
       "3     680    945058.0             1.0             4.0            5   20.000000\n",
       "4     274    911310.0            95.0           401.0          496   19.153226\n",
       "5      73    891908.0             9.0            39.0           48   18.750000\n",
       "6     215    906070.0            71.0           324.0          395   17.974684\n",
       "7     189    904044.0            23.0           108.0          131   17.557252\n",
       "8     672    944560.0             1.0             5.0            6   16.666667\n",
       "9     747    949420.0             1.0             5.0            6   16.666667\n",
       "10    487    930820.0             1.0             5.0            6   16.666667\n",
       "11     74    891918.0             1.0             5.0            6   16.666667\n",
       "12    617    940436.0             6.0            30.0           36   16.666667\n",
       "13    253    908080.0             1.0             5.0            6   16.666667\n",
       "14    548    937742.0             3.0            16.0           19   15.789474\n",
       "15    282    913942.0           440.0          2467.0         2907   15.135879\n",
       "16    668    944228.0             5.0            29.0           34   14.705882\n",
       "17    259    908960.0           113.0           695.0          808   13.985149\n",
       "18    523    935548.0             3.0            19.0           22   13.636364\n",
       "19     89    893402.0            51.0           338.0          389   13.110540\n",
       "20    864    969294.0            12.0            84.0           96   12.500000\n",
       "21     90    893420.0            29.0           206.0          235   12.340426\n",
       "22    425    924544.0            13.0           104.0          117   11.111111\n",
       "23    768    952462.0             1.0             8.0            9   11.111111\n",
       "24    258    908958.0           107.0           952.0         1059   10.103872\n",
       "25    669    944246.0             1.0             9.0           10   10.000000\n",
       "26    504    932798.0            10.0            98.0          108    9.259259\n",
       "27    475    930326.0             1.0            10.0           11    9.090909\n",
       "28    159    901492.0             3.0            30.0           33    9.090909\n",
       "29    378    919792.0            68.0           750.0          818    8.312958\n",
       "30    753    951186.0             8.0            92.0          100    8.000000\n",
       "31    158    901178.0            25.0           288.0          313    7.987220\n",
       "32    281    913938.0           408.0          4766.0         5174    7.885582\n",
       "33    671    944476.0            16.0           189.0          205    7.804878\n",
       "34    228    906410.0            19.0           232.0          251    7.569721\n",
       "35     87    893172.0             3.0            38.0           41    7.317073\n",
       "36    634    940630.0           127.0          1985.0         2112    6.013258\n",
       "37    375    919552.0            63.0          1089.0         1152    5.468750\n",
       "38    351    919214.0             1.0            18.0           19    5.263158\n",
       "39    395    921062.0             6.0           113.0          119    5.042017\n",
       "40    257    908834.0             1.0            23.0           24    4.166667\n",
       "41    216    906076.0             1.0            24.0           25    4.000000\n",
       "42    291    914256.0             1.0            24.0           25    4.000000\n",
       "43    297    914440.0             1.0            30.0           31    3.225806\n",
       "44    781    954086.0             1.0            31.0           32    3.125000\n",
       "45    627    940588.0            67.0          2127.0         2194    3.053783\n",
       "46    261    909134.0             5.0           197.0          202    2.475248\n",
       "47    340    919166.0            20.0           993.0         1013    1.974334\n",
       "48    379    919794.0            21.0          1136.0         1157    1.815039\n",
       "49    339    919164.0            10.0           648.0          658    1.519757\n",
       "50    377    919790.0            23.0          1578.0         1601    1.436602\n",
       "51    210    905862.0             1.0           102.0          103    0.970874\n",
       "52    376    919554.0            11.0          1182.0         1193    0.922045\n",
       "53    349    919204.0             9.0          1167.0         1176    0.765306\n",
       "54    882           -           521.0        104043.0       104564    0.498259\n",
       "55    577    937956.0             1.0           773.0          774    0.129199\n",
       "56    350    919206.0             1.0           926.0          927    0.107875"
      ]
     },
     "execution_count": 41,
     "metadata": {},
     "output_type": "execute_result"
    }
   ],
   "source": [
    "out_calls_operator = number_calls[number_calls['out_calls%']<=20].sort_values(by= 'out_calls%', ascending = False).reset_index()\n",
    "out_calls_operator"
   ]
  },
  {
   "cell_type": "markdown",
   "metadata": {},
   "source": [
    "Estos 56 operadores son los que tienen menos del 20% de sus llamadas como salientes..."
   ]
  },
  {
   "cell_type": "markdown",
   "metadata": {},
   "source": [
    "### Identificar operadores ineficaces \n",
    "\n",
    "Ahora que hemos realizado las pruebas y determinado los operadores con numeros altos en tiempo de espera, porcentajes bajos en llamadas salientes y porcentajes altos en llamadas perdidas, Un operador se considerará ineficaz si aparece en al menos dos de las tres tablas."
   ]
  },
  {
   "cell_type": "code",
   "execution_count": 42,
   "metadata": {},
   "outputs": [],
   "source": [
    "\n",
    "inefficient_operators = out_calls_operator[out_calls_operator['operator_id'].isin(waiting_time_operator['operator_id']) | \n",
    "                                           out_calls_operator['operator_id'].isin(porcent_missed['operator_id'])]"
   ]
  },
  {
   "cell_type": "code",
   "execution_count": 43,
   "metadata": {},
   "outputs": [],
   "source": [
    "efficient_operators = out_calls_operator[~out_calls_operator['operator_id'].isin(inefficient_operators['operator_id'])]"
   ]
  },
  {
   "cell_type": "code",
   "execution_count": 44,
   "metadata": {},
   "outputs": [
    {
     "data": {
      "text/html": [
       "<div>\n",
       "<style scoped>\n",
       "    .dataframe tbody tr th:only-of-type {\n",
       "        vertical-align: middle;\n",
       "    }\n",
       "\n",
       "    .dataframe tbody tr th {\n",
       "        vertical-align: top;\n",
       "    }\n",
       "\n",
       "    .dataframe thead th {\n",
       "        text-align: right;\n",
       "    }\n",
       "</style>\n",
       "<table border=\"1\" class=\"dataframe\">\n",
       "  <thead>\n",
       "    <tr style=\"text-align: right;\">\n",
       "      <th></th>\n",
       "      <th>index</th>\n",
       "      <th>operator_id</th>\n",
       "      <th>outgoing_calls</th>\n",
       "      <th>incoming_calls</th>\n",
       "      <th>total_calls</th>\n",
       "      <th>out_calls%</th>\n",
       "    </tr>\n",
       "  </thead>\n",
       "  <tbody>\n",
       "    <tr>\n",
       "      <th>48</th>\n",
       "      <td>379</td>\n",
       "      <td>919794.0</td>\n",
       "      <td>21.0</td>\n",
       "      <td>1136.0</td>\n",
       "      <td>1157</td>\n",
       "      <td>1.815039</td>\n",
       "    </tr>\n",
       "    <tr>\n",
       "      <th>50</th>\n",
       "      <td>377</td>\n",
       "      <td>919790.0</td>\n",
       "      <td>23.0</td>\n",
       "      <td>1578.0</td>\n",
       "      <td>1601</td>\n",
       "      <td>1.436602</td>\n",
       "    </tr>\n",
       "    <tr>\n",
       "      <th>52</th>\n",
       "      <td>376</td>\n",
       "      <td>919554.0</td>\n",
       "      <td>11.0</td>\n",
       "      <td>1182.0</td>\n",
       "      <td>1193</td>\n",
       "      <td>0.922045</td>\n",
       "    </tr>\n",
       "    <tr>\n",
       "      <th>54</th>\n",
       "      <td>882</td>\n",
       "      <td>-</td>\n",
       "      <td>521.0</td>\n",
       "      <td>104043.0</td>\n",
       "      <td>104564</td>\n",
       "      <td>0.498259</td>\n",
       "    </tr>\n",
       "    <tr>\n",
       "      <th>56</th>\n",
       "      <td>350</td>\n",
       "      <td>919206.0</td>\n",
       "      <td>1.0</td>\n",
       "      <td>926.0</td>\n",
       "      <td>927</td>\n",
       "      <td>0.107875</td>\n",
       "    </tr>\n",
       "  </tbody>\n",
       "</table>\n",
       "</div>"
      ],
      "text/plain": [
       "    index operator_id  outgoing_calls  incoming_calls  total_calls  out_calls%\n",
       "48    379    919794.0            21.0          1136.0         1157    1.815039\n",
       "50    377    919790.0            23.0          1578.0         1601    1.436602\n",
       "52    376    919554.0            11.0          1182.0         1193    0.922045\n",
       "54    882           -           521.0        104043.0       104564    0.498259\n",
       "56    350    919206.0             1.0           926.0          927    0.107875"
      ]
     },
     "execution_count": 44,
     "metadata": {},
     "output_type": "execute_result"
    }
   ],
   "source": [
    "inefficient_operators"
   ]
  },
  {
   "cell_type": "markdown",
   "metadata": {},
   "source": [
    "Esots 5 operadores se identifican como ineficaces, ya que aparecen en más de una tabla.."
   ]
  },
  {
   "cell_type": "markdown",
   "metadata": {},
   "source": [
    "## Prueba de hipotesis "
   ]
  },
  {
   "cell_type": "markdown",
   "metadata": {},
   "source": [
    "### un operador ineficaz tiene gran cantidad de llamadas entrantes perdidas (internas y externas)\n",
    "\n",
    "Hipótesis nula: No hay una relación significativa entre la ineficacia del operador y la cantidad de llamadas entrantes perdidas."
   ]
  },
  {
   "cell_type": "code",
   "execution_count": 45,
   "metadata": {},
   "outputs": [],
   "source": [
    "inefficient_missed_calls = porcent_missed[porcent_missed['operator_id'].isin(inefficient_operators['operator_id'])]['missed']\n",
    "effecient_missed_calls = porcent_missed[porcent_missed['operator_id'].isin(efficient_operators['operator_id'])]['missed']"
   ]
  },
  {
   "cell_type": "code",
   "execution_count": 46,
   "metadata": {},
   "outputs": [
    {
     "data": {
      "text/html": [
       "<div>\n",
       "<style scoped>\n",
       "    .dataframe tbody tr th:only-of-type {\n",
       "        vertical-align: middle;\n",
       "    }\n",
       "\n",
       "    .dataframe tbody tr th {\n",
       "        vertical-align: top;\n",
       "    }\n",
       "\n",
       "    .dataframe thead th {\n",
       "        text-align: right;\n",
       "    }\n",
       "</style>\n",
       "<table border=\"1\" class=\"dataframe\">\n",
       "  <thead>\n",
       "    <tr style=\"text-align: right;\">\n",
       "      <th></th>\n",
       "      <th>operator_id</th>\n",
       "      <th>answer</th>\n",
       "      <th>missed</th>\n",
       "      <th>total</th>\n",
       "      <th>missed%</th>\n",
       "    </tr>\n",
       "  </thead>\n",
       "  <tbody>\n",
       "    <tr>\n",
       "      <th>0</th>\n",
       "      <td>879896.0</td>\n",
       "      <td>70</td>\n",
       "      <td>47</td>\n",
       "      <td>117</td>\n",
       "      <td>40.170940</td>\n",
       "    </tr>\n",
       "    <tr>\n",
       "      <th>1</th>\n",
       "      <td>879898.0</td>\n",
       "      <td>138</td>\n",
       "      <td>89</td>\n",
       "      <td>227</td>\n",
       "      <td>39.207048</td>\n",
       "    </tr>\n",
       "    <tr>\n",
       "      <th>2</th>\n",
       "      <td>880020.0</td>\n",
       "      <td>14</td>\n",
       "      <td>6</td>\n",
       "      <td>20</td>\n",
       "      <td>30.000000</td>\n",
       "    </tr>\n",
       "    <tr>\n",
       "      <th>3</th>\n",
       "      <td>880022.0</td>\n",
       "      <td>41</td>\n",
       "      <td>29</td>\n",
       "      <td>70</td>\n",
       "      <td>41.428571</td>\n",
       "    </tr>\n",
       "    <tr>\n",
       "      <th>4</th>\n",
       "      <td>880026.0</td>\n",
       "      <td>95</td>\n",
       "      <td>87</td>\n",
       "      <td>182</td>\n",
       "      <td>47.802198</td>\n",
       "    </tr>\n",
       "    <tr>\n",
       "      <th>...</th>\n",
       "      <td>...</td>\n",
       "      <td>...</td>\n",
       "      <td>...</td>\n",
       "      <td>...</td>\n",
       "      <td>...</td>\n",
       "    </tr>\n",
       "    <tr>\n",
       "      <th>1088</th>\n",
       "      <td>972412.0</td>\n",
       "      <td>3</td>\n",
       "      <td>2</td>\n",
       "      <td>5</td>\n",
       "      <td>40.000000</td>\n",
       "    </tr>\n",
       "    <tr>\n",
       "      <th>1089</th>\n",
       "      <td>972460.0</td>\n",
       "      <td>4</td>\n",
       "      <td>3</td>\n",
       "      <td>7</td>\n",
       "      <td>42.857143</td>\n",
       "    </tr>\n",
       "    <tr>\n",
       "      <th>1090</th>\n",
       "      <td>973120.0</td>\n",
       "      <td>1</td>\n",
       "      <td>1</td>\n",
       "      <td>2</td>\n",
       "      <td>50.000000</td>\n",
       "    </tr>\n",
       "    <tr>\n",
       "      <th>1091</th>\n",
       "      <td>973286.0</td>\n",
       "      <td>1</td>\n",
       "      <td>0</td>\n",
       "      <td>1</td>\n",
       "      <td>0.000000</td>\n",
       "    </tr>\n",
       "    <tr>\n",
       "      <th>1092</th>\n",
       "      <td>-</td>\n",
       "      <td>113</td>\n",
       "      <td>7343</td>\n",
       "      <td>7456</td>\n",
       "      <td>98.484442</td>\n",
       "    </tr>\n",
       "  </tbody>\n",
       "</table>\n",
       "<p>1093 rows × 5 columns</p>\n",
       "</div>"
      ],
      "text/plain": [
       "     operator_id  answer  missed  total    missed%\n",
       "0       879896.0      70      47    117  40.170940\n",
       "1       879898.0     138      89    227  39.207048\n",
       "2       880020.0      14       6     20  30.000000\n",
       "3       880022.0      41      29     70  41.428571\n",
       "4       880026.0      95      87    182  47.802198\n",
       "...          ...     ...     ...    ...        ...\n",
       "1088    972412.0       3       2      5  40.000000\n",
       "1089    972460.0       4       3      7  42.857143\n",
       "1090    973120.0       1       1      2  50.000000\n",
       "1091    973286.0       1       0      1   0.000000\n",
       "1092           -     113    7343   7456  98.484442\n",
       "\n",
       "[1093 rows x 5 columns]"
      ]
     },
     "execution_count": 46,
     "metadata": {},
     "output_type": "execute_result"
    }
   ],
   "source": [
    "missed_calls"
   ]
  },
  {
   "cell_type": "code",
   "execution_count": 47,
   "metadata": {},
   "outputs": [
    {
     "name": "stdout",
     "output_type": "stream",
     "text": [
      "Z-statistic: -26.22197453977994, P-value: 1.4926251632496143e-151\n"
     ]
    }
   ],
   "source": [
    "# umbral en 80%\n",
    "umbral = missed_calls['missed%'].quantile(0.80)\n",
    "inefficent_calls_h = missed_calls[missed_calls['missed%'] >= umbral]\n",
    "efficent_calls_h = missed_calls[missed_calls['missed%'] < umbral]\n",
    "\n",
    "alpha = 0.05\n",
    "\n",
    "count = [len(inefficent_calls_h), len(efficent_calls_h)]\n",
    "nobs = [len(missed_calls), len(missed_calls)]\n",
    "stat, p_value = proportions_ztest(count, nobs)\n",
    "\n",
    "print(f'Z-statistic: {stat}, P-value: {p_value}')"
   ]
  },
  {
   "cell_type": "markdown",
   "metadata": {},
   "source": [
    "\n",
    "debido a que el valor p es de 1.492 y esmayor que 0.05, podemos rechazar la hipótesis nula y concluimos que no hay diferencia significativa entre la cantidad de llamadas entrantes perdidas entre los operadores ineficaces y eficaces.\n"
   ]
  },
  {
   "cell_type": "markdown",
   "metadata": {},
   "source": [
    "###  Un operador ineficaz, tiene un tiempo de espera prolongado para las llamadas entrantes.\n",
    "\n",
    "Hipotesis nula: Hay una diferencia significativa en el tiempo de espera de las llamadas entrantes entre los operadores ineficaces y los operadores eficaces."
   ]
  },
  {
   "cell_type": "code",
   "execution_count": 48,
   "metadata": {},
   "outputs": [
    {
     "data": {
      "text/html": [
       "<div>\n",
       "<style scoped>\n",
       "    .dataframe tbody tr th:only-of-type {\n",
       "        vertical-align: middle;\n",
       "    }\n",
       "\n",
       "    .dataframe tbody tr th {\n",
       "        vertical-align: top;\n",
       "    }\n",
       "\n",
       "    .dataframe thead th {\n",
       "        text-align: right;\n",
       "    }\n",
       "</style>\n",
       "<table border=\"1\" class=\"dataframe\">\n",
       "  <thead>\n",
       "    <tr style=\"text-align: right;\">\n",
       "      <th></th>\n",
       "      <th>operator_id</th>\n",
       "      <th>wait_time</th>\n",
       "    </tr>\n",
       "  </thead>\n",
       "  <tbody>\n",
       "    <tr>\n",
       "      <th>0</th>\n",
       "      <td>885890.0</td>\n",
       "      <td>4525.0</td>\n",
       "    </tr>\n",
       "    <tr>\n",
       "      <th>1</th>\n",
       "      <td>929428.0</td>\n",
       "      <td>3030.0</td>\n",
       "    </tr>\n",
       "    <tr>\n",
       "      <th>2</th>\n",
       "      <td>925922.0</td>\n",
       "      <td>3007.0</td>\n",
       "    </tr>\n",
       "    <tr>\n",
       "      <th>3</th>\n",
       "      <td>908640.0</td>\n",
       "      <td>2885.0</td>\n",
       "    </tr>\n",
       "    <tr>\n",
       "      <th>4</th>\n",
       "      <td>919364.0</td>\n",
       "      <td>2784.0</td>\n",
       "    </tr>\n",
       "    <tr>\n",
       "      <th>...</th>\n",
       "      <td>...</td>\n",
       "      <td>...</td>\n",
       "    </tr>\n",
       "    <tr>\n",
       "      <th>1088</th>\n",
       "      <td>955068.0</td>\n",
       "      <td>0.0</td>\n",
       "    </tr>\n",
       "    <tr>\n",
       "      <th>1089</th>\n",
       "      <td>958458.0</td>\n",
       "      <td>0.0</td>\n",
       "    </tr>\n",
       "    <tr>\n",
       "      <th>1090</th>\n",
       "      <td>922486.0</td>\n",
       "      <td>0.0</td>\n",
       "    </tr>\n",
       "    <tr>\n",
       "      <th>1091</th>\n",
       "      <td>953460.0</td>\n",
       "      <td>0.0</td>\n",
       "    </tr>\n",
       "    <tr>\n",
       "      <th>1092</th>\n",
       "      <td>960674.0</td>\n",
       "      <td>0.0</td>\n",
       "    </tr>\n",
       "  </tbody>\n",
       "</table>\n",
       "<p>1093 rows × 2 columns</p>\n",
       "</div>"
      ],
      "text/plain": [
       "     operator_id  wait_time\n",
       "0       885890.0     4525.0\n",
       "1       929428.0     3030.0\n",
       "2       925922.0     3007.0\n",
       "3       908640.0     2885.0\n",
       "4       919364.0     2784.0\n",
       "...          ...        ...\n",
       "1088    955068.0        0.0\n",
       "1089    958458.0        0.0\n",
       "1090    922486.0        0.0\n",
       "1091    953460.0        0.0\n",
       "1092    960674.0        0.0\n",
       "\n",
       "[1093 rows x 2 columns]"
      ]
     },
     "execution_count": 48,
     "metadata": {},
     "output_type": "execute_result"
    }
   ],
   "source": [
    "waiting_time_df\n"
   ]
  },
  {
   "cell_type": "code",
   "execution_count": 49,
   "metadata": {},
   "outputs": [],
   "source": [
    "inefficient_wait_time = waiting_time_df[waiting_time_df['operator_id'].isin(inefficient_operators['operator_id'])]['wait_time']\n",
    "effecient_wait_time = waiting_time_df[waiting_time_df['operator_id'].isin(efficient_operators['operator_id'])]['wait_time']\n"
   ]
  },
  {
   "cell_type": "code",
   "execution_count": 50,
   "metadata": {},
   "outputs": [
    {
     "name": "stdout",
     "output_type": "stream",
     "text": [
      "T-statistic: 9.617273285782492, P-value: 2.2158487073040012e-13\n"
     ]
    }
   ],
   "source": [
    "t_statistic, p_value = st.ttest_ind(inefficient_wait_time, effecient_wait_time )\n",
    "\n",
    "print(f'T-statistic: {t_statistic}, P-value: {p_value}')"
   ]
  },
  {
   "cell_type": "markdown",
   "metadata": {},
   "source": [
    "Debido que  el valor p es de 2.2158, mayor que 0.05, No podemos rechazar la hipotesis nula"
   ]
  },
  {
   "cell_type": "markdown",
   "metadata": {},
   "source": [
    "### El número de llamadas salientes de los operadores ineficaces.\n",
    "\n",
    "Hipotesis nula: El número de llamadas salientes de los operadores ineficaces es diferente al de los operadores eficaces"
   ]
  },
  {
   "cell_type": "code",
   "execution_count": 51,
   "metadata": {},
   "outputs": [],
   "source": [
    "# Obtener el número de llamadas salientes para los operadores ineficaces y eficaces\n",
    "inefficient_out_calls = number_calls[number_calls['operator_id'].isin(inefficient_operators['operator_id'])]['outgoing_calls']\n",
    "efficient_out_calls = number_calls[number_calls['operator_id'].isin(efficient_operators['operator_id'])]['outgoing_calls']\n"
   ]
  },
  {
   "cell_type": "code",
   "execution_count": 52,
   "metadata": {},
   "outputs": [
    {
     "name": "stdout",
     "output_type": "stream",
     "text": [
      "T-statistic: 1.6627999573668488, P-value: 0.10204168928273155\n"
     ]
    }
   ],
   "source": [
    "t_statistic, p_value = st.ttest_ind(inefficient_out_calls, efficient_out_calls)\n",
    "\n",
    "print(f'T-statistic: {t_statistic}, P-value: {p_value}')"
   ]
  },
  {
   "cell_type": "markdown",
   "metadata": {},
   "source": [
    "Dado que el p-value (0.102) es mayor que 0.05, no podemos rechazar la hipótesis nula (H₀). "
   ]
  },
  {
   "cell_type": "code",
   "execution_count": null,
   "metadata": {},
   "outputs": [],
   "source": []
  },
  {
   "cell_type": "markdown",
   "metadata": {},
   "source": [
    "Hola revisor, disculpe que he mandado esto sin terminar, me estanque un poco ya que a la hora de querer filtrar mis resultados de operadores ineficientes me sale que no hay ninguno, lo intente hacer de dos formas pero ambas me salieron sin resultados, no sé que esta mal o si le estoy dando un mal angulo a esto, podría ayudartme con eso? "
   ]
  },
  {
   "cell_type": "markdown",
   "metadata": {},
   "source": [
    "## Conclusiones"
   ]
  },
  {
   "cell_type": "markdown",
   "metadata": {},
   "source": [
    "A lo largo de las pruebas estadísticas realizadas, todas las hipótesis nulas no fueron rechazadas, lo que indica que existen diferencias significativas entre los operadores ineficaces y eficaces en diversos aspectos de su desempeño. Los resultados obtenidos sugieren que los operadores ineficaces presentan características comunes que afectan negativamente su rendimiento, tales como:\n",
    "\n",
    "Un alto número de llamadas perdidas, tanto internas como externas.\n",
    "\n",
    "Tiempos de espera prolongados para las llamadas entrantes.\n",
    "\n",
    "Un bajo volumen de llamadas salientes en comparación con los operadores eficaces.\n",
    "\n",
    "En conclusión, los resultados respaldan la afirmación de que los operadores ineficaces muestran un desempeño significativamente inferior en estas áreas clave. Esta evidencia sugiere que los operadores que presentan estas deficiencias no están desempeñando adecuadamente su rol, ya sea en la gestión de llamadas entrantes, en la optimización de tiempos de espera, o en la realización de llamadas salientes.\n"
   ]
  }
 ],
 "metadata": {
  "ExecuteTimeLog": [
   {
    "duration": 295,
    "start_time": "2024-12-10T01:45:39.337Z"
   },
   {
    "duration": 540,
    "start_time": "2024-12-10T01:46:22.559Z"
   },
   {
    "duration": 58,
    "start_time": "2024-12-10T01:47:47.689Z"
   },
   {
    "duration": 15,
    "start_time": "2024-12-10T01:48:03.282Z"
   },
   {
    "duration": 293,
    "start_time": "2024-12-10T01:56:08.253Z"
   },
   {
    "duration": 43,
    "start_time": "2024-12-10T01:56:08.549Z"
   },
   {
    "duration": 14,
    "start_time": "2024-12-10T01:56:08.593Z"
   },
   {
    "duration": 15,
    "start_time": "2024-12-10T01:56:08.609Z"
   },
   {
    "duration": 9,
    "start_time": "2024-12-10T01:59:03.747Z"
   },
   {
    "duration": 271,
    "start_time": "2024-12-10T01:59:09.482Z"
   },
   {
    "duration": 38,
    "start_time": "2024-12-10T01:59:09.755Z"
   },
   {
    "duration": 12,
    "start_time": "2024-12-10T01:59:09.795Z"
   },
   {
    "duration": 15,
    "start_time": "2024-12-10T01:59:09.808Z"
   },
   {
    "duration": 8,
    "start_time": "2024-12-10T01:59:09.826Z"
   },
   {
    "duration": 280,
    "start_time": "2024-12-10T01:59:35.463Z"
   },
   {
    "duration": 42,
    "start_time": "2024-12-10T01:59:35.745Z"
   },
   {
    "duration": 13,
    "start_time": "2024-12-10T01:59:35.789Z"
   },
   {
    "duration": 17,
    "start_time": "2024-12-10T01:59:35.803Z"
   },
   {
    "duration": 9,
    "start_time": "2024-12-10T01:59:35.823Z"
   },
   {
    "duration": 10,
    "start_time": "2024-12-10T01:59:35.833Z"
   },
   {
    "duration": 11,
    "start_time": "2024-12-10T02:03:30.500Z"
   },
   {
    "duration": 11,
    "start_time": "2024-12-10T02:03:33.337Z"
   },
   {
    "duration": 9,
    "start_time": "2024-12-10T02:03:37.250Z"
   },
   {
    "duration": 10,
    "start_time": "2024-12-10T02:03:40.850Z"
   },
   {
    "duration": 12,
    "start_time": "2024-12-10T02:03:52.758Z"
   },
   {
    "duration": 157,
    "start_time": "2024-12-10T19:39:26.261Z"
   },
   {
    "duration": 288,
    "start_time": "2024-12-10T19:39:34.275Z"
   },
   {
    "duration": 64,
    "start_time": "2024-12-10T19:39:34.565Z"
   },
   {
    "duration": 20,
    "start_time": "2024-12-10T19:39:34.631Z"
   },
   {
    "duration": 19,
    "start_time": "2024-12-10T19:39:34.653Z"
   },
   {
    "duration": 13,
    "start_time": "2024-12-10T19:39:34.675Z"
   },
   {
    "duration": 16,
    "start_time": "2024-12-10T19:39:34.689Z"
   },
   {
    "duration": 11,
    "start_time": "2024-12-10T19:40:32.860Z"
   },
   {
    "duration": 9,
    "start_time": "2024-12-10T19:40:37.579Z"
   },
   {
    "duration": 9,
    "start_time": "2024-12-10T19:40:40.351Z"
   },
   {
    "duration": 9,
    "start_time": "2024-12-10T19:40:42.442Z"
   },
   {
    "duration": 9,
    "start_time": "2024-12-10T19:40:44.838Z"
   },
   {
    "duration": 13,
    "start_time": "2024-12-10T19:40:52.098Z"
   },
   {
    "duration": 4,
    "start_time": "2024-12-10T19:41:21.572Z"
   },
   {
    "duration": 26,
    "start_time": "2024-12-10T19:53:26.465Z"
   },
   {
    "duration": 13,
    "start_time": "2024-12-10T19:53:32.369Z"
   },
   {
    "duration": 13,
    "start_time": "2024-12-10T19:53:49.925Z"
   },
   {
    "duration": 20,
    "start_time": "2024-12-10T19:55:08.853Z"
   },
   {
    "duration": 14,
    "start_time": "2024-12-10T19:55:12.507Z"
   },
   {
    "duration": 6,
    "start_time": "2024-12-10T19:56:02.386Z"
   },
   {
    "duration": 5,
    "start_time": "2024-12-10T19:56:14.755Z"
   },
   {
    "duration": 678,
    "start_time": "2024-12-10T19:56:28.614Z"
   },
   {
    "duration": 46,
    "start_time": "2024-12-10T19:59:06.755Z"
   },
   {
    "duration": 306,
    "start_time": "2024-12-10T20:00:09.256Z"
   },
   {
    "duration": 37,
    "start_time": "2024-12-10T20:00:09.565Z"
   },
   {
    "duration": 24,
    "start_time": "2024-12-10T20:00:09.603Z"
   },
   {
    "duration": 12,
    "start_time": "2024-12-10T20:00:09.629Z"
   },
   {
    "duration": 9,
    "start_time": "2024-12-10T20:00:09.643Z"
   },
   {
    "duration": 25,
    "start_time": "2024-12-10T20:00:09.654Z"
   },
   {
    "duration": 12,
    "start_time": "2024-12-10T20:00:09.681Z"
   },
   {
    "duration": 173,
    "start_time": "2024-12-10T20:01:23.390Z"
   },
   {
    "duration": 4,
    "start_time": "2024-12-10T20:01:28.611Z"
   },
   {
    "duration": 15,
    "start_time": "2024-12-10T20:19:00.079Z"
   },
   {
    "duration": 6,
    "start_time": "2024-12-10T20:21:30.038Z"
   },
   {
    "duration": 6,
    "start_time": "2024-12-10T20:21:39.750Z"
   },
   {
    "duration": 3,
    "start_time": "2024-12-10T20:30:05.042Z"
   },
   {
    "duration": 13,
    "start_time": "2024-12-10T20:30:07.983Z"
   },
   {
    "duration": 14,
    "start_time": "2024-12-10T20:33:52.507Z"
   },
   {
    "duration": 9,
    "start_time": "2024-12-10T21:10:05.259Z"
   },
   {
    "duration": 8,
    "start_time": "2024-12-10T21:10:19.931Z"
   },
   {
    "duration": 13,
    "start_time": "2024-12-10T21:10:32.988Z"
   },
   {
    "duration": 10,
    "start_time": "2024-12-10T21:10:38.040Z"
   },
   {
    "duration": 4,
    "start_time": "2024-12-10T21:11:46.340Z"
   },
   {
    "duration": 12,
    "start_time": "2024-12-10T22:16:06.934Z"
   },
   {
    "duration": 20,
    "start_time": "2024-12-10T22:16:18.918Z"
   },
   {
    "duration": 16,
    "start_time": "2024-12-10T22:16:21.912Z"
   },
   {
    "duration": 3,
    "start_time": "2024-12-10T22:16:28.377Z"
   },
   {
    "duration": 4,
    "start_time": "2024-12-10T22:43:09.276Z"
   },
   {
    "duration": 6,
    "start_time": "2024-12-10T22:43:12.652Z"
   },
   {
    "duration": 5,
    "start_time": "2024-12-10T22:43:45.285Z"
   },
   {
    "duration": 3,
    "start_time": "2024-12-10T22:43:58.290Z"
   },
   {
    "duration": 6,
    "start_time": "2024-12-10T22:44:08.656Z"
   },
   {
    "duration": 6,
    "start_time": "2024-12-10T22:44:19.057Z"
   },
   {
    "duration": 13,
    "start_time": "2024-12-10T22:44:22.157Z"
   },
   {
    "duration": 8,
    "start_time": "2024-12-10T22:53:40.191Z"
   },
   {
    "duration": 10,
    "start_time": "2024-12-10T22:54:54.893Z"
   },
   {
    "duration": 12,
    "start_time": "2024-12-10T22:55:10.494Z"
   },
   {
    "duration": 17,
    "start_time": "2024-12-10T23:11:47.959Z"
   },
   {
    "duration": 7,
    "start_time": "2024-12-10T23:11:53.048Z"
   },
   {
    "duration": 4,
    "start_time": "2024-12-10T23:12:33.521Z"
   },
   {
    "duration": 3,
    "start_time": "2024-12-10T23:12:44.505Z"
   },
   {
    "duration": 3,
    "start_time": "2024-12-10T23:12:50.187Z"
   },
   {
    "duration": 5,
    "start_time": "2024-12-10T23:12:54.634Z"
   },
   {
    "duration": 8,
    "start_time": "2024-12-10T23:13:09.181Z"
   },
   {
    "duration": 15,
    "start_time": "2024-12-10T23:14:00.592Z"
   },
   {
    "duration": 6,
    "start_time": "2024-12-10T23:14:44.338Z"
   },
   {
    "duration": 9,
    "start_time": "2024-12-10T23:14:52.539Z"
   },
   {
    "duration": 6,
    "start_time": "2024-12-10T23:33:35.033Z"
   },
   {
    "duration": 4,
    "start_time": "2024-12-10T23:33:39.609Z"
   },
   {
    "duration": 606,
    "start_time": "2024-12-10T23:40:13.430Z"
   },
   {
    "duration": 16,
    "start_time": "2024-12-10T23:42:51.390Z"
   },
   {
    "duration": 129,
    "start_time": "2024-12-10T23:43:01.668Z"
   },
   {
    "duration": 9,
    "start_time": "2024-12-10T23:43:58.687Z"
   },
   {
    "duration": 7,
    "start_time": "2024-12-11T00:05:28.433Z"
   },
   {
    "duration": 5,
    "start_time": "2024-12-11T00:07:02.500Z"
   },
   {
    "duration": 4,
    "start_time": "2024-12-11T00:07:08.669Z"
   },
   {
    "duration": 6,
    "start_time": "2024-12-11T00:07:34.712Z"
   },
   {
    "duration": 15,
    "start_time": "2024-12-11T00:08:37.471Z"
   },
   {
    "duration": 5,
    "start_time": "2024-12-11T00:08:54.973Z"
   },
   {
    "duration": 6,
    "start_time": "2024-12-11T00:09:00.810Z"
   },
   {
    "duration": 7,
    "start_time": "2024-12-11T00:09:22.314Z"
   },
   {
    "duration": 18,
    "start_time": "2024-12-11T00:09:26.190Z"
   },
   {
    "duration": 6,
    "start_time": "2024-12-11T00:09:29.984Z"
   },
   {
    "duration": 3,
    "start_time": "2024-12-11T00:09:39.164Z"
   },
   {
    "duration": 273,
    "start_time": "2024-12-11T21:49:26.997Z"
   },
   {
    "duration": 62,
    "start_time": "2024-12-11T21:49:27.273Z"
   },
   {
    "duration": 17,
    "start_time": "2024-12-11T21:49:27.337Z"
   },
   {
    "duration": 12,
    "start_time": "2024-12-11T21:49:27.357Z"
   },
   {
    "duration": 8,
    "start_time": "2024-12-11T21:49:27.371Z"
   },
   {
    "duration": 3,
    "start_time": "2024-12-11T21:49:27.381Z"
   },
   {
    "duration": 43,
    "start_time": "2024-12-11T21:49:27.386Z"
   },
   {
    "duration": 13,
    "start_time": "2024-12-11T21:49:27.431Z"
   },
   {
    "duration": 5,
    "start_time": "2024-12-11T21:49:27.445Z"
   },
   {
    "duration": 15,
    "start_time": "2024-12-11T21:49:27.453Z"
   },
   {
    "duration": 5,
    "start_time": "2024-12-11T21:49:27.470Z"
   },
   {
    "duration": 13,
    "start_time": "2024-12-11T21:49:27.477Z"
   },
   {
    "duration": 34,
    "start_time": "2024-12-11T21:49:27.491Z"
   },
   {
    "duration": 13,
    "start_time": "2024-12-11T21:49:27.527Z"
   },
   {
    "duration": 4,
    "start_time": "2024-12-11T21:49:27.542Z"
   },
   {
    "duration": 4,
    "start_time": "2024-12-11T21:49:27.547Z"
   },
   {
    "duration": 7,
    "start_time": "2024-12-11T21:49:27.552Z"
   },
   {
    "duration": 13,
    "start_time": "2024-12-11T21:49:27.560Z"
   },
   {
    "duration": 10,
    "start_time": "2024-12-11T21:49:27.575Z"
   },
   {
    "duration": 43,
    "start_time": "2024-12-11T21:49:27.587Z"
   },
   {
    "duration": 16,
    "start_time": "2024-12-11T21:49:27.632Z"
   },
   {
    "duration": 8,
    "start_time": "2024-12-11T21:49:27.650Z"
   },
   {
    "duration": 8,
    "start_time": "2024-12-11T21:49:27.660Z"
   },
   {
    "duration": 9,
    "start_time": "2024-12-11T21:49:27.670Z"
   },
   {
    "duration": 6,
    "start_time": "2024-12-11T21:49:27.681Z"
   },
   {
    "duration": 52,
    "start_time": "2024-12-11T21:49:27.689Z"
   },
   {
    "duration": 5,
    "start_time": "2024-12-11T21:49:27.743Z"
   },
   {
    "duration": 3,
    "start_time": "2024-12-11T21:49:27.753Z"
   },
   {
    "duration": 3,
    "start_time": "2024-12-11T21:50:50.643Z"
   },
   {
    "duration": 2572,
    "start_time": "2024-12-13T06:14:02.468Z"
   },
   {
    "duration": 223,
    "start_time": "2024-12-13T06:14:26.115Z"
   },
   {
    "duration": 846,
    "start_time": "2024-12-13T06:14:32.251Z"
   },
   {
    "duration": 63,
    "start_time": "2024-12-13T06:14:33.100Z"
   },
   {
    "duration": 22,
    "start_time": "2024-12-13T06:14:33.164Z"
   },
   {
    "duration": 14,
    "start_time": "2024-12-13T06:14:33.188Z"
   },
   {
    "duration": 9,
    "start_time": "2024-12-13T06:14:33.204Z"
   },
   {
    "duration": 9,
    "start_time": "2024-12-13T06:14:33.217Z"
   },
   {
    "duration": 27,
    "start_time": "2024-12-13T06:14:33.228Z"
   },
   {
    "duration": 18,
    "start_time": "2024-12-13T06:14:33.257Z"
   },
   {
    "duration": 5,
    "start_time": "2024-12-13T06:14:33.277Z"
   },
   {
    "duration": 41,
    "start_time": "2024-12-13T06:14:33.284Z"
   },
   {
    "duration": 8,
    "start_time": "2024-12-13T06:14:33.329Z"
   },
   {
    "duration": 9,
    "start_time": "2024-12-13T06:14:33.339Z"
   },
   {
    "duration": 8,
    "start_time": "2024-12-13T06:14:33.350Z"
   },
   {
    "duration": 10,
    "start_time": "2024-12-13T06:14:33.363Z"
   },
   {
    "duration": 7,
    "start_time": "2024-12-13T06:14:33.374Z"
   },
   {
    "duration": 4,
    "start_time": "2024-12-13T06:14:33.383Z"
   },
   {
    "duration": 5,
    "start_time": "2024-12-13T06:14:33.388Z"
   },
   {
    "duration": 39,
    "start_time": "2024-12-13T06:14:33.395Z"
   },
   {
    "duration": 8,
    "start_time": "2024-12-13T06:14:33.436Z"
   },
   {
    "duration": 9,
    "start_time": "2024-12-13T06:14:33.446Z"
   },
   {
    "duration": 13,
    "start_time": "2024-12-13T06:14:33.457Z"
   },
   {
    "duration": 7,
    "start_time": "2024-12-13T06:14:33.472Z"
   },
   {
    "duration": 46,
    "start_time": "2024-12-13T06:14:33.480Z"
   },
   {
    "duration": 8,
    "start_time": "2024-12-13T06:14:33.528Z"
   },
   {
    "duration": 5,
    "start_time": "2024-12-13T06:14:33.538Z"
   },
   {
    "duration": 15,
    "start_time": "2024-12-13T06:14:33.544Z"
   },
   {
    "duration": 5,
    "start_time": "2024-12-13T06:14:33.561Z"
   },
   {
    "duration": 3,
    "start_time": "2024-12-13T06:14:33.569Z"
   },
   {
    "duration": 791,
    "start_time": "2024-12-13T06:15:14.329Z"
   },
   {
    "duration": 37,
    "start_time": "2024-12-13T06:15:15.123Z"
   },
   {
    "duration": 14,
    "start_time": "2024-12-13T06:15:15.162Z"
   },
   {
    "duration": 14,
    "start_time": "2024-12-13T06:15:15.178Z"
   },
   {
    "duration": 8,
    "start_time": "2024-12-13T06:15:15.195Z"
   },
   {
    "duration": 27,
    "start_time": "2024-12-13T06:15:15.224Z"
   },
   {
    "duration": 13,
    "start_time": "2024-12-13T06:15:15.252Z"
   },
   {
    "duration": 3,
    "start_time": "2024-12-13T06:15:15.267Z"
   },
   {
    "duration": 16,
    "start_time": "2024-12-13T06:15:15.272Z"
   },
   {
    "duration": 35,
    "start_time": "2024-12-13T06:15:15.289Z"
   },
   {
    "duration": 5,
    "start_time": "2024-12-13T06:15:15.327Z"
   },
   {
    "duration": 8,
    "start_time": "2024-12-13T06:15:15.334Z"
   },
   {
    "duration": 9,
    "start_time": "2024-12-13T06:15:15.343Z"
   },
   {
    "duration": 4,
    "start_time": "2024-12-13T06:15:15.355Z"
   },
   {
    "duration": 4,
    "start_time": "2024-12-13T06:15:15.361Z"
   },
   {
    "duration": 7,
    "start_time": "2024-12-13T06:15:15.366Z"
   },
   {
    "duration": 54,
    "start_time": "2024-12-13T06:15:15.374Z"
   },
   {
    "duration": 7,
    "start_time": "2024-12-13T06:15:15.431Z"
   },
   {
    "duration": 9,
    "start_time": "2024-12-13T06:15:15.440Z"
   },
   {
    "duration": 11,
    "start_time": "2024-12-13T06:15:15.450Z"
   },
   {
    "duration": 7,
    "start_time": "2024-12-13T06:15:15.462Z"
   },
   {
    "duration": 6,
    "start_time": "2024-12-13T06:15:15.470Z"
   },
   {
    "duration": 6,
    "start_time": "2024-12-13T06:15:15.477Z"
   },
   {
    "duration": 42,
    "start_time": "2024-12-13T06:15:15.485Z"
   },
   {
    "duration": 13,
    "start_time": "2024-12-13T06:15:15.529Z"
   },
   {
    "duration": 3,
    "start_time": "2024-12-13T06:15:15.544Z"
   },
   {
    "duration": 4,
    "start_time": "2024-12-13T06:15:15.549Z"
   },
   {
    "duration": 379,
    "start_time": "2024-12-13T06:18:35.724Z"
   },
   {
    "duration": 15,
    "start_time": "2024-12-13T06:21:22.970Z"
   },
   {
    "duration": 872,
    "start_time": "2024-12-13T06:21:39.135Z"
   },
   {
    "duration": 45,
    "start_time": "2024-12-13T06:21:40.009Z"
   },
   {
    "duration": 16,
    "start_time": "2024-12-13T06:21:40.057Z"
   },
   {
    "duration": 15,
    "start_time": "2024-12-13T06:21:40.076Z"
   },
   {
    "duration": 32,
    "start_time": "2024-12-13T06:21:40.092Z"
   },
   {
    "duration": 359,
    "start_time": "2024-12-13T06:21:40.125Z"
   },
   {
    "duration": 26,
    "start_time": "2024-12-13T06:21:40.485Z"
   },
   {
    "duration": 18,
    "start_time": "2024-12-13T06:21:40.513Z"
   },
   {
    "duration": 4,
    "start_time": "2024-12-13T06:21:40.533Z"
   },
   {
    "duration": 14,
    "start_time": "2024-12-13T06:21:40.542Z"
   },
   {
    "duration": 6,
    "start_time": "2024-12-13T06:21:40.557Z"
   },
   {
    "duration": 5,
    "start_time": "2024-12-13T06:21:40.565Z"
   },
   {
    "duration": 7,
    "start_time": "2024-12-13T06:21:40.572Z"
   },
   {
    "duration": 44,
    "start_time": "2024-12-13T06:21:40.581Z"
   },
   {
    "duration": 4,
    "start_time": "2024-12-13T06:21:40.627Z"
   },
   {
    "duration": 4,
    "start_time": "2024-12-13T06:21:40.633Z"
   },
   {
    "duration": 6,
    "start_time": "2024-12-13T06:21:40.638Z"
   },
   {
    "duration": 11,
    "start_time": "2024-12-13T06:21:40.645Z"
   },
   {
    "duration": 7,
    "start_time": "2024-12-13T06:21:40.658Z"
   },
   {
    "duration": 9,
    "start_time": "2024-12-13T06:21:40.667Z"
   },
   {
    "duration": 48,
    "start_time": "2024-12-13T06:21:40.677Z"
   },
   {
    "duration": 6,
    "start_time": "2024-12-13T06:21:40.726Z"
   },
   {
    "duration": 5,
    "start_time": "2024-12-13T06:21:40.734Z"
   },
   {
    "duration": 6,
    "start_time": "2024-12-13T06:21:40.740Z"
   },
   {
    "duration": 4,
    "start_time": "2024-12-13T06:21:40.748Z"
   },
   {
    "duration": 12,
    "start_time": "2024-12-13T06:21:40.753Z"
   },
   {
    "duration": 4,
    "start_time": "2024-12-13T06:21:40.767Z"
   },
   {
    "duration": 3,
    "start_time": "2024-12-13T06:21:40.774Z"
   },
   {
    "duration": 10,
    "start_time": "2024-12-13T06:22:20.115Z"
   },
   {
    "duration": 10,
    "start_time": "2024-12-13T06:22:42.840Z"
   },
   {
    "duration": 13,
    "start_time": "2024-12-13T06:22:53.489Z"
   },
   {
    "duration": 20,
    "start_time": "2024-12-13T06:25:33.751Z"
   },
   {
    "duration": 41,
    "start_time": "2024-12-13T06:26:57.605Z"
   },
   {
    "duration": 5,
    "start_time": "2024-12-13T06:27:27.593Z"
   },
   {
    "duration": 8,
    "start_time": "2024-12-13T06:28:49.197Z"
   },
   {
    "duration": 11,
    "start_time": "2024-12-13T06:29:38.857Z"
   },
   {
    "duration": 10,
    "start_time": "2024-12-13T06:29:41.092Z"
   },
   {
    "duration": 7,
    "start_time": "2024-12-13T06:29:50.528Z"
   },
   {
    "duration": 7,
    "start_time": "2024-12-13T06:29:53.696Z"
   },
   {
    "duration": 7,
    "start_time": "2024-12-13T06:29:56.647Z"
   },
   {
    "duration": 4,
    "start_time": "2024-12-13T06:29:59.683Z"
   },
   {
    "duration": 12,
    "start_time": "2024-12-13T06:30:01.902Z"
   },
   {
    "duration": 5,
    "start_time": "2024-12-13T06:30:05.413Z"
   },
   {
    "duration": 4,
    "start_time": "2024-12-13T06:30:07.436Z"
   },
   {
    "duration": 272,
    "start_time": "2024-12-13T06:46:12.613Z"
   },
   {
    "duration": 16,
    "start_time": "2024-12-13T06:46:24.008Z"
   },
   {
    "duration": 5,
    "start_time": "2024-12-13T06:46:49.871Z"
   },
   {
    "duration": 10,
    "start_time": "2024-12-13T06:47:06.136Z"
   },
   {
    "duration": 6,
    "start_time": "2024-12-13T06:48:53.064Z"
   },
   {
    "duration": 4,
    "start_time": "2024-12-13T06:49:21.097Z"
   },
   {
    "duration": 3,
    "start_time": "2024-12-13T06:51:57.413Z"
   },
   {
    "duration": 16,
    "start_time": "2024-12-13T07:00:33.464Z"
   },
   {
    "duration": 16,
    "start_time": "2024-12-13T07:00:40.466Z"
   },
   {
    "duration": 15,
    "start_time": "2024-12-13T07:01:27.107Z"
   },
   {
    "duration": 20,
    "start_time": "2024-12-13T07:05:27.518Z"
   },
   {
    "duration": 16,
    "start_time": "2024-12-13T07:06:07.955Z"
   },
   {
    "duration": 17,
    "start_time": "2024-12-13T07:06:24.849Z"
   },
   {
    "duration": 12,
    "start_time": "2024-12-13T07:06:36.299Z"
   },
   {
    "duration": 49,
    "start_time": "2024-12-13T07:09:51.164Z"
   },
   {
    "duration": 17,
    "start_time": "2024-12-13T07:22:45.483Z"
   },
   {
    "duration": 797,
    "start_time": "2024-12-13T07:24:17.913Z"
   },
   {
    "duration": 41,
    "start_time": "2024-12-13T07:24:18.712Z"
   },
   {
    "duration": 14,
    "start_time": "2024-12-13T07:24:18.755Z"
   },
   {
    "duration": 12,
    "start_time": "2024-12-13T07:24:18.771Z"
   },
   {
    "duration": 9,
    "start_time": "2024-12-13T07:24:18.785Z"
   },
   {
    "duration": 382,
    "start_time": "2024-12-13T07:24:18.795Z"
   },
   {
    "duration": 27,
    "start_time": "2024-12-13T07:24:19.179Z"
   },
   {
    "duration": 18,
    "start_time": "2024-12-13T07:24:19.207Z"
   },
   {
    "duration": 9,
    "start_time": "2024-12-13T07:24:19.228Z"
   },
   {
    "duration": 12,
    "start_time": "2024-12-13T07:24:19.238Z"
   },
   {
    "duration": 4,
    "start_time": "2024-12-13T07:24:19.252Z"
   },
   {
    "duration": 15,
    "start_time": "2024-12-13T07:24:19.257Z"
   },
   {
    "duration": 5,
    "start_time": "2024-12-13T07:24:19.273Z"
   },
   {
    "duration": 44,
    "start_time": "2024-12-13T07:24:19.283Z"
   },
   {
    "duration": 18,
    "start_time": "2024-12-13T07:24:19.328Z"
   },
   {
    "duration": 33,
    "start_time": "2024-12-13T07:24:19.347Z"
   },
   {
    "duration": 5,
    "start_time": "2024-12-13T07:24:19.382Z"
   },
   {
    "duration": 8,
    "start_time": "2024-12-13T07:24:19.388Z"
   },
   {
    "duration": 8,
    "start_time": "2024-12-13T07:24:19.424Z"
   },
   {
    "duration": 3,
    "start_time": "2024-12-13T07:24:19.434Z"
   },
   {
    "duration": 41,
    "start_time": "2024-12-13T07:24:19.439Z"
   },
   {
    "duration": 825,
    "start_time": "2024-12-13T07:26:14.650Z"
   },
   {
    "duration": 37,
    "start_time": "2024-12-13T07:26:15.477Z"
   },
   {
    "duration": 19,
    "start_time": "2024-12-13T07:26:15.516Z"
   },
   {
    "duration": 13,
    "start_time": "2024-12-13T07:26:15.537Z"
   },
   {
    "duration": 9,
    "start_time": "2024-12-13T07:26:15.553Z"
   },
   {
    "duration": 379,
    "start_time": "2024-12-13T07:26:15.564Z"
   },
   {
    "duration": 27,
    "start_time": "2024-12-13T07:26:15.945Z"
   },
   {
    "duration": 10,
    "start_time": "2024-12-13T07:26:15.974Z"
   },
   {
    "duration": 10,
    "start_time": "2024-12-13T07:26:15.986Z"
   },
   {
    "duration": 33,
    "start_time": "2024-12-13T07:26:15.997Z"
   },
   {
    "duration": 4,
    "start_time": "2024-12-13T07:26:16.032Z"
   },
   {
    "duration": 14,
    "start_time": "2024-12-13T07:26:16.038Z"
   },
   {
    "duration": 6,
    "start_time": "2024-12-13T07:26:16.053Z"
   },
   {
    "duration": 8,
    "start_time": "2024-12-13T07:26:16.063Z"
   },
   {
    "duration": 19,
    "start_time": "2024-12-13T07:26:16.073Z"
   },
   {
    "duration": 34,
    "start_time": "2024-12-13T07:26:16.125Z"
   },
   {
    "duration": 5,
    "start_time": "2024-12-13T07:26:16.160Z"
   },
   {
    "duration": 8,
    "start_time": "2024-12-13T07:26:16.167Z"
   },
   {
    "duration": 7,
    "start_time": "2024-12-13T07:26:16.176Z"
   },
   {
    "duration": 4,
    "start_time": "2024-12-13T07:26:16.185Z"
   },
   {
    "duration": 75,
    "start_time": "2024-12-13T07:26:16.190Z"
   },
   {
    "duration": 66,
    "start_time": "2024-12-13T07:26:16.267Z"
   },
   {
    "duration": 16,
    "start_time": "2024-12-13T07:26:16.335Z"
   },
   {
    "duration": 3,
    "start_time": "2024-12-13T07:26:16.352Z"
   },
   {
    "duration": 9,
    "start_time": "2024-12-13T07:26:16.357Z"
   },
   {
    "duration": 14,
    "start_time": "2024-12-13T07:26:16.368Z"
   },
   {
    "duration": 46,
    "start_time": "2024-12-13T07:26:16.383Z"
   },
   {
    "duration": 17,
    "start_time": "2024-12-13T07:26:16.430Z"
   },
   {
    "duration": 3,
    "start_time": "2024-12-13T07:26:16.449Z"
   },
   {
    "duration": 7,
    "start_time": "2024-12-13T07:26:16.453Z"
   },
   {
    "duration": 12,
    "start_time": "2024-12-13T07:26:16.462Z"
   },
   {
    "duration": 7,
    "start_time": "2024-12-13T07:26:16.475Z"
   },
   {
    "duration": 44,
    "start_time": "2024-12-13T07:26:16.483Z"
   },
   {
    "duration": 11,
    "start_time": "2024-12-13T07:26:16.528Z"
   },
   {
    "duration": 6,
    "start_time": "2024-12-13T07:26:16.541Z"
   },
   {
    "duration": 5,
    "start_time": "2024-12-13T07:26:16.548Z"
   },
   {
    "duration": 7,
    "start_time": "2024-12-13T07:26:16.555Z"
   },
   {
    "duration": 4,
    "start_time": "2024-12-13T07:26:16.564Z"
   },
   {
    "duration": 11,
    "start_time": "2024-12-13T07:26:16.571Z"
   },
   {
    "duration": 4,
    "start_time": "2024-12-13T07:26:16.584Z"
   },
   {
    "duration": 3,
    "start_time": "2024-12-13T07:26:16.624Z"
   },
   {
    "duration": 55,
    "start_time": "2024-12-13T07:26:57.863Z"
   },
   {
    "duration": 13,
    "start_time": "2024-12-13T07:29:36.440Z"
   },
   {
    "duration": 13,
    "start_time": "2024-12-13T07:30:35.429Z"
   },
   {
    "duration": 42,
    "start_time": "2024-12-13T07:30:43.949Z"
   },
   {
    "duration": 10,
    "start_time": "2024-12-13T07:30:50.248Z"
   },
   {
    "duration": 257,
    "start_time": "2024-12-13T07:32:16.566Z"
   },
   {
    "duration": 8,
    "start_time": "2024-12-13T07:32:21.887Z"
   },
   {
    "duration": 9,
    "start_time": "2024-12-13T07:32:24.761Z"
   },
   {
    "duration": 3,
    "start_time": "2024-12-13T07:33:45.161Z"
   },
   {
    "duration": 5,
    "start_time": "2024-12-13T07:33:46.479Z"
   },
   {
    "duration": 11,
    "start_time": "2024-12-13T07:33:53.510Z"
   },
   {
    "duration": 405,
    "start_time": "2024-12-13T07:35:34.314Z"
   },
   {
    "duration": 3,
    "start_time": "2024-12-13T07:36:01.576Z"
   },
   {
    "duration": 3,
    "start_time": "2024-12-13T07:36:11.447Z"
   },
   {
    "duration": 5,
    "start_time": "2024-12-13T07:36:29.919Z"
   },
   {
    "duration": 13,
    "start_time": "2024-12-13T07:37:29.316Z"
   },
   {
    "duration": 19,
    "start_time": "2024-12-13T07:37:51.896Z"
   },
   {
    "duration": 11,
    "start_time": "2024-12-13T07:38:04.809Z"
   },
   {
    "duration": 13,
    "start_time": "2024-12-13T07:38:11.946Z"
   },
   {
    "duration": 13,
    "start_time": "2024-12-13T07:43:11.676Z"
   },
   {
    "duration": 8,
    "start_time": "2024-12-13T07:43:35.898Z"
   },
   {
    "duration": 6,
    "start_time": "2024-12-13T07:43:51.439Z"
   },
   {
    "duration": 9,
    "start_time": "2024-12-13T07:43:57.828Z"
   },
   {
    "duration": 44,
    "start_time": "2024-12-13T07:44:57.387Z"
   },
   {
    "duration": 159,
    "start_time": "2024-12-13T07:45:08.162Z"
   },
   {
    "duration": 158,
    "start_time": "2024-12-13T19:03:30.130Z"
   },
   {
    "duration": 2623,
    "start_time": "2024-12-13T19:03:38.718Z"
   },
   {
    "duration": 65,
    "start_time": "2024-12-13T19:03:41.343Z"
   },
   {
    "duration": 14,
    "start_time": "2024-12-13T19:03:41.410Z"
   },
   {
    "duration": 14,
    "start_time": "2024-12-13T19:03:41.425Z"
   },
   {
    "duration": 9,
    "start_time": "2024-12-13T19:03:41.442Z"
   },
   {
    "duration": 388,
    "start_time": "2024-12-13T19:03:41.453Z"
   },
   {
    "duration": 26,
    "start_time": "2024-12-13T19:03:41.843Z"
   },
   {
    "duration": 9,
    "start_time": "2024-12-13T19:03:41.871Z"
   },
   {
    "duration": 28,
    "start_time": "2024-12-13T19:03:41.882Z"
   },
   {
    "duration": 13,
    "start_time": "2024-12-13T19:03:41.911Z"
   },
   {
    "duration": 4,
    "start_time": "2024-12-13T19:03:41.926Z"
   },
   {
    "duration": 15,
    "start_time": "2024-12-13T19:03:41.931Z"
   },
   {
    "duration": 5,
    "start_time": "2024-12-13T19:03:41.947Z"
   },
   {
    "duration": 7,
    "start_time": "2024-12-13T19:03:41.957Z"
   },
   {
    "duration": 53,
    "start_time": "2024-12-13T19:03:41.965Z"
   },
   {
    "duration": 44,
    "start_time": "2024-12-13T19:03:42.020Z"
   },
   {
    "duration": 6,
    "start_time": "2024-12-13T19:03:42.066Z"
   },
   {
    "duration": 8,
    "start_time": "2024-12-13T19:03:42.074Z"
   },
   {
    "duration": 29,
    "start_time": "2024-12-13T19:03:42.084Z"
   },
   {
    "duration": 4,
    "start_time": "2024-12-13T19:03:42.115Z"
   },
   {
    "duration": 42,
    "start_time": "2024-12-13T19:03:42.120Z"
   },
   {
    "duration": 82,
    "start_time": "2024-12-13T19:03:42.163Z"
   },
   {
    "duration": 3,
    "start_time": "2024-12-13T19:03:42.247Z"
   },
   {
    "duration": 4,
    "start_time": "2024-12-13T19:03:42.251Z"
   },
   {
    "duration": 12,
    "start_time": "2024-12-13T19:03:42.256Z"
   },
   {
    "duration": 13,
    "start_time": "2024-12-13T19:03:42.269Z"
   },
   {
    "duration": 36,
    "start_time": "2024-12-13T19:03:42.283Z"
   },
   {
    "duration": 7,
    "start_time": "2024-12-13T19:03:42.321Z"
   },
   {
    "duration": 143,
    "start_time": "2024-12-13T19:03:42.330Z"
   },
   {
    "duration": 17,
    "start_time": "2024-12-13T19:03:42.475Z"
   },
   {
    "duration": 16,
    "start_time": "2024-12-13T19:03:42.494Z"
   },
   {
    "duration": 10,
    "start_time": "2024-12-13T19:03:42.511Z"
   },
   {
    "duration": 15,
    "start_time": "2024-12-13T19:03:42.523Z"
   },
   {
    "duration": 17,
    "start_time": "2024-12-13T19:03:42.540Z"
   },
   {
    "duration": 25,
    "start_time": "2024-12-13T19:03:42.559Z"
   },
   {
    "duration": 27,
    "start_time": "2024-12-13T19:03:42.585Z"
   },
   {
    "duration": 6,
    "start_time": "2024-12-13T19:03:42.615Z"
   },
   {
    "duration": 14,
    "start_time": "2024-12-13T19:03:42.622Z"
   },
   {
    "duration": 9,
    "start_time": "2024-12-13T19:03:42.638Z"
   },
   {
    "duration": 12,
    "start_time": "2024-12-13T19:03:42.649Z"
   },
   {
    "duration": 11,
    "start_time": "2024-12-13T19:03:42.666Z"
   },
   {
    "duration": 8,
    "start_time": "2024-12-13T19:03:42.708Z"
   },
   {
    "duration": 7,
    "start_time": "2024-12-13T19:03:42.718Z"
   },
   {
    "duration": 7,
    "start_time": "2024-12-13T19:03:42.727Z"
   },
   {
    "duration": 6,
    "start_time": "2024-12-13T19:03:42.735Z"
   },
   {
    "duration": 12,
    "start_time": "2024-12-13T19:03:42.744Z"
   },
   {
    "duration": 5,
    "start_time": "2024-12-13T19:03:42.757Z"
   },
   {
    "duration": 4,
    "start_time": "2024-12-13T19:03:42.763Z"
   },
   {
    "duration": 121,
    "start_time": "2024-12-13T19:03:52.813Z"
   },
   {
    "duration": 130,
    "start_time": "2024-12-13T19:03:59.021Z"
   },
   {
    "duration": 4,
    "start_time": "2024-12-13T19:10:05.983Z"
   },
   {
    "duration": 4,
    "start_time": "2024-12-13T19:11:02.149Z"
   },
   {
    "duration": 6,
    "start_time": "2024-12-13T19:11:25.355Z"
   },
   {
    "duration": 10,
    "start_time": "2024-12-13T19:19:13.411Z"
   },
   {
    "duration": 5,
    "start_time": "2024-12-13T19:20:11.347Z"
   },
   {
    "duration": 9,
    "start_time": "2024-12-13T19:21:14.275Z"
   },
   {
    "duration": 10,
    "start_time": "2024-12-13T19:21:55.020Z"
   },
   {
    "duration": 16,
    "start_time": "2024-12-13T19:34:53.745Z"
   },
   {
    "duration": 8,
    "start_time": "2024-12-13T19:35:32.063Z"
   },
   {
    "duration": 5,
    "start_time": "2024-12-13T19:36:04.946Z"
   },
   {
    "duration": 5,
    "start_time": "2024-12-13T19:36:24.694Z"
   },
   {
    "duration": 12,
    "start_time": "2024-12-13T19:40:28.281Z"
   },
   {
    "duration": 272,
    "start_time": "2024-12-13T19:44:35.494Z"
   },
   {
    "duration": 36,
    "start_time": "2024-12-13T19:44:56.098Z"
   },
   {
    "duration": 4,
    "start_time": "2024-12-13T19:46:22.181Z"
   },
   {
    "duration": 15,
    "start_time": "2024-12-13T19:46:29.575Z"
   },
   {
    "duration": 12,
    "start_time": "2024-12-13T19:46:35.065Z"
   },
   {
    "duration": 30,
    "start_time": "2024-12-13T19:46:56.301Z"
   },
   {
    "duration": 12,
    "start_time": "2024-12-13T19:47:18.154Z"
   },
   {
    "duration": 37,
    "start_time": "2024-12-13T19:47:48.643Z"
   },
   {
    "duration": 4,
    "start_time": "2024-12-13T19:47:53.186Z"
   },
   {
    "duration": 12,
    "start_time": "2024-12-13T19:47:55.758Z"
   },
   {
    "duration": 29,
    "start_time": "2024-12-13T19:48:28.115Z"
   },
   {
    "duration": 11,
    "start_time": "2024-12-13T19:48:30.165Z"
   },
   {
    "duration": 4,
    "start_time": "2024-12-13T19:48:37.808Z"
   },
   {
    "duration": 11,
    "start_time": "2024-12-13T19:48:40.524Z"
   },
   {
    "duration": 33,
    "start_time": "2024-12-13T19:49:42.505Z"
   },
   {
    "duration": 14,
    "start_time": "2024-12-13T19:49:52.822Z"
   },
   {
    "duration": 32,
    "start_time": "2024-12-13T19:50:47.900Z"
   },
   {
    "duration": 6,
    "start_time": "2024-12-13T19:50:52.051Z"
   },
   {
    "duration": 4,
    "start_time": "2024-12-13T19:50:55.332Z"
   },
   {
    "duration": 11,
    "start_time": "2024-12-13T19:50:56.998Z"
   },
   {
    "duration": 416,
    "start_time": "2024-12-13T19:52:30.793Z"
   },
   {
    "duration": 6,
    "start_time": "2024-12-13T19:52:39.659Z"
   },
   {
    "duration": 16,
    "start_time": "2024-12-13T19:52:58.472Z"
   },
   {
    "duration": 6,
    "start_time": "2024-12-13T20:22:59.096Z"
   },
   {
    "duration": 15,
    "start_time": "2024-12-13T20:23:12.004Z"
   },
   {
    "duration": 45,
    "start_time": "2024-12-13T20:27:44.582Z"
   },
   {
    "duration": 2,
    "start_time": "2024-12-13T20:28:40.803Z"
   },
   {
    "duration": 41,
    "start_time": "2024-12-13T20:28:44.117Z"
   },
   {
    "duration": 3,
    "start_time": "2024-12-13T20:28:48.404Z"
   },
   {
    "duration": 42,
    "start_time": "2024-12-13T20:28:54.224Z"
   },
   {
    "duration": 2,
    "start_time": "2024-12-13T20:29:07.749Z"
   },
   {
    "duration": 40,
    "start_time": "2024-12-13T20:29:52.201Z"
   },
   {
    "duration": 44,
    "start_time": "2024-12-13T20:33:16.857Z"
   },
   {
    "duration": 2,
    "start_time": "2024-12-13T20:33:22.706Z"
   },
   {
    "duration": 42,
    "start_time": "2024-12-13T20:33:26.719Z"
   },
   {
    "duration": 45,
    "start_time": "2024-12-13T20:37:03.237Z"
   },
   {
    "duration": 11,
    "start_time": "2024-12-13T20:37:18.455Z"
   },
   {
    "duration": 44,
    "start_time": "2024-12-13T20:37:31.556Z"
   },
   {
    "duration": 44,
    "start_time": "2024-12-13T20:37:51.740Z"
   },
   {
    "duration": 44,
    "start_time": "2024-12-13T20:38:04.588Z"
   },
   {
    "duration": 43,
    "start_time": "2024-12-13T20:38:18.101Z"
   },
   {
    "duration": 830,
    "start_time": "2024-12-13T20:38:31.337Z"
   },
   {
    "duration": 45,
    "start_time": "2024-12-13T20:38:32.169Z"
   },
   {
    "duration": 16,
    "start_time": "2024-12-13T20:38:32.216Z"
   },
   {
    "duration": 17,
    "start_time": "2024-12-13T20:38:32.235Z"
   },
   {
    "duration": 16,
    "start_time": "2024-12-13T20:38:32.255Z"
   },
   {
    "duration": 378,
    "start_time": "2024-12-13T20:38:32.272Z"
   },
   {
    "duration": 26,
    "start_time": "2024-12-13T20:38:32.652Z"
   },
   {
    "duration": 9,
    "start_time": "2024-12-13T20:38:32.680Z"
   },
   {
    "duration": 22,
    "start_time": "2024-12-13T20:38:32.691Z"
   },
   {
    "duration": 13,
    "start_time": "2024-12-13T20:38:32.715Z"
   },
   {
    "duration": 5,
    "start_time": "2024-12-13T20:38:32.729Z"
   },
   {
    "duration": 14,
    "start_time": "2024-12-13T20:38:32.735Z"
   },
   {
    "duration": 5,
    "start_time": "2024-12-13T20:38:32.750Z"
   },
   {
    "duration": 7,
    "start_time": "2024-12-13T20:38:32.760Z"
   },
   {
    "duration": 55,
    "start_time": "2024-12-13T20:38:32.769Z"
   },
   {
    "duration": 33,
    "start_time": "2024-12-13T20:38:32.826Z"
   },
   {
    "duration": 6,
    "start_time": "2024-12-13T20:38:32.861Z"
   },
   {
    "duration": 8,
    "start_time": "2024-12-13T20:38:32.869Z"
   },
   {
    "duration": 9,
    "start_time": "2024-12-13T20:38:32.879Z"
   },
   {
    "duration": 3,
    "start_time": "2024-12-13T20:38:32.910Z"
   },
   {
    "duration": 41,
    "start_time": "2024-12-13T20:38:32.915Z"
   },
   {
    "duration": 79,
    "start_time": "2024-12-13T20:38:32.958Z"
   },
   {
    "duration": 4,
    "start_time": "2024-12-13T20:38:33.039Z"
   },
   {
    "duration": 4,
    "start_time": "2024-12-13T20:38:33.044Z"
   },
   {
    "duration": 11,
    "start_time": "2024-12-13T20:38:33.050Z"
   },
   {
    "duration": 13,
    "start_time": "2024-12-13T20:38:33.063Z"
   },
   {
    "duration": 35,
    "start_time": "2024-12-13T20:38:33.077Z"
   },
   {
    "duration": 12,
    "start_time": "2024-12-13T20:38:33.114Z"
   },
   {
    "duration": 8,
    "start_time": "2024-12-13T20:38:33.127Z"
   },
   {
    "duration": 150,
    "start_time": "2024-12-13T20:38:33.136Z"
   },
   {
    "duration": 5,
    "start_time": "2024-12-13T20:38:33.288Z"
   },
   {
    "duration": 16,
    "start_time": "2024-12-13T20:38:33.295Z"
   },
   {
    "duration": 11,
    "start_time": "2024-12-13T20:38:33.313Z"
   },
   {
    "duration": 11,
    "start_time": "2024-12-13T20:38:33.326Z"
   },
   {
    "duration": 93,
    "start_time": "2024-12-13T20:38:33.339Z"
   },
   {
    "duration": 5,
    "start_time": "2024-12-13T20:38:33.433Z"
   },
   {
    "duration": 4,
    "start_time": "2024-12-13T20:38:33.439Z"
   },
   {
    "duration": 10,
    "start_time": "2024-12-13T20:38:33.445Z"
   },
   {
    "duration": 17,
    "start_time": "2024-12-13T20:38:33.456Z"
   },
   {
    "duration": 3,
    "start_time": "2024-12-13T20:38:33.474Z"
   },
   {
    "duration": 630,
    "start_time": "2024-12-13T20:38:33.509Z"
   },
   {
    "duration": 12,
    "start_time": "2024-12-13T20:39:36.549Z"
   },
   {
    "duration": 4,
    "start_time": "2024-12-13T20:40:06.650Z"
   },
   {
    "duration": 12,
    "start_time": "2024-12-13T20:40:09.895Z"
   },
   {
    "duration": 44,
    "start_time": "2024-12-13T20:40:32.002Z"
   },
   {
    "duration": 47,
    "start_time": "2024-12-13T20:40:37.313Z"
   },
   {
    "duration": 8,
    "start_time": "2024-12-13T20:41:23.173Z"
   },
   {
    "duration": 9,
    "start_time": "2024-12-13T20:41:47.112Z"
   },
   {
    "duration": 47,
    "start_time": "2024-12-13T20:42:11.386Z"
   },
   {
    "duration": 43,
    "start_time": "2024-12-13T20:42:18.300Z"
   },
   {
    "duration": 18,
    "start_time": "2024-12-13T20:43:26.208Z"
   },
   {
    "duration": 16,
    "start_time": "2024-12-13T20:43:36.527Z"
   },
   {
    "duration": 9,
    "start_time": "2024-12-13T20:43:42.403Z"
   },
   {
    "duration": 11,
    "start_time": "2024-12-13T20:44:01.121Z"
   },
   {
    "duration": 9,
    "start_time": "2024-12-13T20:44:21.207Z"
   },
   {
    "duration": 12,
    "start_time": "2024-12-13T20:44:54.343Z"
   },
   {
    "duration": 10,
    "start_time": "2024-12-13T20:45:22.582Z"
   },
   {
    "duration": 13,
    "start_time": "2024-12-13T20:45:33.555Z"
   },
   {
    "duration": 11,
    "start_time": "2024-12-13T20:45:51.281Z"
   },
   {
    "duration": 14,
    "start_time": "2024-12-13T20:47:01.975Z"
   },
   {
    "duration": 12,
    "start_time": "2024-12-13T20:47:02.713Z"
   },
   {
    "duration": 11,
    "start_time": "2024-12-13T20:47:06.740Z"
   },
   {
    "duration": 13,
    "start_time": "2024-12-13T20:47:14.517Z"
   },
   {
    "duration": 5,
    "start_time": "2024-12-13T20:47:24.153Z"
   },
   {
    "duration": 12,
    "start_time": "2024-12-13T20:47:27.773Z"
   },
   {
    "duration": 5,
    "start_time": "2024-12-13T20:47:36.357Z"
   },
   {
    "duration": 5,
    "start_time": "2024-12-13T20:47:38.690Z"
   },
   {
    "duration": 5,
    "start_time": "2024-12-13T20:48:54.371Z"
   },
   {
    "duration": 8,
    "start_time": "2024-12-13T20:49:00.153Z"
   },
   {
    "duration": 829,
    "start_time": "2024-12-13T20:49:12.763Z"
   },
   {
    "duration": 47,
    "start_time": "2024-12-13T20:49:13.594Z"
   },
   {
    "duration": 14,
    "start_time": "2024-12-13T20:49:13.643Z"
   },
   {
    "duration": 13,
    "start_time": "2024-12-13T20:49:13.659Z"
   },
   {
    "duration": 10,
    "start_time": "2024-12-13T20:49:13.674Z"
   },
   {
    "duration": 420,
    "start_time": "2024-12-13T20:49:13.686Z"
   },
   {
    "duration": 26,
    "start_time": "2024-12-13T20:49:14.110Z"
   },
   {
    "duration": 8,
    "start_time": "2024-12-13T20:49:14.138Z"
   },
   {
    "duration": 9,
    "start_time": "2024-12-13T20:49:14.147Z"
   },
   {
    "duration": 14,
    "start_time": "2024-12-13T20:49:14.157Z"
   },
   {
    "duration": 4,
    "start_time": "2024-12-13T20:49:14.173Z"
   },
   {
    "duration": 42,
    "start_time": "2024-12-13T20:49:14.179Z"
   },
   {
    "duration": 5,
    "start_time": "2024-12-13T20:49:14.223Z"
   },
   {
    "duration": 8,
    "start_time": "2024-12-13T20:49:14.232Z"
   },
   {
    "duration": 18,
    "start_time": "2024-12-13T20:49:14.241Z"
   },
   {
    "duration": 60,
    "start_time": "2024-12-13T20:49:14.261Z"
   },
   {
    "duration": 5,
    "start_time": "2024-12-13T20:49:14.322Z"
   },
   {
    "duration": 8,
    "start_time": "2024-12-13T20:49:14.329Z"
   },
   {
    "duration": 7,
    "start_time": "2024-12-13T20:49:14.339Z"
   },
   {
    "duration": 4,
    "start_time": "2024-12-13T20:49:14.348Z"
   },
   {
    "duration": 14,
    "start_time": "2024-12-13T20:49:14.354Z"
   },
   {
    "duration": 44,
    "start_time": "2024-12-13T20:49:14.369Z"
   },
   {
    "duration": 9,
    "start_time": "2024-12-13T20:49:14.414Z"
   },
   {
    "duration": 8,
    "start_time": "2024-12-13T20:49:14.424Z"
   },
   {
    "duration": 3,
    "start_time": "2024-12-13T20:49:14.433Z"
   },
   {
    "duration": 81,
    "start_time": "2024-12-13T20:49:14.438Z"
   },
   {
    "duration": 3,
    "start_time": "2024-12-13T20:49:14.521Z"
   },
   {
    "duration": 4,
    "start_time": "2024-12-13T20:49:14.526Z"
   },
   {
    "duration": 9,
    "start_time": "2024-12-13T20:49:14.532Z"
   },
   {
    "duration": 9,
    "start_time": "2024-12-13T20:49:14.542Z"
   },
   {
    "duration": 7,
    "start_time": "2024-12-13T20:49:14.553Z"
   },
   {
    "duration": 47,
    "start_time": "2024-12-13T20:49:14.562Z"
   },
   {
    "duration": 7,
    "start_time": "2024-12-13T20:49:14.610Z"
   },
   {
    "duration": 153,
    "start_time": "2024-12-13T20:49:14.619Z"
   },
   {
    "duration": 5,
    "start_time": "2024-12-13T20:49:14.774Z"
   },
   {
    "duration": 18,
    "start_time": "2024-12-13T20:49:14.781Z"
   },
   {
    "duration": 11,
    "start_time": "2024-12-13T20:49:14.801Z"
   },
   {
    "duration": 11,
    "start_time": "2024-12-13T20:49:14.813Z"
   },
   {
    "duration": 96,
    "start_time": "2024-12-13T20:49:14.825Z"
   },
   {
    "duration": 5,
    "start_time": "2024-12-13T20:49:14.923Z"
   },
   {
    "duration": 3,
    "start_time": "2024-12-13T20:49:14.932Z"
   },
   {
    "duration": 10,
    "start_time": "2024-12-13T20:49:14.937Z"
   },
   {
    "duration": 15,
    "start_time": "2024-12-13T20:49:14.948Z"
   },
   {
    "duration": 2,
    "start_time": "2024-12-13T20:49:14.965Z"
   },
   {
    "duration": 641,
    "start_time": "2024-12-13T20:49:14.969Z"
   },
   {
    "duration": 820,
    "start_time": "2024-12-13T20:50:26.211Z"
   },
   {
    "duration": 38,
    "start_time": "2024-12-13T20:50:27.033Z"
   },
   {
    "duration": 14,
    "start_time": "2024-12-13T20:50:27.072Z"
   },
   {
    "duration": 25,
    "start_time": "2024-12-13T20:50:27.087Z"
   },
   {
    "duration": 9,
    "start_time": "2024-12-13T20:50:27.114Z"
   },
   {
    "duration": 416,
    "start_time": "2024-12-13T20:50:27.125Z"
   },
   {
    "duration": 27,
    "start_time": "2024-12-13T20:50:27.542Z"
   },
   {
    "duration": 9,
    "start_time": "2024-12-13T20:50:27.571Z"
   },
   {
    "duration": 27,
    "start_time": "2024-12-13T20:50:27.582Z"
   },
   {
    "duration": 16,
    "start_time": "2024-12-13T20:50:27.611Z"
   },
   {
    "duration": 16,
    "start_time": "2024-12-13T20:50:27.629Z"
   },
   {
    "duration": 14,
    "start_time": "2024-12-13T20:50:27.648Z"
   },
   {
    "duration": 5,
    "start_time": "2024-12-13T20:50:27.664Z"
   },
   {
    "duration": 8,
    "start_time": "2024-12-13T20:50:27.674Z"
   },
   {
    "duration": 43,
    "start_time": "2024-12-13T20:50:27.683Z"
   },
   {
    "duration": 35,
    "start_time": "2024-12-13T20:50:27.728Z"
   },
   {
    "duration": 6,
    "start_time": "2024-12-13T20:50:27.764Z"
   },
   {
    "duration": 9,
    "start_time": "2024-12-13T20:50:27.772Z"
   },
   {
    "duration": 30,
    "start_time": "2024-12-13T20:50:27.783Z"
   },
   {
    "duration": 4,
    "start_time": "2024-12-13T20:50:27.814Z"
   },
   {
    "duration": 14,
    "start_time": "2024-12-13T20:50:27.820Z"
   },
   {
    "duration": 11,
    "start_time": "2024-12-13T20:50:27.835Z"
   },
   {
    "duration": 7,
    "start_time": "2024-12-13T20:50:27.848Z"
   },
   {
    "duration": 9,
    "start_time": "2024-12-13T20:50:27.857Z"
   },
   {
    "duration": 3,
    "start_time": "2024-12-13T20:50:27.867Z"
   },
   {
    "duration": 95,
    "start_time": "2024-12-13T20:50:27.871Z"
   },
   {
    "duration": 4,
    "start_time": "2024-12-13T20:50:27.968Z"
   },
   {
    "duration": 7,
    "start_time": "2024-12-13T20:50:27.974Z"
   },
   {
    "duration": 28,
    "start_time": "2024-12-13T20:50:27.982Z"
   },
   {
    "duration": 8,
    "start_time": "2024-12-13T20:50:28.011Z"
   },
   {
    "duration": 12,
    "start_time": "2024-12-13T20:50:28.020Z"
   },
   {
    "duration": 22,
    "start_time": "2024-12-13T20:50:28.033Z"
   },
   {
    "duration": 154,
    "start_time": "2024-12-13T20:50:28.058Z"
   },
   {
    "duration": 5,
    "start_time": "2024-12-13T20:50:28.214Z"
   },
   {
    "duration": 9,
    "start_time": "2024-12-13T20:50:28.220Z"
   },
   {
    "duration": 14,
    "start_time": "2024-12-13T20:50:28.231Z"
   },
   {
    "duration": 14,
    "start_time": "2024-12-13T20:50:28.246Z"
   },
   {
    "duration": 85,
    "start_time": "2024-12-13T20:50:28.262Z"
   },
   {
    "duration": 5,
    "start_time": "2024-12-13T20:50:28.349Z"
   },
   {
    "duration": 5,
    "start_time": "2024-12-13T20:50:28.355Z"
   },
   {
    "duration": 11,
    "start_time": "2024-12-13T20:50:28.364Z"
   },
   {
    "duration": 35,
    "start_time": "2024-12-13T20:50:28.376Z"
   },
   {
    "duration": 3,
    "start_time": "2024-12-13T20:50:28.413Z"
   },
   {
    "duration": 631,
    "start_time": "2024-12-13T20:50:28.417Z"
   },
   {
    "duration": 840,
    "start_time": "2024-12-13T20:50:47.649Z"
   },
   {
    "duration": 43,
    "start_time": "2024-12-13T20:50:48.492Z"
   },
   {
    "duration": 15,
    "start_time": "2024-12-13T20:50:48.540Z"
   },
   {
    "duration": 16,
    "start_time": "2024-12-13T20:50:48.557Z"
   },
   {
    "duration": 9,
    "start_time": "2024-12-13T20:50:48.576Z"
   },
   {
    "duration": 388,
    "start_time": "2024-12-13T20:50:48.586Z"
   },
   {
    "duration": 33,
    "start_time": "2024-12-13T20:50:48.976Z"
   },
   {
    "duration": 9,
    "start_time": "2024-12-13T20:50:49.010Z"
   },
   {
    "duration": 8,
    "start_time": "2024-12-13T20:50:49.021Z"
   },
   {
    "duration": 13,
    "start_time": "2024-12-13T20:50:49.031Z"
   },
   {
    "duration": 4,
    "start_time": "2024-12-13T20:50:49.045Z"
   },
   {
    "duration": 14,
    "start_time": "2024-12-13T20:50:49.051Z"
   },
   {
    "duration": 6,
    "start_time": "2024-12-13T20:50:49.066Z"
   },
   {
    "duration": 40,
    "start_time": "2024-12-13T20:50:49.075Z"
   },
   {
    "duration": 18,
    "start_time": "2024-12-13T20:50:49.117Z"
   },
   {
    "duration": 34,
    "start_time": "2024-12-13T20:50:49.137Z"
   },
   {
    "duration": 6,
    "start_time": "2024-12-13T20:50:49.173Z"
   },
   {
    "duration": 33,
    "start_time": "2024-12-13T20:50:49.181Z"
   },
   {
    "duration": 8,
    "start_time": "2024-12-13T20:50:49.216Z"
   },
   {
    "duration": 4,
    "start_time": "2024-12-13T20:50:49.226Z"
   },
   {
    "duration": 12,
    "start_time": "2024-12-13T20:50:49.232Z"
   },
   {
    "duration": 10,
    "start_time": "2024-12-13T20:50:49.246Z"
   },
   {
    "duration": 8,
    "start_time": "2024-12-13T20:50:49.257Z"
   },
   {
    "duration": 44,
    "start_time": "2024-12-13T20:50:49.266Z"
   },
   {
    "duration": 584,
    "start_time": "2024-12-13T20:50:49.311Z"
   },
   {
    "duration": 0,
    "start_time": "2024-12-13T20:50:49.897Z"
   },
   {
    "duration": 0,
    "start_time": "2024-12-13T20:50:49.898Z"
   },
   {
    "duration": 0,
    "start_time": "2024-12-13T20:50:49.899Z"
   },
   {
    "duration": 0,
    "start_time": "2024-12-13T20:50:49.909Z"
   },
   {
    "duration": 0,
    "start_time": "2024-12-13T20:50:49.910Z"
   },
   {
    "duration": 0,
    "start_time": "2024-12-13T20:50:49.912Z"
   },
   {
    "duration": 0,
    "start_time": "2024-12-13T20:50:49.913Z"
   },
   {
    "duration": 0,
    "start_time": "2024-12-13T20:50:49.915Z"
   },
   {
    "duration": 0,
    "start_time": "2024-12-13T20:50:49.916Z"
   },
   {
    "duration": 0,
    "start_time": "2024-12-13T20:50:49.918Z"
   },
   {
    "duration": 0,
    "start_time": "2024-12-13T20:50:49.919Z"
   },
   {
    "duration": 0,
    "start_time": "2024-12-13T20:50:49.921Z"
   },
   {
    "duration": 0,
    "start_time": "2024-12-13T20:50:49.922Z"
   },
   {
    "duration": 0,
    "start_time": "2024-12-13T20:50:49.923Z"
   },
   {
    "duration": 0,
    "start_time": "2024-12-13T20:50:49.925Z"
   },
   {
    "duration": 0,
    "start_time": "2024-12-13T20:50:49.926Z"
   },
   {
    "duration": 0,
    "start_time": "2024-12-13T20:50:49.927Z"
   },
   {
    "duration": 0,
    "start_time": "2024-12-13T20:50:49.928Z"
   },
   {
    "duration": 0,
    "start_time": "2024-12-13T20:50:49.929Z"
   },
   {
    "duration": 12,
    "start_time": "2024-12-13T20:52:08.230Z"
   },
   {
    "duration": 32,
    "start_time": "2024-12-13T20:52:13.453Z"
   },
   {
    "duration": 26,
    "start_time": "2024-12-13T20:54:49.524Z"
   },
   {
    "duration": 3,
    "start_time": "2024-12-13T20:55:56.205Z"
   },
   {
    "duration": 9,
    "start_time": "2024-12-13T20:56:09.459Z"
   },
   {
    "duration": 128,
    "start_time": "2024-12-13T20:56:19.508Z"
   },
   {
    "duration": 3,
    "start_time": "2024-12-13T20:56:23.324Z"
   },
   {
    "duration": 837,
    "start_time": "2024-12-13T20:56:33.450Z"
   },
   {
    "duration": 43,
    "start_time": "2024-12-13T20:56:34.289Z"
   },
   {
    "duration": 15,
    "start_time": "2024-12-13T20:56:34.333Z"
   },
   {
    "duration": 14,
    "start_time": "2024-12-13T20:56:34.349Z"
   },
   {
    "duration": 10,
    "start_time": "2024-12-13T20:56:34.365Z"
   },
   {
    "duration": 377,
    "start_time": "2024-12-13T20:56:34.377Z"
   },
   {
    "duration": 27,
    "start_time": "2024-12-13T20:56:34.757Z"
   },
   {
    "duration": 9,
    "start_time": "2024-12-13T20:56:34.785Z"
   },
   {
    "duration": 9,
    "start_time": "2024-12-13T20:56:34.809Z"
   },
   {
    "duration": 12,
    "start_time": "2024-12-13T20:56:34.820Z"
   },
   {
    "duration": 4,
    "start_time": "2024-12-13T20:56:34.834Z"
   },
   {
    "duration": 13,
    "start_time": "2024-12-13T20:56:34.840Z"
   },
   {
    "duration": 5,
    "start_time": "2024-12-13T20:56:34.855Z"
   },
   {
    "duration": 8,
    "start_time": "2024-12-13T20:56:34.865Z"
   },
   {
    "duration": 55,
    "start_time": "2024-12-13T20:56:34.874Z"
   },
   {
    "duration": 39,
    "start_time": "2024-12-13T20:56:34.931Z"
   },
   {
    "duration": 5,
    "start_time": "2024-12-13T20:56:34.972Z"
   },
   {
    "duration": 30,
    "start_time": "2024-12-13T20:56:34.979Z"
   },
   {
    "duration": 8,
    "start_time": "2024-12-13T20:56:35.010Z"
   },
   {
    "duration": 4,
    "start_time": "2024-12-13T20:56:35.020Z"
   },
   {
    "duration": 17,
    "start_time": "2024-12-13T20:56:35.026Z"
   },
   {
    "duration": 3,
    "start_time": "2024-12-13T20:56:35.044Z"
   },
   {
    "duration": 8,
    "start_time": "2024-12-13T20:56:35.049Z"
   },
   {
    "duration": 87,
    "start_time": "2024-12-13T20:56:35.059Z"
   },
   {
    "duration": 4,
    "start_time": "2024-12-13T20:56:35.147Z"
   },
   {
    "duration": 8,
    "start_time": "2024-12-13T20:56:35.153Z"
   },
   {
    "duration": 11,
    "start_time": "2024-12-13T20:56:35.163Z"
   },
   {
    "duration": 38,
    "start_time": "2024-12-13T20:56:35.175Z"
   },
   {
    "duration": 13,
    "start_time": "2024-12-13T20:56:35.214Z"
   },
   {
    "duration": 8,
    "start_time": "2024-12-13T20:56:35.229Z"
   },
   {
    "duration": 152,
    "start_time": "2024-12-13T20:56:35.238Z"
   },
   {
    "duration": 5,
    "start_time": "2024-12-13T20:56:35.392Z"
   },
   {
    "duration": 13,
    "start_time": "2024-12-13T20:56:35.398Z"
   },
   {
    "duration": 8,
    "start_time": "2024-12-13T20:56:35.413Z"
   },
   {
    "duration": 10,
    "start_time": "2024-12-13T20:56:35.423Z"
   },
   {
    "duration": 96,
    "start_time": "2024-12-13T20:56:35.434Z"
   },
   {
    "duration": 5,
    "start_time": "2024-12-13T20:56:35.531Z"
   },
   {
    "duration": 4,
    "start_time": "2024-12-13T20:56:35.537Z"
   },
   {
    "duration": 10,
    "start_time": "2024-12-13T20:56:35.543Z"
   },
   {
    "duration": 16,
    "start_time": "2024-12-13T20:56:35.554Z"
   },
   {
    "duration": 3,
    "start_time": "2024-12-13T20:56:35.574Z"
   },
   {
    "duration": 30,
    "start_time": "2024-12-13T20:56:35.579Z"
   },
   {
    "duration": 2,
    "start_time": "2024-12-13T20:56:49.954Z"
   },
   {
    "duration": 3,
    "start_time": "2024-12-13T20:57:33.534Z"
   },
   {
    "duration": 5,
    "start_time": "2024-12-13T20:58:27.691Z"
   },
   {
    "duration": 4,
    "start_time": "2024-12-13T21:12:17.815Z"
   },
   {
    "duration": 10,
    "start_time": "2024-12-13T21:12:25.064Z"
   },
   {
    "duration": 1169,
    "start_time": "2024-12-13T21:12:51.488Z"
   },
   {
    "duration": 4,
    "start_time": "2024-12-13T21:13:11.259Z"
   },
   {
    "duration": 3,
    "start_time": "2024-12-13T21:14:16.878Z"
   },
   {
    "duration": 15,
    "start_time": "2024-12-13T21:15:42.130Z"
   },
   {
    "duration": 67,
    "start_time": "2024-12-13T21:15:52.960Z"
   },
   {
    "duration": 16,
    "start_time": "2024-12-13T21:19:58.641Z"
   },
   {
    "duration": 3,
    "start_time": "2024-12-13T21:21:18.546Z"
   },
   {
    "duration": 2,
    "start_time": "2024-12-13T21:22:00.666Z"
   },
   {
    "duration": 14,
    "start_time": "2024-12-13T21:22:58.304Z"
   },
   {
    "duration": 3,
    "start_time": "2024-12-13T21:23:04.999Z"
   },
   {
    "duration": 3,
    "start_time": "2024-12-13T21:23:12.267Z"
   },
   {
    "duration": 56,
    "start_time": "2024-12-13T21:23:21.671Z"
   },
   {
    "duration": 6,
    "start_time": "2024-12-13T21:23:36.038Z"
   },
   {
    "duration": 18,
    "start_time": "2024-12-13T21:23:50.315Z"
   },
   {
    "duration": 8,
    "start_time": "2024-12-13T21:24:12.786Z"
   },
   {
    "duration": 24,
    "start_time": "2024-12-13T21:24:22.430Z"
   },
   {
    "duration": 3,
    "start_time": "2024-12-13T21:25:09.506Z"
   },
   {
    "duration": 3,
    "start_time": "2024-12-13T21:25:25.335Z"
   },
   {
    "duration": 3,
    "start_time": "2024-12-13T21:25:43.159Z"
   },
   {
    "duration": 3,
    "start_time": "2024-12-13T21:25:50.788Z"
   },
   {
    "duration": 18,
    "start_time": "2024-12-13T21:25:52.180Z"
   },
   {
    "duration": 6,
    "start_time": "2024-12-13T21:26:22.888Z"
   },
   {
    "duration": 18,
    "start_time": "2024-12-13T21:26:32.229Z"
   },
   {
    "duration": 3,
    "start_time": "2024-12-13T21:26:59.691Z"
   },
   {
    "duration": 3,
    "start_time": "2024-12-13T21:27:07.301Z"
   },
   {
    "duration": 4,
    "start_time": "2024-12-13T21:27:08.258Z"
   },
   {
    "duration": 7,
    "start_time": "2024-12-13T21:31:09.928Z"
   },
   {
    "duration": 4,
    "start_time": "2024-12-13T21:33:51.193Z"
   },
   {
    "duration": 838,
    "start_time": "2024-12-13T21:34:00.737Z"
   },
   {
    "duration": 44,
    "start_time": "2024-12-13T21:34:01.577Z"
   },
   {
    "duration": 14,
    "start_time": "2024-12-13T21:34:01.622Z"
   },
   {
    "duration": 13,
    "start_time": "2024-12-13T21:34:01.638Z"
   },
   {
    "duration": 9,
    "start_time": "2024-12-13T21:34:01.653Z"
   },
   {
    "duration": 397,
    "start_time": "2024-12-13T21:34:01.664Z"
   },
   {
    "duration": 27,
    "start_time": "2024-12-13T21:34:02.062Z"
   },
   {
    "duration": 9,
    "start_time": "2024-12-13T21:34:02.090Z"
   },
   {
    "duration": 9,
    "start_time": "2024-12-13T21:34:02.110Z"
   },
   {
    "duration": 13,
    "start_time": "2024-12-13T21:34:02.120Z"
   },
   {
    "duration": 4,
    "start_time": "2024-12-13T21:34:02.135Z"
   },
   {
    "duration": 15,
    "start_time": "2024-12-13T21:34:02.140Z"
   },
   {
    "duration": 5,
    "start_time": "2024-12-13T21:34:02.157Z"
   },
   {
    "duration": 44,
    "start_time": "2024-12-13T21:34:02.167Z"
   },
   {
    "duration": 18,
    "start_time": "2024-12-13T21:34:02.213Z"
   },
   {
    "duration": 34,
    "start_time": "2024-12-13T21:34:02.233Z"
   },
   {
    "duration": 6,
    "start_time": "2024-12-13T21:34:02.269Z"
   },
   {
    "duration": 8,
    "start_time": "2024-12-13T21:34:02.276Z"
   },
   {
    "duration": 31,
    "start_time": "2024-12-13T21:34:02.285Z"
   },
   {
    "duration": 4,
    "start_time": "2024-12-13T21:34:02.317Z"
   },
   {
    "duration": 19,
    "start_time": "2024-12-13T21:34:02.322Z"
   },
   {
    "duration": 2,
    "start_time": "2024-12-13T21:34:02.343Z"
   },
   {
    "duration": 7,
    "start_time": "2024-12-13T21:34:02.348Z"
   },
   {
    "duration": 91,
    "start_time": "2024-12-13T21:34:02.357Z"
   },
   {
    "duration": 4,
    "start_time": "2024-12-13T21:34:02.450Z"
   },
   {
    "duration": 12,
    "start_time": "2024-12-13T21:34:02.455Z"
   },
   {
    "duration": 11,
    "start_time": "2024-12-13T21:34:02.468Z"
   },
   {
    "duration": 28,
    "start_time": "2024-12-13T21:34:02.481Z"
   },
   {
    "duration": 12,
    "start_time": "2024-12-13T21:34:02.511Z"
   },
   {
    "duration": 7,
    "start_time": "2024-12-13T21:34:02.525Z"
   },
   {
    "duration": 150,
    "start_time": "2024-12-13T21:34:02.533Z"
   },
   {
    "duration": 7,
    "start_time": "2024-12-13T21:34:02.686Z"
   },
   {
    "duration": 4,
    "start_time": "2024-12-13T21:34:02.695Z"
   },
   {
    "duration": 9,
    "start_time": "2024-12-13T21:34:02.709Z"
   },
   {
    "duration": 9,
    "start_time": "2024-12-13T21:34:02.720Z"
   },
   {
    "duration": 99,
    "start_time": "2024-12-13T21:34:02.731Z"
   },
   {
    "duration": 5,
    "start_time": "2024-12-13T21:34:02.832Z"
   },
   {
    "duration": 3,
    "start_time": "2024-12-13T21:34:02.838Z"
   },
   {
    "duration": 11,
    "start_time": "2024-12-13T21:34:02.843Z"
   },
   {
    "duration": 16,
    "start_time": "2024-12-13T21:34:02.855Z"
   },
   {
    "duration": 248,
    "start_time": "2024-12-13T21:34:02.875Z"
   },
   {
    "duration": 0,
    "start_time": "2024-12-13T21:34:03.125Z"
   },
   {
    "duration": 0,
    "start_time": "2024-12-13T21:34:03.126Z"
   },
   {
    "duration": 0,
    "start_time": "2024-12-13T21:34:03.128Z"
   },
   {
    "duration": 0,
    "start_time": "2024-12-13T21:34:03.129Z"
   },
   {
    "duration": 0,
    "start_time": "2024-12-13T21:34:03.131Z"
   },
   {
    "duration": 0,
    "start_time": "2024-12-13T21:34:03.132Z"
   },
   {
    "duration": 0,
    "start_time": "2024-12-13T21:34:03.133Z"
   },
   {
    "duration": 15,
    "start_time": "2024-12-13T21:34:20.880Z"
   },
   {
    "duration": 3,
    "start_time": "2024-12-13T21:34:25.072Z"
   },
   {
    "duration": 14,
    "start_time": "2024-12-13T21:34:40.705Z"
   },
   {
    "duration": 14,
    "start_time": "2024-12-13T21:34:54.480Z"
   },
   {
    "duration": 4,
    "start_time": "2024-12-13T21:35:14.385Z"
   },
   {
    "duration": 14,
    "start_time": "2024-12-13T21:35:15.329Z"
   },
   {
    "duration": 4,
    "start_time": "2024-12-13T21:35:25.222Z"
   },
   {
    "duration": 8,
    "start_time": "2024-12-13T21:35:33.941Z"
   },
   {
    "duration": 14,
    "start_time": "2024-12-13T21:36:10.852Z"
   },
   {
    "duration": 4,
    "start_time": "2024-12-13T23:30:11.498Z"
   },
   {
    "duration": 15,
    "start_time": "2024-12-13T23:30:58.684Z"
   },
   {
    "duration": 15,
    "start_time": "2024-12-13T23:31:41.467Z"
   },
   {
    "duration": 4,
    "start_time": "2024-12-13T23:32:27.240Z"
   },
   {
    "duration": 4,
    "start_time": "2024-12-13T23:32:33.814Z"
   },
   {
    "duration": 16,
    "start_time": "2024-12-13T23:33:07.799Z"
   },
   {
    "duration": 93,
    "start_time": "2024-12-13T23:33:12.382Z"
   },
   {
    "duration": 4,
    "start_time": "2024-12-13T23:34:32.955Z"
   },
   {
    "duration": 4,
    "start_time": "2024-12-13T23:34:44.214Z"
   },
   {
    "duration": 16,
    "start_time": "2024-12-13T23:35:48.773Z"
   },
   {
    "duration": 10,
    "start_time": "2024-12-13T23:35:58.047Z"
   },
   {
    "duration": 20,
    "start_time": "2024-12-13T23:36:26.291Z"
   },
   {
    "duration": 9,
    "start_time": "2024-12-13T23:36:48.364Z"
   },
   {
    "duration": 5,
    "start_time": "2024-12-13T23:39:54.449Z"
   },
   {
    "duration": 463,
    "start_time": "2024-12-13T23:40:06.917Z"
   },
   {
    "duration": 13,
    "start_time": "2024-12-13T23:40:21.185Z"
   },
   {
    "duration": 9,
    "start_time": "2024-12-13T23:40:26.500Z"
   },
   {
    "duration": 2,
    "start_time": "2024-12-13T23:40:45.731Z"
   },
   {
    "duration": 3,
    "start_time": "2024-12-13T23:41:07.950Z"
   },
   {
    "duration": 2,
    "start_time": "2024-12-13T23:41:12.684Z"
   },
   {
    "duration": 16,
    "start_time": "2024-12-13T23:41:20.720Z"
   },
   {
    "duration": 5,
    "start_time": "2024-12-13T23:41:24.817Z"
   },
   {
    "duration": 19,
    "start_time": "2024-12-13T23:41:28.258Z"
   },
   {
    "duration": 3,
    "start_time": "2024-12-13T23:41:36.301Z"
   },
   {
    "duration": 3,
    "start_time": "2024-12-13T23:41:44.705Z"
   },
   {
    "duration": 8,
    "start_time": "2024-12-13T23:41:48.802Z"
   },
   {
    "duration": 3,
    "start_time": "2024-12-13T23:42:35.392Z"
   },
   {
    "duration": 10,
    "start_time": "2024-12-13T23:42:41.717Z"
   },
   {
    "duration": 11,
    "start_time": "2024-12-13T23:46:42.978Z"
   },
   {
    "duration": 45,
    "start_time": "2024-12-13T23:49:26.114Z"
   },
   {
    "duration": 7,
    "start_time": "2024-12-13T23:49:38.150Z"
   },
   {
    "duration": 7,
    "start_time": "2024-12-13T23:50:36.845Z"
   },
   {
    "duration": 9,
    "start_time": "2024-12-14T00:07:18.980Z"
   },
   {
    "duration": 612,
    "start_time": "2024-12-14T00:08:33.382Z"
   },
   {
    "duration": 8,
    "start_time": "2024-12-14T00:09:13.293Z"
   },
   {
    "duration": 8,
    "start_time": "2024-12-14T00:10:52.068Z"
   },
   {
    "duration": 5,
    "start_time": "2024-12-14T00:11:21.118Z"
   },
   {
    "duration": 6,
    "start_time": "2024-12-14T00:11:43.799Z"
   },
   {
    "duration": 4,
    "start_time": "2024-12-14T00:11:54.279Z"
   },
   {
    "duration": 4,
    "start_time": "2024-12-14T00:13:12.776Z"
   },
   {
    "duration": 5,
    "start_time": "2024-12-14T00:25:13.645Z"
   },
   {
    "duration": 4,
    "start_time": "2024-12-14T00:25:23.021Z"
   },
   {
    "duration": 4,
    "start_time": "2024-12-14T00:25:30.414Z"
   },
   {
    "duration": 5,
    "start_time": "2024-12-14T00:25:39.225Z"
   },
   {
    "duration": 15,
    "start_time": "2024-12-14T00:26:52.823Z"
   },
   {
    "duration": 4,
    "start_time": "2024-12-14T00:27:20.745Z"
   },
   {
    "duration": 67,
    "start_time": "2024-12-14T00:36:14.559Z"
   },
   {
    "duration": 70,
    "start_time": "2024-12-14T00:36:19.326Z"
   },
   {
    "duration": 931,
    "start_time": "2024-12-14T20:42:01.679Z"
   },
   {
    "duration": 60,
    "start_time": "2024-12-14T20:42:02.612Z"
   },
   {
    "duration": 13,
    "start_time": "2024-12-14T20:42:02.674Z"
   },
   {
    "duration": 13,
    "start_time": "2024-12-14T20:42:02.689Z"
   },
   {
    "duration": 10,
    "start_time": "2024-12-14T20:42:02.704Z"
   },
   {
    "duration": 390,
    "start_time": "2024-12-14T20:42:02.715Z"
   },
   {
    "duration": 26,
    "start_time": "2024-12-14T20:42:03.107Z"
   },
   {
    "duration": 9,
    "start_time": "2024-12-14T20:42:03.143Z"
   },
   {
    "duration": 9,
    "start_time": "2024-12-14T20:42:03.154Z"
   },
   {
    "duration": 13,
    "start_time": "2024-12-14T20:42:03.164Z"
   },
   {
    "duration": 3,
    "start_time": "2024-12-14T20:42:03.179Z"
   },
   {
    "duration": 15,
    "start_time": "2024-12-14T20:42:03.184Z"
   },
   {
    "duration": 5,
    "start_time": "2024-12-14T20:42:03.200Z"
   },
   {
    "duration": 9,
    "start_time": "2024-12-14T20:42:03.246Z"
   },
   {
    "duration": 21,
    "start_time": "2024-12-14T20:42:03.257Z"
   },
   {
    "duration": 34,
    "start_time": "2024-12-14T20:42:03.280Z"
   },
   {
    "duration": 27,
    "start_time": "2024-12-14T20:42:03.316Z"
   },
   {
    "duration": 8,
    "start_time": "2024-12-14T20:42:03.345Z"
   },
   {
    "duration": 8,
    "start_time": "2024-12-14T20:42:03.355Z"
   },
   {
    "duration": 3,
    "start_time": "2024-12-14T20:42:03.365Z"
   },
   {
    "duration": 17,
    "start_time": "2024-12-14T20:42:03.370Z"
   },
   {
    "duration": 3,
    "start_time": "2024-12-14T20:42:03.389Z"
   },
   {
    "duration": 8,
    "start_time": "2024-12-14T20:42:03.393Z"
   },
   {
    "duration": 95,
    "start_time": "2024-12-14T20:42:03.403Z"
   },
   {
    "duration": 4,
    "start_time": "2024-12-14T20:42:03.500Z"
   },
   {
    "duration": 8,
    "start_time": "2024-12-14T20:42:03.506Z"
   },
   {
    "duration": 31,
    "start_time": "2024-12-14T20:42:03.517Z"
   },
   {
    "duration": 7,
    "start_time": "2024-12-14T20:42:03.550Z"
   },
   {
    "duration": 11,
    "start_time": "2024-12-14T20:42:03.559Z"
   },
   {
    "duration": 8,
    "start_time": "2024-12-14T20:42:03.573Z"
   },
   {
    "duration": 151,
    "start_time": "2024-12-14T20:42:03.582Z"
   },
   {
    "duration": 9,
    "start_time": "2024-12-14T20:42:03.735Z"
   },
   {
    "duration": 4,
    "start_time": "2024-12-14T20:42:03.745Z"
   },
   {
    "duration": 9,
    "start_time": "2024-12-14T20:42:03.751Z"
   },
   {
    "duration": 7,
    "start_time": "2024-12-14T20:42:03.761Z"
   },
   {
    "duration": 10,
    "start_time": "2024-12-14T20:42:03.770Z"
   },
   {
    "duration": 109,
    "start_time": "2024-12-14T20:42:03.781Z"
   },
   {
    "duration": 5,
    "start_time": "2024-12-14T20:42:03.891Z"
   },
   {
    "duration": 4,
    "start_time": "2024-12-14T20:42:03.898Z"
   },
   {
    "duration": 11,
    "start_time": "2024-12-14T20:42:03.903Z"
   },
   {
    "duration": 38,
    "start_time": "2024-12-14T20:42:03.919Z"
   },
   {
    "duration": 4,
    "start_time": "2024-12-14T20:42:03.959Z"
   },
   {
    "duration": 3,
    "start_time": "2024-12-14T20:42:03.965Z"
   },
   {
    "duration": 11,
    "start_time": "2024-12-14T20:42:03.970Z"
   },
   {
    "duration": 4,
    "start_time": "2024-12-14T20:42:03.983Z"
   },
   {
    "duration": 9,
    "start_time": "2024-12-14T20:42:03.988Z"
   },
   {
    "duration": 6,
    "start_time": "2024-12-14T20:42:03.998Z"
   },
   {
    "duration": 38,
    "start_time": "2024-12-14T20:42:04.006Z"
   },
   {
    "duration": 4,
    "start_time": "2024-12-14T20:42:04.045Z"
   },
   {
    "duration": 7,
    "start_time": "2024-12-14T20:42:04.051Z"
   },
   {
    "duration": 5,
    "start_time": "2024-12-14T20:42:04.059Z"
   },
   {
    "duration": 4,
    "start_time": "2024-12-14T20:42:04.065Z"
   }
  ],
  "kernelspec": {
   "display_name": "Python 3 (ipykernel)",
   "language": "python",
   "name": "python3"
  },
  "language_info": {
   "codemirror_mode": {
    "name": "ipython",
    "version": 3
   },
   "file_extension": ".py",
   "mimetype": "text/x-python",
   "name": "python",
   "nbconvert_exporter": "python",
   "pygments_lexer": "ipython3",
   "version": "3.9.19"
  },
  "toc": {
   "base_numbering": 1,
   "nav_menu": {},
   "number_sections": true,
   "sideBar": true,
   "skip_h1_title": true,
   "title_cell": "Table of Contents",
   "title_sidebar": "Contents",
   "toc_cell": false,
   "toc_position": {},
   "toc_section_display": true,
   "toc_window_display": false
  }
 },
 "nbformat": 4,
 "nbformat_minor": 2
}
